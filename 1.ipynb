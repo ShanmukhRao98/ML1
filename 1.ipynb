{
 "cells": [
  {
   "cell_type": "markdown",
   "metadata": {},
   "source": [
    "# Assignment 1\n",
    "\n",
    " Yogendra Singh 214161014<br>\n",
    " M Shanmukh Rao 214161004"
   ]
  },
  {
   "cell_type": "markdown",
   "metadata": {},
   "source": [
    "<b>Q1. Print 'Hello World!'.<b>"
   ]
  },
  {
   "cell_type": "code",
   "execution_count": 1,
   "metadata": {},
   "outputs": [
    {
     "name": "stdout",
     "output_type": "stream",
     "text": [
      "Hello World!\n"
     ]
    }
   ],
   "source": [
    "print(\"Hello World!\")"
   ]
  },
  {
   "cell_type": "markdown",
   "metadata": {},
   "source": [
    "<b>Q2. User input two numbers a and b. Perform the following algebraic operations c = a+b, d= a-b, e= a*b, f=a/b and g=a%b and print their results.<b>"
   ]
  },
  {
   "cell_type": "code",
   "execution_count": 2,
   "metadata": {},
   "outputs": [
    {
     "name": "stdout",
     "output_type": "stream",
     "text": [
      "Enter the value of a: 6\n",
      "Enter the value of b: 3\n",
      "\n",
      "Results\n",
      "a+b:  9 \n",
      "a-b:  3 \n",
      "a*b:  18 \n",
      "a/b:  2.0 \n",
      "a%b:  0\n"
     ]
    }
   ],
   "source": [
    "a = int(input(\"Enter the value of a: \"))\n",
    "b = int(input(\"Enter the value of b: \"))\n",
    "while b==0:\n",
    "    print(\"Invalid input for b(division by zero is not poosible)\\n\")\n",
    "    b=int(input(\"Enter a valid input: \"))\n",
    "c = a+b\n",
    "d = a-b\n",
    "e = a*b\n",
    "f = a/b\n",
    "g = a%b\n",
    "print(\"\\nResults\\na+b: \",c,\"\\na-b: \",d,\"\\na*b: \",e,\"\\na/b: \",f,\"\\na%b: \",g)"
   ]
  },
  {
   "cell_type": "markdown",
   "metadata": {},
   "source": [
    "<b>Q3. Print the factorial of a positive number 'a' given as a user input.<b>"
   ]
  },
  {
   "cell_type": "code",
   "execution_count": 3,
   "metadata": {},
   "outputs": [
    {
     "name": "stdout",
     "output_type": "stream",
     "text": [
      "Enter the value: 5\n",
      "Factorial of 5 : 120\n"
     ]
    }
   ],
   "source": [
    "a = int(input(\"Enter the value: \"))\n",
    "while a<0:\n",
    "    a=int(input(\"Invalid input,Enter a positive number\"))\n",
    "b=a\n",
    "fact = 1\n",
    "while a>0:\n",
    "    fact = fact * a\n",
    "    a = a-1\n",
    "print(\"Factorial of\",b,\":\",fact)"
   ]
  },
  {
   "cell_type": "markdown",
   "metadata": {},
   "source": [
    "<b>Q4. Write a function to print all prime numbers in an interval [a,b]. Interval is to be obtained as a user input.<b>"
   ]
  },
  {
   "cell_type": "code",
   "execution_count": 1,
   "metadata": {},
   "outputs": [
    {
     "name": "stdout",
     "output_type": "stream",
     "text": [
      "Enter the start point of the interval: 5\n",
      "Enter the end point of the interval: 32\n",
      "\n",
      "Prime numbers in the given range: \n",
      "5 7 11 13 17 19 23 29 31 "
     ]
    }
   ],
   "source": [
    "def getPrime():\n",
    "    a = int(input(\"Enter the start point of the interval: \"))\n",
    "    b = int(input(\"Enter the end point of the interval: \"))\n",
    "    c=0\n",
    "    print(\"\\nPrime numbers in the given range: \")\n",
    "    for num in range(a,b+1):\n",
    "        if num > 1:\n",
    "            for i in range(2,num):\n",
    "                if num%i==0:\n",
    "                    break\n",
    "            else:\n",
    "                print(num,end=' ')\n",
    "                c=c+1\n",
    "    if(c==0):\n",
    "        print(\"No prime numbers in the given range!\")\n",
    "getPrime()"
   ]
  },
  {
   "cell_type": "markdown",
   "metadata": {},
   "source": [
    "<b>Q5. User input two numbers a and b. Print their lowest common multiple (LCM).<b>"
   ]
  },
  {
   "cell_type": "code",
   "execution_count": 5,
   "metadata": {},
   "outputs": [
    {
     "name": "stdout",
     "output_type": "stream",
     "text": [
      "Enter the value of a: 2\n",
      "Enter the value of b: 3\n",
      "LCM of 2 and 3 is 6\n"
     ]
    }
   ],
   "source": [
    "a = int(input(\"Enter the value of a: \"))\n",
    "b = int(input(\"Enter the value of b: \"))\n",
    "if a>b:\n",
    "    higher=a\n",
    "else:\n",
    "    higher=b\n",
    "temp=higher\n",
    "while True:\n",
    "    if(higher%a==0 and higher%b==0):\n",
    "        print(\"LCM of\",a,\"and\",b,\"is\",higher)\n",
    "        break\n",
    "    else:\n",
    "        higher = higher+temp"
   ]
  },
  {
   "cell_type": "markdown",
   "metadata": {},
   "source": [
    "<b>Q6. Create a list of length n = 15. Sort in descending order and print the sorted list as well as the sorted indices. Use bubble sort algorithm.<b>"
   ]
  },
  {
   "cell_type": "code",
   "execution_count": 6,
   "metadata": {},
   "outputs": [
    {
     "name": "stdout",
     "output_type": "stream",
     "text": [
      "Unsorted list: [8, 4, 83, 77, 71, 49, 1, 59, 72, 52, 19, 78, 41, 30, 74]\n",
      "Sorted list:  83 78 77 74 72 71 59 52 49 41 30 19 8 4 1 \n",
      "Sorted indices:  2 11 3 14 8 4 7 9 5 12 13 10 0 1 6 "
     ]
    }
   ],
   "source": [
    "def bubbleSortD(list1):\n",
    "    for i in range(len(list1)-1,0,-1):\n",
    "        for j in range(i):\n",
    "            if list1[j]<list1[j+1]:\n",
    "                temp=list1[j]\n",
    "                list1[j]=list1[j+1]\n",
    "                list1[j+1]=temp\n",
    "    print(\"Sorted list: \",end=' ')\n",
    "    for i in list1:\n",
    "        print(i[0],end=' ')\n",
    "    print(\"\\nSorted indices: \",end=' ')\n",
    "    for i in list1:\n",
    "        print(i[1],end=' ')\n",
    "\n",
    "import random\n",
    "s = random.sample(range(0,100),15)\n",
    "l = []\n",
    "\n",
    "for i in range(len(s)):\n",
    "    l.append([s[i],i])\n",
    "print(\"Unsorted list:\",s)\n",
    "bubbleSortD(l)"
   ]
  },
  {
   "cell_type": "markdown",
   "metadata": {},
   "source": [
    "<b>Q7. Repeat the previous program for sorting in ascending order. Use numpy array instead of list.<b>"
   ]
  },
  {
   "cell_type": "code",
   "execution_count": 7,
   "metadata": {},
   "outputs": [
    {
     "name": "stdout",
     "output_type": "stream",
     "text": [
      "Unsorted list: [ 63  18  27  79  55  49  86  20  56  65  91  11  54  34 100]\n",
      "Sorted list:  11 18 20 27 34 49 54 55 56 63 65 79 86 91 100 \n",
      "Sorted indices:  11 1 7 2 13 5 12 4 8 0 9 3 6 10 14 "
     ]
    }
   ],
   "source": [
    "import numpy as np\n",
    "import random\n",
    "def bubbleSortA(list1):\n",
    "    for i in range(len(list1)-1,0,-1):\n",
    "        for j in range(i):\n",
    "            if list1[j]>list1[j+1]:\n",
    "                temp=list1[j]\n",
    "                list1[j]=list1[j+1]\n",
    "                list1[j+1]=temp\n",
    "    print(\"Sorted list: \",end=' ')\n",
    "    for i in list1:\n",
    "        print(i[0],end=' ')\n",
    "    print(\"\\nSorted indices: \",end=' ')\n",
    "    for i in list1:\n",
    "        print(i[1],end=' ')\n",
    "arr = np.random.randint(101,size=15)\n",
    "l1 =[]\n",
    "for i in range(len(arr)):\n",
    "    l1.append([arr[i],i])\n",
    "print(\"Unsorted list:\",arr)\n",
    "bubbleSortA(l1)"
   ]
  },
  {
   "cell_type": "markdown",
   "metadata": {},
   "source": [
    "<b>Q8. Print a matrix M ∈ Rm×n having random values in the given range [ -2, 5 ]. m and n are to be given as a user input.<b>"
   ]
  },
  {
   "cell_type": "code",
   "execution_count": 8,
   "metadata": {},
   "outputs": [
    {
     "name": "stdout",
     "output_type": "stream",
     "text": [
      "Enter the number of rows: 3\n",
      "Enter the number of columns: 3\n",
      "[[ 0  1  5]\n",
      " [ 1  2  0]\n",
      " [-1  1 -1]]\n"
     ]
    }
   ],
   "source": [
    "import numpy as np\n",
    "m = int(input(\"Enter the number of rows: \"))\n",
    "n = int(input(\"Enter the number of columns: \"))\n",
    "mat = np.random.randint(low=-2,high=6,size=(m,n))\n",
    "print(mat)"
   ]
  },
  {
   "cell_type": "markdown",
   "metadata": {},
   "source": [
    "<b>Q9. Program to multiply two random matrices M1 ∈ Rm×n, M2 ∈ Rn×p(Don't use built-in functions). Compare the result obtained with the built-in\n",
    "function.<b>"
   ]
  },
  {
   "cell_type": "code",
   "execution_count": 9,
   "metadata": {},
   "outputs": [
    {
     "name": "stdout",
     "output_type": "stream",
     "text": [
      "Enter the number of rows of M1: 2\n",
      "Enter the number of columns of M1: 3\n",
      "Enter the number of rows of M2: 3\n",
      "Enter the number of columns of M2: 2\n",
      "\n",
      "Result:\n",
      "\n",
      "[[66. 49.]\n",
      " [32. 37.]]\n",
      "\n",
      "Result using built-in functions:\n",
      "\n",
      "[[66 49]\n",
      " [32 37]]\n"
     ]
    }
   ],
   "source": [
    "import numpy as np\n",
    "\n",
    "m1 = int(input(\"Enter the number of rows of M1: \"))\n",
    "n1 = int(input(\"Enter the number of columns of M1: \"))\n",
    "m2 = int(input(\"Enter the number of rows of M2: \"))\n",
    "while m2!=n1:\n",
    "    m2 = int(input(\"Enter a valid input\\nNo.of columns of M1 and No.of rows of M2 must match: \"))\n",
    "n2 = int(input(\"Enter the number of columns of M2: \"))\n",
    "M1 = np.random.randint(10,size=(m1,n1))\n",
    "M2 = np.random.randint(10,size=(m2,n2))\n",
    "M = np.zeros((m1,n2))\n",
    "\n",
    "for i in range(0,len(M)):\n",
    "    for j in range(0,len(M[0])):\n",
    "        for k in range(0, len(M2)):\n",
    "            M[i][j] += M1[i][k]*M2[k][j]\n",
    "\n",
    "print(\"\\nResult:\\n\")\n",
    "print(M)\n",
    "print(\"\\nResult using built-in functions:\\n\")\n",
    "N = M1.dot(M2)\n",
    "print(N)"
   ]
  },
  {
   "cell_type": "markdown",
   "metadata": {},
   "source": [
    "<b>Q10. File operations :Write\n",
    "\n",
    "    1.Generate a set of n=100 random points X = {xi}, i = 1, … n, xi ∈ R10\n",
    "    2.Write the points to a csv file"
   ]
  },
  {
   "cell_type": "code",
   "execution_count": 10,
   "metadata": {},
   "outputs": [],
   "source": [
    "import csv\n",
    "X=[[(random.randint(1,100)) for i in range(1,101)] for j in range(10)]\n",
    "with open('file.csv','w',newline='') as f:\n",
    "    writer = csv.writer(f)\n",
    "    writer.writerows(X)"
   ]
  },
  {
   "cell_type": "markdown",
   "metadata": {},
   "source": [
    "<b>Q11.File operations:read\n",
    "\n",
    "Read the csv file generated in the previous program to a matrix.\n",
    "Each column of the matrix should represent a vector <br><br>Compute the following: C = 1\n",
    "n\n",
    "vector\n",
    "n i=1\n",
    "(xi\n",
    "− μ)(xi\n",
    "− μ)T, where μ = 1\n",
    "n\n",
    "n i=1\n",
    "xi, i = 1, … n, xi\n",
    "= [xi1\n",
    ", … xi10\n",
    "]T is a column"
   ]
  },
  {
   "cell_type": "code",
   "execution_count": 2,
   "metadata": {},
   "outputs": [
    {
     "name": "stdout",
     "output_type": "stream",
     "text": [
      "[[ 7.295700e+02  5.747900e+01 -1.957220e+02  1.117470e+02 -1.255000e+00\n",
      "   1.158500e+01 -2.922600e+01 -2.333100e+01 -1.600000e-01 -7.160800e+01]\n",
      " [ 5.747900e+01  7.443171e+02  8.530220e+01  4.923730e+01  1.456195e+02\n",
      "   1.349275e+02  3.952600e+00 -8.461900e+00 -4.675200e+01  4.079080e+01]\n",
      " [-1.957220e+02  8.530220e+01  8.466804e+02  1.651860e+01 -8.369100e+01\n",
      "   3.227500e+01  1.018320e+01  6.725420e+01  5.524600e+01  7.535600e+00]\n",
      " [ 1.117470e+02  4.923730e+01  1.651860e+01  8.148899e+02  4.392850e+01\n",
      "   1.217125e+02  9.703800e+00 -4.990970e+01  8.881400e+01 -2.500960e+01]\n",
      " [-1.255000e+00  1.456195e+02 -8.369100e+01  4.392850e+01  7.905075e+02\n",
      "   8.654750e+01  5.325700e+01 -4.174550e+01  9.203000e+01  2.954600e+01]\n",
      " [ 1.158500e+01  1.349275e+02  3.227500e+01  1.217125e+02  8.654750e+01\n",
      "   7.666675e+02  2.602500e+01 -5.107500e+00  1.258000e+01  1.832000e+01]\n",
      " [-2.922600e+01  3.952600e+00  1.018320e+01  9.703800e+00  5.325700e+01\n",
      "   2.602500e+01  8.194556e+02  3.720860e+01  3.398800e+01  4.336480e+01]\n",
      " [-2.333100e+01 -8.461900e+00  6.725420e+01 -4.990970e+01 -4.174550e+01\n",
      "  -5.107500e+00  3.720860e+01  8.564691e+02 -3.882200e+01 -3.219120e+01]\n",
      " [-1.600000e-01 -4.675200e+01  5.524600e+01  8.881400e+01  9.203000e+01\n",
      "   1.258000e+01  3.398800e+01 -3.882200e+01  8.068000e+02 -7.260000e-01]\n",
      " [-7.160800e+01  4.079080e+01  7.535600e+00 -2.500960e+01  2.954600e+01\n",
      "   1.832000e+01  4.336480e+01 -3.219120e+01 -7.260000e-01  8.330584e+02]]\n"
     ]
    }
   ],
   "source": [
    "import numpy as np\n",
    "from numpy import genfromtxt\n",
    "\n",
    "X1 = genfromtxt('file.csv', delimiter=',')\n",
    "U = (1/100) * np.sum(X1,axis = 1,keepdims=True)\n",
    "C = (1/100) * np.dot((X1-U),(X1-U).T)\n",
    "print(C)"
   ]
  },
  {
   "cell_type": "markdown",
   "metadata": {},
   "source": [
    "<b>12. Define a class for a complex number a + jb. Define memeber functions to do basic operations conjugate, absolute value, addition, subtraction, multiplication, division and angle. Define two complex numbers c1, c2 and print the results of the following operations c1 + c2, c1 − c2,\n",
    "c1 ∗ c2, c1/c2 , |c1|, |c2|,∠c1, ∠c2."
   ]
  },
  {
   "cell_type": "code",
   "execution_count": 12,
   "metadata": {},
   "outputs": [
    {
     "name": "stdout",
     "output_type": "stream",
     "text": [
      "c1 + c2 =  11 + (19j) \n",
      "c1 − c2 =  -5 + (-11j) \n",
      "c1 ∗ c2 =  -36 + (77j) \n",
      "c1/c2 =  0.2906574394463668 + (-0.04498269896193772j) \n",
      "|c1| =  5.0 \n",
      "|c2| =  17.0 \n",
      "∠c1 =  53.13010235415598 \n",
      "∠c2 =  61.92751306414704\n"
     ]
    }
   ],
   "source": [
    "import math\n",
    "\n",
    "\n",
    "class Comp:\n",
    "    def __init__(self, real, img):\n",
    "        self.real = real\n",
    "        self.img = img\n",
    "        \n",
    "    def __repr__(self):\n",
    "        return(str(self.real) + \" + \" + \"(\" + str(self.img) + \"j)\")\n",
    "        \n",
    "    def __str__(self):\n",
    "        return(str(self.real) + \" + \" + \"(\" + str(self.img) + \"j)\")\n",
    "        \n",
    "    def conjugate(self):\n",
    "        return Comp(self.real, -self.img)\n",
    "        \n",
    "    def __add__(self, o):\n",
    "        return Comp(self.real + o.real, self.img + o.img)\n",
    "\n",
    "    def __sub__(self, o):\n",
    "        return Comp(self.real - o.real, self.img - o.img)\n",
    "\n",
    "    def __mul__(self, o):\n",
    "        return Comp(self.real * o.real - self.img * o.img, self.real * o.img + self.img * o.real)\n",
    "\n",
    "    def __truediv__(self, o):\n",
    "        m = o.real * o.real + o.img * o.img\n",
    "        return Comp((self.real * o.real + self.img * o.img) / m, (self.img * o.real - self.real * o.img) / m)\n",
    "\n",
    "    def arg(self):\n",
    "        return(math.degrees(math.atan(self.img / self.real)))\n",
    "\n",
    "    def mod(self):\n",
    "        return math.sqrt(self.real**2 + self.img**2)\n",
    "        \n",
    "        \n",
    "        \n",
    "        \n",
    "        \n",
    "        \n",
    "c1 = Comp(3,4)\n",
    "c2 = Comp(8,15)\n",
    "print(\"c1 + c2 = \", c1+c2, \"\\nc1 − c2 = \", c1-c2, \"\\nc1 ∗ c2 = \", c1*c2, \"\\nc1/c2 = \", c1/c2, \"\\n|c1| = \", c1.mod(), \"\\n|c2| = \", c2.mod(),\"\\n∠c1 = \", c1.arg(), \"\\n∠c2 = \", c2.arg())"
   ]
  },
  {
   "cell_type": "markdown",
   "metadata": {},
   "source": [
    "<b>13. Plot the function y = 3x + 2 with x ∈ [−10, 10]."
   ]
  },
  {
   "cell_type": "code",
   "execution_count": 13,
   "metadata": {},
   "outputs": [
    {
     "data": {
      "text/plain": [
       "[<matplotlib.lines.Line2D at 0x240a08a4820>]"
      ]
     },
     "execution_count": 13,
     "metadata": {},
     "output_type": "execute_result"
    },
    {
     "data": {
      "image/png": "[encoded data removed]",
      "text/plain": [
       "<Figure size 432x288 with 1 Axes>"
      ]
     },
     "metadata": {
      "needs_background": "light"
     },
     "output_type": "display_data"
    }
   ],
   "source": [
    "import matplotlib.pyplot as plt\n",
    "import numpy as np\n",
    "x=np.linspace(-10,10,50)\n",
    "y=[3*i+2 for i in x]\n",
    "plt.xlabel('x')\n",
    "plt.ylabel('y=3x+2')\n",
    "plt.plot(x,y)"
   ]
  },
  {
   "cell_type": "markdown",
   "metadata": {},
   "source": [
    "<b>14. Scatter plot\n",
    "\n",
    "Generate a set of n = 100 points, X = {xi}, i = 1, … n, xi ∈ R2 within an ellipse (x − μx)^2/a^2 + (y − μy)^2/b^2 centered at\n",
    "[μx, μy] = [5, −5] and has a major axis 2a = 10 and minor axis 2b = 5\n",
    "\n",
    "Scatter plot all the points."
   ]
  },
  {
   "cell_type": "code",
   "execution_count": 7,
   "metadata": {},
   "outputs": [
    {
     "data": {
      "image/png": "[encoded data removed]",
      "text/plain": [
       "<Figure size 432x288 with 1 Axes>"
      ]
     },
     "metadata": {
      "needs_background": "light"
     },
     "output_type": "display_data"
    }
   ],
   "source": [
    "import numpy as np\n",
    "import matplotlib.pyplot as plt\n",
    "mu_x = 5\n",
    "mu_y = -5\n",
    "a = 5\n",
    "b = 2.5\n",
    "rand1 = np.random.uniform(0,1, 100)\n",
    "rand2 = np.random.uniform(0,1, 100)\n",
    "theta = np.random.uniform(0,2*np.pi, 100)\n",
    "a_new = np.sqrt(a**2*(rand1))\n",
    "b_new = np.sqrt(b**2*(rand2))\n",
    "x = mu_x + a_new * np.cos(theta)\n",
    "y = mu_y + b_new * np.sin(theta)\n",
    "plt.scatter(x, y, color='g')\n",
    "\n",
    "t = np.linspace(0, 2*np.pi, 100)\n",
    "plt.plot( mu_x + a * np.cos(t) , mu_y + b*np.sin(t) )\n",
    "plt.show()"
   ]
  },
  {
   "cell_type": "code",
   "execution_count": null,
   "metadata": {},
   "outputs": [],
   "source": []
  }
 ],
 "metadata": {
  "kernelspec": {
   "display_name": "Python 3",
   "language": "python",
   "name": "python3"
  },
  "language_info": {
   "codemirror_mode": {
    "name": "ipython",
    "version": 3
   },
   "file_extension": ".py",
   "mimetype": "text/x-python",
   "name": "python",
   "nbconvert_exporter": "python",
   "pygments_lexer": "ipython3",
   "version": "3.8.8"
  }
 },
 "nbformat": 4,
 "nbformat_minor": 4
}
