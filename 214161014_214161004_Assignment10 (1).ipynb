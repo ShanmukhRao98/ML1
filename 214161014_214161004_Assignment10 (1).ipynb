{
 "cells": [
  {
   "cell_type": "markdown",
   "id": "b4d81552",
   "metadata": {},
   "source": [
    "# Libraries"
   ]
  },
  {
   "cell_type": "code",
   "execution_count": 1,
   "id": "0db29f2d",
   "metadata": {},
   "outputs": [],
   "source": [
    "import numpy as np\n",
    "import pandas as pd\n",
    "import matplotlib.pyplot as plt\n",
    "from sklearn.metrics import f1_score, accuracy_score\n",
    "import torch\n",
    "from torch import nn\n",
    "from imblearn.over_sampling import SMOTE\n",
    "from sklearn.preprocessing import StandardScaler\n",
    "import time\n",
    "from sklearn.model_selection import train_test_split"
   ]
  },
  {
   "cell_type": "markdown",
   "id": "08b8dd99",
   "metadata": {},
   "source": [
    "## Question 1"
   ]
  },
  {
   "cell_type": "markdown",
   "id": "aef1f033",
   "metadata": {},
   "source": [
    "### 1.(a)"
   ]
  },
  {
   "cell_type": "code",
   "execution_count": 2,
   "id": "c3fba873",
   "metadata": {},
   "outputs": [],
   "source": [
    "t1 = time.time()"
   ]
  },
  {
   "cell_type": "code",
   "execution_count": 3,
   "id": "d16d4f06",
   "metadata": {},
   "outputs": [
    {
     "data": {
      "text/html": [
       "<div>\n",
       "<style scoped>\n",
       "    .dataframe tbody tr th:only-of-type {\n",
       "        vertical-align: middle;\n",
       "    }\n",
       "\n",
       "    .dataframe tbody tr th {\n",
       "        vertical-align: top;\n",
       "    }\n",
       "\n",
       "    .dataframe thead th {\n",
       "        text-align: right;\n",
       "    }\n",
       "</style>\n",
       "<table border=\"1\" class=\"dataframe\">\n",
       "  <thead>\n",
       "    <tr style=\"text-align: right;\">\n",
       "      <th></th>\n",
       "      <th>0</th>\n",
       "      <th>1</th>\n",
       "      <th>2</th>\n",
       "      <th>3</th>\n",
       "      <th>4</th>\n",
       "      <th>5</th>\n",
       "      <th>6</th>\n",
       "      <th>7</th>\n",
       "      <th>8</th>\n",
       "      <th>9</th>\n",
       "      <th>...</th>\n",
       "      <th>50</th>\n",
       "      <th>51</th>\n",
       "      <th>52</th>\n",
       "      <th>53</th>\n",
       "      <th>54</th>\n",
       "      <th>55</th>\n",
       "      <th>56</th>\n",
       "      <th>57</th>\n",
       "      <th>58</th>\n",
       "      <th>59</th>\n",
       "    </tr>\n",
       "  </thead>\n",
       "  <tbody>\n",
       "    <tr>\n",
       "      <th>0</th>\n",
       "      <td>-10.120651</td>\n",
       "      <td>2.515380</td>\n",
       "      <td>1.823152</td>\n",
       "      <td>1.508992</td>\n",
       "      <td>-1.719560</td>\n",
       "      <td>-1.894340</td>\n",
       "      <td>-1.105240</td>\n",
       "      <td>-1.882580</td>\n",
       "      <td>1.283309</td>\n",
       "      <td>-1.349106</td>\n",
       "      <td>...</td>\n",
       "      <td>0.092580</td>\n",
       "      <td>0.028268</td>\n",
       "      <td>-0.163431</td>\n",
       "      <td>0.032981</td>\n",
       "      <td>0.041419</td>\n",
       "      <td>0.062175</td>\n",
       "      <td>-0.025429</td>\n",
       "      <td>0.072103</td>\n",
       "      <td>-0.054116</td>\n",
       "      <td>0.049799</td>\n",
       "    </tr>\n",
       "    <tr>\n",
       "      <th>1</th>\n",
       "      <td>-4.889809</td>\n",
       "      <td>-5.689037</td>\n",
       "      <td>-3.359693</td>\n",
       "      <td>-2.125163</td>\n",
       "      <td>0.261292</td>\n",
       "      <td>-1.499884</td>\n",
       "      <td>0.754239</td>\n",
       "      <td>-1.677804</td>\n",
       "      <td>0.495266</td>\n",
       "      <td>-1.082571</td>\n",
       "      <td>...</td>\n",
       "      <td>0.139837</td>\n",
       "      <td>0.009443</td>\n",
       "      <td>-0.025915</td>\n",
       "      <td>-0.107059</td>\n",
       "      <td>-0.055360</td>\n",
       "      <td>0.010194</td>\n",
       "      <td>-0.097698</td>\n",
       "      <td>-0.105427</td>\n",
       "      <td>-0.088457</td>\n",
       "      <td>-0.021961</td>\n",
       "    </tr>\n",
       "    <tr>\n",
       "      <th>2</th>\n",
       "      <td>-1.694022</td>\n",
       "      <td>-5.086290</td>\n",
       "      <td>-4.164934</td>\n",
       "      <td>-2.412973</td>\n",
       "      <td>-4.749922</td>\n",
       "      <td>-0.730738</td>\n",
       "      <td>-0.726216</td>\n",
       "      <td>-2.307999</td>\n",
       "      <td>0.666796</td>\n",
       "      <td>0.516605</td>\n",
       "      <td>...</td>\n",
       "      <td>-0.187182</td>\n",
       "      <td>0.049961</td>\n",
       "      <td>-0.055671</td>\n",
       "      <td>0.001667</td>\n",
       "      <td>-0.203994</td>\n",
       "      <td>0.225937</td>\n",
       "      <td>0.233620</td>\n",
       "      <td>0.110080</td>\n",
       "      <td>0.036043</td>\n",
       "      <td>-0.200711</td>\n",
       "    </tr>\n",
       "    <tr>\n",
       "      <th>3</th>\n",
       "      <td>-4.241995</td>\n",
       "      <td>-5.011858</td>\n",
       "      <td>-3.345426</td>\n",
       "      <td>-3.906843</td>\n",
       "      <td>1.229525</td>\n",
       "      <td>1.224371</td>\n",
       "      <td>-0.399490</td>\n",
       "      <td>-1.617319</td>\n",
       "      <td>-0.427983</td>\n",
       "      <td>0.644910</td>\n",
       "      <td>...</td>\n",
       "      <td>-0.029452</td>\n",
       "      <td>-0.059464</td>\n",
       "      <td>0.055713</td>\n",
       "      <td>-0.002794</td>\n",
       "      <td>-0.028805</td>\n",
       "      <td>-0.081924</td>\n",
       "      <td>-0.095755</td>\n",
       "      <td>0.093118</td>\n",
       "      <td>-0.022315</td>\n",
       "      <td>0.148809</td>\n",
       "    </tr>\n",
       "    <tr>\n",
       "      <th>4</th>\n",
       "      <td>-3.101878</td>\n",
       "      <td>-6.134078</td>\n",
       "      <td>-3.250782</td>\n",
       "      <td>-3.051343</td>\n",
       "      <td>0.591492</td>\n",
       "      <td>0.893184</td>\n",
       "      <td>-1.925571</td>\n",
       "      <td>-0.913248</td>\n",
       "      <td>0.228131</td>\n",
       "      <td>-0.977734</td>\n",
       "      <td>...</td>\n",
       "      <td>-0.183069</td>\n",
       "      <td>0.128475</td>\n",
       "      <td>-0.208654</td>\n",
       "      <td>-0.075758</td>\n",
       "      <td>0.121429</td>\n",
       "      <td>-0.085190</td>\n",
       "      <td>0.034585</td>\n",
       "      <td>0.233586</td>\n",
       "      <td>0.027971</td>\n",
       "      <td>0.197148</td>\n",
       "    </tr>\n",
       "  </tbody>\n",
       "</table>\n",
       "<p>5 rows × 60 columns</p>\n",
       "</div>"
      ],
      "text/plain": [
       "          0         1         2         3         4         5         6   \\\n",
       "0 -10.120651  2.515380  1.823152  1.508992 -1.719560 -1.894340 -1.105240   \n",
       "1  -4.889809 -5.689037 -3.359693 -2.125163  0.261292 -1.499884  0.754239   \n",
       "2  -1.694022 -5.086290 -4.164934 -2.412973 -4.749922 -0.730738 -0.726216   \n",
       "3  -4.241995 -5.011858 -3.345426 -3.906843  1.229525  1.224371 -0.399490   \n",
       "4  -3.101878 -6.134078 -3.250782 -3.051343  0.591492  0.893184 -1.925571   \n",
       "\n",
       "         7         8         9   ...        50        51        52        53  \\\n",
       "0 -1.882580  1.283309 -1.349106  ...  0.092580  0.028268 -0.163431  0.032981   \n",
       "1 -1.677804  0.495266 -1.082571  ...  0.139837  0.009443 -0.025915 -0.107059   \n",
       "2 -2.307999  0.666796  0.516605  ... -0.187182  0.049961 -0.055671  0.001667   \n",
       "3 -1.617319 -0.427983  0.644910  ... -0.029452 -0.059464  0.055713 -0.002794   \n",
       "4 -0.913248  0.228131 -0.977734  ... -0.183069  0.128475 -0.208654 -0.075758   \n",
       "\n",
       "         54        55        56        57        58        59  \n",
       "0  0.041419  0.062175 -0.025429  0.072103 -0.054116  0.049799  \n",
       "1 -0.055360  0.010194 -0.097698 -0.105427 -0.088457 -0.021961  \n",
       "2 -0.203994  0.225937  0.233620  0.110080  0.036043 -0.200711  \n",
       "3 -0.028805 -0.081924 -0.095755  0.093118 -0.022315  0.148809  \n",
       "4  0.121429 -0.085190  0.034585  0.233586  0.027971  0.197148  \n",
       "\n",
       "[5 rows x 60 columns]"
      ]
     },
     "execution_count": 3,
     "metadata": {},
     "output_type": "execute_result"
    }
   ],
   "source": [
    "#read and modify training dataset\n",
    "data = pd.read_csv('Train_file.csv',header=None)\n",
    "df = pd.DataFrame(data=data)\n",
    "labels = df.iloc[:,60]\n",
    "df = df.drop(df.columns[[60]], 1)\n",
    "df.head()"
   ]
  },
  {
   "cell_type": "code",
   "execution_count": 4,
   "id": "420642ec",
   "metadata": {},
   "outputs": [
    {
     "data": {
      "text/plain": [
       "(60, 86060)"
      ]
     },
     "execution_count": 4,
     "metadata": {},
     "output_type": "execute_result"
    }
   ],
   "source": [
    "X = np.array(df).T\n",
    "np.shape(X)"
   ]
  },
  {
   "cell_type": "code",
   "execution_count": 5,
   "id": "50e13fbe",
   "metadata": {},
   "outputs": [
    {
     "data": {
      "text/plain": [
       "(1, 86060)"
      ]
     },
     "execution_count": 5,
     "metadata": {},
     "output_type": "execute_result"
    }
   ],
   "source": [
    "#labels\n",
    "Y = np.array(labels).reshape(1,-1)\n",
    "np.shape(Y)"
   ]
  },
  {
   "cell_type": "code",
   "execution_count": 6,
   "id": "0983c4ce",
   "metadata": {},
   "outputs": [
    {
     "data": {
      "text/plain": [
       "((60, 1), (1, 1))"
      ]
     },
     "execution_count": 6,
     "metadata": {},
     "output_type": "execute_result"
    }
   ],
   "source": [
    "#initialisation of weights and bias\n",
    "w = np.ones(df.shape[1]).reshape(-1,1)\n",
    "b = (np.ones(1)).reshape(-1,1)\n",
    "np.shape(w),np.shape(b)"
   ]
  },
  {
   "cell_type": "code",
   "execution_count": 7,
   "id": "42bc8679",
   "metadata": {},
   "outputs": [],
   "source": [
    "#sigmoid function\n",
    "def sigmoid(u):\n",
    "    fx = (1 + np.exp(-u))**(-1)\n",
    "    return fx"
   ]
  },
  {
   "cell_type": "code",
   "execution_count": 8,
   "id": "c8ca9055",
   "metadata": {},
   "outputs": [],
   "source": [
    "# weight and bias learning using logistic regression cost function\n",
    "def propogation(w,b,X,Y):\n",
    "    m = X.shape[1]\n",
    "    Y_hat = sigmoid(np.dot(w.T,X) + b)\n",
    "    cost = (-1/m)*(np.dot(Y,np.log(Y_hat).T) + np.dot((1-Y),np.log(1-Y_hat).T)).reshape(-1)\n",
    "    dw = (1/m)*(np.dot(X,(Y_hat-Y).T))\n",
    "    db = (1/m)*np.sum(Y_hat-Y)\n",
    "    #cost = np.squeeze(np.array(cost))\n",
    "\n",
    "    \n",
    "    grads = {\"dw\": dw, \"db\": db}\n",
    "    \n",
    "    return grads, cost"
   ]
  },
  {
   "cell_type": "code",
   "execution_count": 9,
   "id": "dbdaccf9",
   "metadata": {},
   "outputs": [],
   "source": [
    "# using 50 epochs and training weights and bias\n",
    "#learning_rate = 0.01\n",
    "#using no_of_batches=20 mini batches\n",
    "eta = 0.01\n",
    "epochs = 50\n",
    "costs = []\n",
    "no_of_batches = 20\n",
    "#using batch of np.shape(y)[1] // no_of_batches\n",
    "batch_size = np.shape(Y)[1]//no_of_batches\n",
    "for i in range(epochs):\n",
    "    X_batch = np.array(np.split(X[:,0:(batch_size*no_of_batches)],no_of_batches,1))\n",
    "    Y_batch = np.array(np.split(Y[:,0:(batch_size*no_of_batches)],no_of_batches,1))\n",
    "    for j in range(no_of_batches):\n",
    "        grads, cost = propogation(w,b,X_batch[j],Y_batch[j])\n",
    "        costs.append(cost)\n",
    "        dw = grads[\"dw\"]\n",
    "        db = grads[\"db\"]\n",
    "        w = w - eta * dw\n",
    "        b = b - eta * db\n",
    "    \n"
   ]
  },
  {
   "cell_type": "code",
   "execution_count": 10,
   "id": "5bcea65f",
   "metadata": {
    "scrolled": true
   },
   "outputs": [
    {
     "name": "stdout",
     "output_type": "stream",
     "text": [
      "final cost is: [0.37990167]\n"
     ]
    }
   ],
   "source": [
    "print(f'final cost is: {cost}')"
   ]
  },
  {
   "cell_type": "code",
   "execution_count": 11,
   "id": "355057d9",
   "metadata": {
    "scrolled": true
   },
   "outputs": [
    {
     "data": {
      "image/png": "[encoded data removed]",
      "text/plain": [
       "<Figure size 576x576 with 1 Axes>"
      ]
     },
     "metadata": {
      "needs_background": "light"
     },
     "output_type": "display_data"
    }
   ],
   "source": [
    "x = np.arange(epochs*no_of_batches)\n",
    "plt.figure(figsize=(8,8))\n",
    "plt.plot(x,costs)\n",
    "plt.xlabel('epochs')\n",
    "plt.ylabel('Cost')\n",
    "plt.show()"
   ]
  },
  {
   "cell_type": "code",
   "execution_count": null,
   "id": "f0fbaac5",
   "metadata": {},
   "outputs": [],
   "source": []
  },
  {
   "cell_type": "code",
   "execution_count": null,
   "id": "c1eff9c0",
   "metadata": {},
   "outputs": [],
   "source": []
  },
  {
   "cell_type": "markdown",
   "id": "443d77ba",
   "metadata": {},
   "source": [
    "### 1.(b)"
   ]
  },
  {
   "cell_type": "code",
   "execution_count": 12,
   "id": "e2666eea",
   "metadata": {},
   "outputs": [
    {
     "data": {
      "text/html": [
       "<div>\n",
       "<style scoped>\n",
       "    .dataframe tbody tr th:only-of-type {\n",
       "        vertical-align: middle;\n",
       "    }\n",
       "\n",
       "    .dataframe tbody tr th {\n",
       "        vertical-align: top;\n",
       "    }\n",
       "\n",
       "    .dataframe thead th {\n",
       "        text-align: right;\n",
       "    }\n",
       "</style>\n",
       "<table border=\"1\" class=\"dataframe\">\n",
       "  <thead>\n",
       "    <tr style=\"text-align: right;\">\n",
       "      <th></th>\n",
       "      <th>0</th>\n",
       "      <th>1</th>\n",
       "      <th>2</th>\n",
       "      <th>3</th>\n",
       "      <th>4</th>\n",
       "      <th>5</th>\n",
       "      <th>6</th>\n",
       "      <th>7</th>\n",
       "      <th>8</th>\n",
       "      <th>9</th>\n",
       "      <th>...</th>\n",
       "      <th>50</th>\n",
       "      <th>51</th>\n",
       "      <th>52</th>\n",
       "      <th>53</th>\n",
       "      <th>54</th>\n",
       "      <th>55</th>\n",
       "      <th>56</th>\n",
       "      <th>57</th>\n",
       "      <th>58</th>\n",
       "      <th>59</th>\n",
       "    </tr>\n",
       "  </thead>\n",
       "  <tbody>\n",
       "    <tr>\n",
       "      <th>0</th>\n",
       "      <td>3.863817</td>\n",
       "      <td>-4.783144</td>\n",
       "      <td>-3.905487</td>\n",
       "      <td>-0.535617</td>\n",
       "      <td>-1.551824</td>\n",
       "      <td>-1.499466</td>\n",
       "      <td>-0.859588</td>\n",
       "      <td>0.372485</td>\n",
       "      <td>-0.649211</td>\n",
       "      <td>-0.391779</td>\n",
       "      <td>...</td>\n",
       "      <td>0.049115</td>\n",
       "      <td>0.009052</td>\n",
       "      <td>0.058107</td>\n",
       "      <td>-0.094742</td>\n",
       "      <td>0.021947</td>\n",
       "      <td>0.042368</td>\n",
       "      <td>-0.036193</td>\n",
       "      <td>0.011716</td>\n",
       "      <td>-0.002627</td>\n",
       "      <td>-0.013202</td>\n",
       "    </tr>\n",
       "    <tr>\n",
       "      <th>1</th>\n",
       "      <td>-10.056757</td>\n",
       "      <td>-5.685840</td>\n",
       "      <td>-0.045440</td>\n",
       "      <td>-1.810329</td>\n",
       "      <td>3.860155</td>\n",
       "      <td>-0.612230</td>\n",
       "      <td>-1.352859</td>\n",
       "      <td>-0.210533</td>\n",
       "      <td>0.592775</td>\n",
       "      <td>-0.093317</td>\n",
       "      <td>...</td>\n",
       "      <td>-0.072195</td>\n",
       "      <td>0.100559</td>\n",
       "      <td>0.015884</td>\n",
       "      <td>-0.046483</td>\n",
       "      <td>0.082804</td>\n",
       "      <td>-0.037946</td>\n",
       "      <td>0.025628</td>\n",
       "      <td>-0.174175</td>\n",
       "      <td>0.012218</td>\n",
       "      <td>-0.044811</td>\n",
       "    </tr>\n",
       "    <tr>\n",
       "      <th>2</th>\n",
       "      <td>-1.752938</td>\n",
       "      <td>-2.699559</td>\n",
       "      <td>1.510144</td>\n",
       "      <td>0.081531</td>\n",
       "      <td>-1.604532</td>\n",
       "      <td>-1.849043</td>\n",
       "      <td>-2.171057</td>\n",
       "      <td>-3.236153</td>\n",
       "      <td>-0.541043</td>\n",
       "      <td>0.442342</td>\n",
       "      <td>...</td>\n",
       "      <td>0.027038</td>\n",
       "      <td>-0.070303</td>\n",
       "      <td>-0.012252</td>\n",
       "      <td>0.052579</td>\n",
       "      <td>-0.022195</td>\n",
       "      <td>-0.023904</td>\n",
       "      <td>0.158927</td>\n",
       "      <td>0.005207</td>\n",
       "      <td>0.015620</td>\n",
       "      <td>-0.021611</td>\n",
       "    </tr>\n",
       "    <tr>\n",
       "      <th>3</th>\n",
       "      <td>-3.170220</td>\n",
       "      <td>-4.744630</td>\n",
       "      <td>3.362495</td>\n",
       "      <td>-2.200058</td>\n",
       "      <td>-3.640497</td>\n",
       "      <td>-0.942428</td>\n",
       "      <td>-3.085365</td>\n",
       "      <td>0.144203</td>\n",
       "      <td>-1.065229</td>\n",
       "      <td>0.425932</td>\n",
       "      <td>...</td>\n",
       "      <td>-0.047964</td>\n",
       "      <td>0.193836</td>\n",
       "      <td>-0.050392</td>\n",
       "      <td>0.120305</td>\n",
       "      <td>-0.158155</td>\n",
       "      <td>-0.065002</td>\n",
       "      <td>-0.165253</td>\n",
       "      <td>-0.173285</td>\n",
       "      <td>-0.096143</td>\n",
       "      <td>0.064330</td>\n",
       "    </tr>\n",
       "    <tr>\n",
       "      <th>4</th>\n",
       "      <td>-3.519579</td>\n",
       "      <td>-3.659691</td>\n",
       "      <td>3.410805</td>\n",
       "      <td>0.665115</td>\n",
       "      <td>-5.036384</td>\n",
       "      <td>-3.107760</td>\n",
       "      <td>-1.921138</td>\n",
       "      <td>-0.518617</td>\n",
       "      <td>0.085033</td>\n",
       "      <td>-2.412228</td>\n",
       "      <td>...</td>\n",
       "      <td>-0.134195</td>\n",
       "      <td>0.035903</td>\n",
       "      <td>-0.045471</td>\n",
       "      <td>-0.105559</td>\n",
       "      <td>0.017580</td>\n",
       "      <td>0.021768</td>\n",
       "      <td>0.072975</td>\n",
       "      <td>0.027165</td>\n",
       "      <td>0.025080</td>\n",
       "      <td>0.024360</td>\n",
       "    </tr>\n",
       "  </tbody>\n",
       "</table>\n",
       "<p>5 rows × 60 columns</p>\n",
       "</div>"
      ],
      "text/plain": [
       "          0         1         2         3         4         5         6   \\\n",
       "0   3.863817 -4.783144 -3.905487 -0.535617 -1.551824 -1.499466 -0.859588   \n",
       "1 -10.056757 -5.685840 -0.045440 -1.810329  3.860155 -0.612230 -1.352859   \n",
       "2  -1.752938 -2.699559  1.510144  0.081531 -1.604532 -1.849043 -2.171057   \n",
       "3  -3.170220 -4.744630  3.362495 -2.200058 -3.640497 -0.942428 -3.085365   \n",
       "4  -3.519579 -3.659691  3.410805  0.665115 -5.036384 -3.107760 -1.921138   \n",
       "\n",
       "         7         8         9   ...        50        51        52        53  \\\n",
       "0  0.372485 -0.649211 -0.391779  ...  0.049115  0.009052  0.058107 -0.094742   \n",
       "1 -0.210533  0.592775 -0.093317  ... -0.072195  0.100559  0.015884 -0.046483   \n",
       "2 -3.236153 -0.541043  0.442342  ...  0.027038 -0.070303 -0.012252  0.052579   \n",
       "3  0.144203 -1.065229  0.425932  ... -0.047964  0.193836 -0.050392  0.120305   \n",
       "4 -0.518617  0.085033 -2.412228  ... -0.134195  0.035903 -0.045471 -0.105559   \n",
       "\n",
       "         54        55        56        57        58        59  \n",
       "0  0.021947  0.042368 -0.036193  0.011716 -0.002627 -0.013202  \n",
       "1  0.082804 -0.037946  0.025628 -0.174175  0.012218 -0.044811  \n",
       "2 -0.022195 -0.023904  0.158927  0.005207  0.015620 -0.021611  \n",
       "3 -0.158155 -0.065002 -0.165253 -0.173285 -0.096143  0.064330  \n",
       "4  0.017580  0.021768  0.072975  0.027165  0.025080  0.024360  \n",
       "\n",
       "[5 rows x 60 columns]"
      ]
     },
     "execution_count": 12,
     "metadata": {},
     "output_type": "execute_result"
    }
   ],
   "source": [
    "#read and modify test dataset\n",
    "data = pd.read_csv('Test_file.csv',header=None)\n",
    "df = pd.DataFrame(data=data)\n",
    "labels = df.iloc[:,60]\n",
    "df = df.drop(df.columns[[60]], 1)\n",
    "df.head()"
   ]
  },
  {
   "cell_type": "code",
   "execution_count": 13,
   "id": "d2b82941",
   "metadata": {},
   "outputs": [],
   "source": [
    "X = np.array(df).T\n",
    "Y = np.array(labels).reshape(-1)"
   ]
  },
  {
   "cell_type": "code",
   "execution_count": 14,
   "id": "72fcb202",
   "metadata": {},
   "outputs": [],
   "source": [
    "def predict(w, b, X):\n",
    "    Y_hat = sigmoid(np.dot(w.T,X) + b)\n",
    "    Y_predicted = np.ones(Y_hat.shape[1])\n",
    "    for i in range(Y_hat.shape[1]):\n",
    "        if (Y_hat[0][i] <= 0.5):\n",
    "            Y_predicted[i] = 0\n",
    "    return Y_predicted"
   ]
  },
  {
   "cell_type": "code",
   "execution_count": 15,
   "id": "378c5dc9",
   "metadata": {},
   "outputs": [
    {
     "name": "stdout",
     "output_type": "stream",
     "text": [
      "class wise f1 score : [0.85304726 0.85153695] and total accuracy: 0.8522959657928983\n"
     ]
    }
   ],
   "source": [
    "Y_predicted = predict(w, b, X)\n",
    "print(f\"class wise f1 score : {f1_score(y_true=Y,y_pred=Y_predicted,average=None)} and total accuracy: {accuracy_score(y_true=Y,y_pred=Y_predicted)}\")"
   ]
  },
  {
   "cell_type": "code",
   "execution_count": 16,
   "id": "ce8ba7ea",
   "metadata": {},
   "outputs": [
    {
     "name": "stdout",
     "output_type": "stream",
     "text": [
      "time elapsed:8.727254152297974\n"
     ]
    }
   ],
   "source": [
    "print(f'time elapsed:{time.time() - t1}')"
   ]
  },
  {
   "cell_type": "markdown",
   "id": "39c58cec",
   "metadata": {},
   "source": [
    "## Changing hyperparameters(no_of_batches)"
   ]
  },
  {
   "cell_type": "markdown",
   "id": "62567d0f",
   "metadata": {},
   "source": [
    "### 1.(a)"
   ]
  },
  {
   "cell_type": "code",
   "execution_count": 17,
   "id": "f9cb11cd",
   "metadata": {},
   "outputs": [],
   "source": [
    "t1 = time.time()"
   ]
  },
  {
   "cell_type": "code",
   "execution_count": 18,
   "id": "bd1b92cb",
   "metadata": {},
   "outputs": [
    {
     "data": {
      "text/html": [
       "<div>\n",
       "<style scoped>\n",
       "    .dataframe tbody tr th:only-of-type {\n",
       "        vertical-align: middle;\n",
       "    }\n",
       "\n",
       "    .dataframe tbody tr th {\n",
       "        vertical-align: top;\n",
       "    }\n",
       "\n",
       "    .dataframe thead th {\n",
       "        text-align: right;\n",
       "    }\n",
       "</style>\n",
       "<table border=\"1\" class=\"dataframe\">\n",
       "  <thead>\n",
       "    <tr style=\"text-align: right;\">\n",
       "      <th></th>\n",
       "      <th>0</th>\n",
       "      <th>1</th>\n",
       "      <th>2</th>\n",
       "      <th>3</th>\n",
       "      <th>4</th>\n",
       "      <th>5</th>\n",
       "      <th>6</th>\n",
       "      <th>7</th>\n",
       "      <th>8</th>\n",
       "      <th>9</th>\n",
       "      <th>...</th>\n",
       "      <th>50</th>\n",
       "      <th>51</th>\n",
       "      <th>52</th>\n",
       "      <th>53</th>\n",
       "      <th>54</th>\n",
       "      <th>55</th>\n",
       "      <th>56</th>\n",
       "      <th>57</th>\n",
       "      <th>58</th>\n",
       "      <th>59</th>\n",
       "    </tr>\n",
       "  </thead>\n",
       "  <tbody>\n",
       "    <tr>\n",
       "      <th>0</th>\n",
       "      <td>-10.120651</td>\n",
       "      <td>2.515380</td>\n",
       "      <td>1.823152</td>\n",
       "      <td>1.508992</td>\n",
       "      <td>-1.719560</td>\n",
       "      <td>-1.894340</td>\n",
       "      <td>-1.105240</td>\n",
       "      <td>-1.882580</td>\n",
       "      <td>1.283309</td>\n",
       "      <td>-1.349106</td>\n",
       "      <td>...</td>\n",
       "      <td>0.092580</td>\n",
       "      <td>0.028268</td>\n",
       "      <td>-0.163431</td>\n",
       "      <td>0.032981</td>\n",
       "      <td>0.041419</td>\n",
       "      <td>0.062175</td>\n",
       "      <td>-0.025429</td>\n",
       "      <td>0.072103</td>\n",
       "      <td>-0.054116</td>\n",
       "      <td>0.049799</td>\n",
       "    </tr>\n",
       "    <tr>\n",
       "      <th>1</th>\n",
       "      <td>-4.889809</td>\n",
       "      <td>-5.689037</td>\n",
       "      <td>-3.359693</td>\n",
       "      <td>-2.125163</td>\n",
       "      <td>0.261292</td>\n",
       "      <td>-1.499884</td>\n",
       "      <td>0.754239</td>\n",
       "      <td>-1.677804</td>\n",
       "      <td>0.495266</td>\n",
       "      <td>-1.082571</td>\n",
       "      <td>...</td>\n",
       "      <td>0.139837</td>\n",
       "      <td>0.009443</td>\n",
       "      <td>-0.025915</td>\n",
       "      <td>-0.107059</td>\n",
       "      <td>-0.055360</td>\n",
       "      <td>0.010194</td>\n",
       "      <td>-0.097698</td>\n",
       "      <td>-0.105427</td>\n",
       "      <td>-0.088457</td>\n",
       "      <td>-0.021961</td>\n",
       "    </tr>\n",
       "    <tr>\n",
       "      <th>2</th>\n",
       "      <td>-1.694022</td>\n",
       "      <td>-5.086290</td>\n",
       "      <td>-4.164934</td>\n",
       "      <td>-2.412973</td>\n",
       "      <td>-4.749922</td>\n",
       "      <td>-0.730738</td>\n",
       "      <td>-0.726216</td>\n",
       "      <td>-2.307999</td>\n",
       "      <td>0.666796</td>\n",
       "      <td>0.516605</td>\n",
       "      <td>...</td>\n",
       "      <td>-0.187182</td>\n",
       "      <td>0.049961</td>\n",
       "      <td>-0.055671</td>\n",
       "      <td>0.001667</td>\n",
       "      <td>-0.203994</td>\n",
       "      <td>0.225937</td>\n",
       "      <td>0.233620</td>\n",
       "      <td>0.110080</td>\n",
       "      <td>0.036043</td>\n",
       "      <td>-0.200711</td>\n",
       "    </tr>\n",
       "    <tr>\n",
       "      <th>3</th>\n",
       "      <td>-4.241995</td>\n",
       "      <td>-5.011858</td>\n",
       "      <td>-3.345426</td>\n",
       "      <td>-3.906843</td>\n",
       "      <td>1.229525</td>\n",
       "      <td>1.224371</td>\n",
       "      <td>-0.399490</td>\n",
       "      <td>-1.617319</td>\n",
       "      <td>-0.427983</td>\n",
       "      <td>0.644910</td>\n",
       "      <td>...</td>\n",
       "      <td>-0.029452</td>\n",
       "      <td>-0.059464</td>\n",
       "      <td>0.055713</td>\n",
       "      <td>-0.002794</td>\n",
       "      <td>-0.028805</td>\n",
       "      <td>-0.081924</td>\n",
       "      <td>-0.095755</td>\n",
       "      <td>0.093118</td>\n",
       "      <td>-0.022315</td>\n",
       "      <td>0.148809</td>\n",
       "    </tr>\n",
       "    <tr>\n",
       "      <th>4</th>\n",
       "      <td>-3.101878</td>\n",
       "      <td>-6.134078</td>\n",
       "      <td>-3.250782</td>\n",
       "      <td>-3.051343</td>\n",
       "      <td>0.591492</td>\n",
       "      <td>0.893184</td>\n",
       "      <td>-1.925571</td>\n",
       "      <td>-0.913248</td>\n",
       "      <td>0.228131</td>\n",
       "      <td>-0.977734</td>\n",
       "      <td>...</td>\n",
       "      <td>-0.183069</td>\n",
       "      <td>0.128475</td>\n",
       "      <td>-0.208654</td>\n",
       "      <td>-0.075758</td>\n",
       "      <td>0.121429</td>\n",
       "      <td>-0.085190</td>\n",
       "      <td>0.034585</td>\n",
       "      <td>0.233586</td>\n",
       "      <td>0.027971</td>\n",
       "      <td>0.197148</td>\n",
       "    </tr>\n",
       "  </tbody>\n",
       "</table>\n",
       "<p>5 rows × 60 columns</p>\n",
       "</div>"
      ],
      "text/plain": [
       "          0         1         2         3         4         5         6   \\\n",
       "0 -10.120651  2.515380  1.823152  1.508992 -1.719560 -1.894340 -1.105240   \n",
       "1  -4.889809 -5.689037 -3.359693 -2.125163  0.261292 -1.499884  0.754239   \n",
       "2  -1.694022 -5.086290 -4.164934 -2.412973 -4.749922 -0.730738 -0.726216   \n",
       "3  -4.241995 -5.011858 -3.345426 -3.906843  1.229525  1.224371 -0.399490   \n",
       "4  -3.101878 -6.134078 -3.250782 -3.051343  0.591492  0.893184 -1.925571   \n",
       "\n",
       "         7         8         9   ...        50        51        52        53  \\\n",
       "0 -1.882580  1.283309 -1.349106  ...  0.092580  0.028268 -0.163431  0.032981   \n",
       "1 -1.677804  0.495266 -1.082571  ...  0.139837  0.009443 -0.025915 -0.107059   \n",
       "2 -2.307999  0.666796  0.516605  ... -0.187182  0.049961 -0.055671  0.001667   \n",
       "3 -1.617319 -0.427983  0.644910  ... -0.029452 -0.059464  0.055713 -0.002794   \n",
       "4 -0.913248  0.228131 -0.977734  ... -0.183069  0.128475 -0.208654 -0.075758   \n",
       "\n",
       "         54        55        56        57        58        59  \n",
       "0  0.041419  0.062175 -0.025429  0.072103 -0.054116  0.049799  \n",
       "1 -0.055360  0.010194 -0.097698 -0.105427 -0.088457 -0.021961  \n",
       "2 -0.203994  0.225937  0.233620  0.110080  0.036043 -0.200711  \n",
       "3 -0.028805 -0.081924 -0.095755  0.093118 -0.022315  0.148809  \n",
       "4  0.121429 -0.085190  0.034585  0.233586  0.027971  0.197148  \n",
       "\n",
       "[5 rows x 60 columns]"
      ]
     },
     "execution_count": 18,
     "metadata": {},
     "output_type": "execute_result"
    }
   ],
   "source": [
    "#read and modify training dataset\n",
    "data = pd.read_csv('Train_file.csv',header=None)\n",
    "df = pd.DataFrame(data=data)\n",
    "labels = df.iloc[:,60]\n",
    "df = df.drop(df.columns[[60]], 1)\n",
    "df.head()"
   ]
  },
  {
   "cell_type": "code",
   "execution_count": null,
   "id": "e31f2844",
   "metadata": {},
   "outputs": [],
   "source": []
  },
  {
   "cell_type": "code",
   "execution_count": 19,
   "id": "2cee6646",
   "metadata": {},
   "outputs": [
    {
     "data": {
      "text/plain": [
       "(60, 86060)"
      ]
     },
     "execution_count": 19,
     "metadata": {},
     "output_type": "execute_result"
    }
   ],
   "source": [
    "X = np.array(df).T\n",
    "np.shape(X)"
   ]
  },
  {
   "cell_type": "code",
   "execution_count": 20,
   "id": "5c969509",
   "metadata": {},
   "outputs": [
    {
     "data": {
      "text/plain": [
       "(1, 86060)"
      ]
     },
     "execution_count": 20,
     "metadata": {},
     "output_type": "execute_result"
    }
   ],
   "source": [
    "#labels\n",
    "Y = np.array(labels).reshape(1,-1)\n",
    "np.shape(Y)"
   ]
  },
  {
   "cell_type": "code",
   "execution_count": null,
   "id": "182199b3",
   "metadata": {},
   "outputs": [],
   "source": []
  },
  {
   "cell_type": "code",
   "execution_count": 21,
   "id": "56db6241",
   "metadata": {},
   "outputs": [
    {
     "data": {
      "text/plain": [
       "((60, 1), (1, 1))"
      ]
     },
     "execution_count": 21,
     "metadata": {},
     "output_type": "execute_result"
    }
   ],
   "source": [
    "#initialisation of weights and bias\n",
    "w = np.ones(df.shape[1]).reshape(-1,1)\n",
    "b = (np.ones(1)).reshape(-1,1)\n",
    "np.shape(w),np.shape(b)"
   ]
  },
  {
   "cell_type": "code",
   "execution_count": 22,
   "id": "eb07478b",
   "metadata": {},
   "outputs": [],
   "source": [
    "# using 100 epochs and training weights and bias\n",
    "#learning_rate = 0.01\n",
    "#using no_of_batches=100 mini batches\n",
    "eta = 0.01\n",
    "epochs = 20\n",
    "costs = []\n",
    "no_of_batches = 100\n",
    "#using batch of np.shape(y)[1] // no_of_batches\n",
    "batch_size = np.shape(Y)[1]//no_of_batches\n",
    "for i in range(epochs):\n",
    "    X_batch = np.array(np.split(X[:,0:(batch_size*no_of_batches)],no_of_batches,1))\n",
    "    Y_batch = np.array(np.split(Y[:,0:(batch_size*no_of_batches)],no_of_batches,1))\n",
    "    for j in range(no_of_batches):\n",
    "        grads, cost = propogation(w,b,X_batch[j],Y_batch[j])\n",
    "        costs.append(cost)\n",
    "        dw = grads[\"dw\"]\n",
    "        db = grads[\"db\"]\n",
    "        w = w - eta * dw\n",
    "        b = b - eta * db\n",
    "    \n"
   ]
  },
  {
   "cell_type": "code",
   "execution_count": 23,
   "id": "848d72cd",
   "metadata": {},
   "outputs": [
    {
     "name": "stdout",
     "output_type": "stream",
     "text": [
      "final cost is: [0.29719188]\n"
     ]
    }
   ],
   "source": [
    "print(f'final cost is: {cost}')"
   ]
  },
  {
   "cell_type": "code",
   "execution_count": 24,
   "id": "ee46302f",
   "metadata": {
    "scrolled": true
   },
   "outputs": [
    {
     "data": {
      "image/png": "[encoded data removed]",
      "text/plain": [
       "<Figure size 576x576 with 1 Axes>"
      ]
     },
     "metadata": {
      "needs_background": "light"
     },
     "output_type": "display_data"
    }
   ],
   "source": [
    "x = np.arange(epochs*no_of_batches)\n",
    "plt.figure(figsize=(8,8))\n",
    "plt.plot(x,costs)\n",
    "plt.xlabel('epochs')\n",
    "plt.ylabel('Cost')\n",
    "plt.show()"
   ]
  },
  {
   "cell_type": "markdown",
   "id": "b4d801c2",
   "metadata": {},
   "source": [
    "### Note: Here we can see that when used a smaller batch size and even with low number of epochs, we are getting lower final cost on training set."
   ]
  },
  {
   "cell_type": "code",
   "execution_count": null,
   "id": "005f4aa8",
   "metadata": {},
   "outputs": [],
   "source": []
  },
  {
   "cell_type": "markdown",
   "id": "ebed2859",
   "metadata": {},
   "source": [
    "### 1.(b)"
   ]
  },
  {
   "cell_type": "code",
   "execution_count": 25,
   "id": "4c916a14",
   "metadata": {},
   "outputs": [
    {
     "data": {
      "text/html": [
       "<div>\n",
       "<style scoped>\n",
       "    .dataframe tbody tr th:only-of-type {\n",
       "        vertical-align: middle;\n",
       "    }\n",
       "\n",
       "    .dataframe tbody tr th {\n",
       "        vertical-align: top;\n",
       "    }\n",
       "\n",
       "    .dataframe thead th {\n",
       "        text-align: right;\n",
       "    }\n",
       "</style>\n",
       "<table border=\"1\" class=\"dataframe\">\n",
       "  <thead>\n",
       "    <tr style=\"text-align: right;\">\n",
       "      <th></th>\n",
       "      <th>0</th>\n",
       "      <th>1</th>\n",
       "      <th>2</th>\n",
       "      <th>3</th>\n",
       "      <th>4</th>\n",
       "      <th>5</th>\n",
       "      <th>6</th>\n",
       "      <th>7</th>\n",
       "      <th>8</th>\n",
       "      <th>9</th>\n",
       "      <th>...</th>\n",
       "      <th>50</th>\n",
       "      <th>51</th>\n",
       "      <th>52</th>\n",
       "      <th>53</th>\n",
       "      <th>54</th>\n",
       "      <th>55</th>\n",
       "      <th>56</th>\n",
       "      <th>57</th>\n",
       "      <th>58</th>\n",
       "      <th>59</th>\n",
       "    </tr>\n",
       "  </thead>\n",
       "  <tbody>\n",
       "    <tr>\n",
       "      <th>0</th>\n",
       "      <td>3.863817</td>\n",
       "      <td>-4.783144</td>\n",
       "      <td>-3.905487</td>\n",
       "      <td>-0.535617</td>\n",
       "      <td>-1.551824</td>\n",
       "      <td>-1.499466</td>\n",
       "      <td>-0.859588</td>\n",
       "      <td>0.372485</td>\n",
       "      <td>-0.649211</td>\n",
       "      <td>-0.391779</td>\n",
       "      <td>...</td>\n",
       "      <td>0.049115</td>\n",
       "      <td>0.009052</td>\n",
       "      <td>0.058107</td>\n",
       "      <td>-0.094742</td>\n",
       "      <td>0.021947</td>\n",
       "      <td>0.042368</td>\n",
       "      <td>-0.036193</td>\n",
       "      <td>0.011716</td>\n",
       "      <td>-0.002627</td>\n",
       "      <td>-0.013202</td>\n",
       "    </tr>\n",
       "    <tr>\n",
       "      <th>1</th>\n",
       "      <td>-10.056757</td>\n",
       "      <td>-5.685840</td>\n",
       "      <td>-0.045440</td>\n",
       "      <td>-1.810329</td>\n",
       "      <td>3.860155</td>\n",
       "      <td>-0.612230</td>\n",
       "      <td>-1.352859</td>\n",
       "      <td>-0.210533</td>\n",
       "      <td>0.592775</td>\n",
       "      <td>-0.093317</td>\n",
       "      <td>...</td>\n",
       "      <td>-0.072195</td>\n",
       "      <td>0.100559</td>\n",
       "      <td>0.015884</td>\n",
       "      <td>-0.046483</td>\n",
       "      <td>0.082804</td>\n",
       "      <td>-0.037946</td>\n",
       "      <td>0.025628</td>\n",
       "      <td>-0.174175</td>\n",
       "      <td>0.012218</td>\n",
       "      <td>-0.044811</td>\n",
       "    </tr>\n",
       "    <tr>\n",
       "      <th>2</th>\n",
       "      <td>-1.752938</td>\n",
       "      <td>-2.699559</td>\n",
       "      <td>1.510144</td>\n",
       "      <td>0.081531</td>\n",
       "      <td>-1.604532</td>\n",
       "      <td>-1.849043</td>\n",
       "      <td>-2.171057</td>\n",
       "      <td>-3.236153</td>\n",
       "      <td>-0.541043</td>\n",
       "      <td>0.442342</td>\n",
       "      <td>...</td>\n",
       "      <td>0.027038</td>\n",
       "      <td>-0.070303</td>\n",
       "      <td>-0.012252</td>\n",
       "      <td>0.052579</td>\n",
       "      <td>-0.022195</td>\n",
       "      <td>-0.023904</td>\n",
       "      <td>0.158927</td>\n",
       "      <td>0.005207</td>\n",
       "      <td>0.015620</td>\n",
       "      <td>-0.021611</td>\n",
       "    </tr>\n",
       "    <tr>\n",
       "      <th>3</th>\n",
       "      <td>-3.170220</td>\n",
       "      <td>-4.744630</td>\n",
       "      <td>3.362495</td>\n",
       "      <td>-2.200058</td>\n",
       "      <td>-3.640497</td>\n",
       "      <td>-0.942428</td>\n",
       "      <td>-3.085365</td>\n",
       "      <td>0.144203</td>\n",
       "      <td>-1.065229</td>\n",
       "      <td>0.425932</td>\n",
       "      <td>...</td>\n",
       "      <td>-0.047964</td>\n",
       "      <td>0.193836</td>\n",
       "      <td>-0.050392</td>\n",
       "      <td>0.120305</td>\n",
       "      <td>-0.158155</td>\n",
       "      <td>-0.065002</td>\n",
       "      <td>-0.165253</td>\n",
       "      <td>-0.173285</td>\n",
       "      <td>-0.096143</td>\n",
       "      <td>0.064330</td>\n",
       "    </tr>\n",
       "    <tr>\n",
       "      <th>4</th>\n",
       "      <td>-3.519579</td>\n",
       "      <td>-3.659691</td>\n",
       "      <td>3.410805</td>\n",
       "      <td>0.665115</td>\n",
       "      <td>-5.036384</td>\n",
       "      <td>-3.107760</td>\n",
       "      <td>-1.921138</td>\n",
       "      <td>-0.518617</td>\n",
       "      <td>0.085033</td>\n",
       "      <td>-2.412228</td>\n",
       "      <td>...</td>\n",
       "      <td>-0.134195</td>\n",
       "      <td>0.035903</td>\n",
       "      <td>-0.045471</td>\n",
       "      <td>-0.105559</td>\n",
       "      <td>0.017580</td>\n",
       "      <td>0.021768</td>\n",
       "      <td>0.072975</td>\n",
       "      <td>0.027165</td>\n",
       "      <td>0.025080</td>\n",
       "      <td>0.024360</td>\n",
       "    </tr>\n",
       "  </tbody>\n",
       "</table>\n",
       "<p>5 rows × 60 columns</p>\n",
       "</div>"
      ],
      "text/plain": [
       "          0         1         2         3         4         5         6   \\\n",
       "0   3.863817 -4.783144 -3.905487 -0.535617 -1.551824 -1.499466 -0.859588   \n",
       "1 -10.056757 -5.685840 -0.045440 -1.810329  3.860155 -0.612230 -1.352859   \n",
       "2  -1.752938 -2.699559  1.510144  0.081531 -1.604532 -1.849043 -2.171057   \n",
       "3  -3.170220 -4.744630  3.362495 -2.200058 -3.640497 -0.942428 -3.085365   \n",
       "4  -3.519579 -3.659691  3.410805  0.665115 -5.036384 -3.107760 -1.921138   \n",
       "\n",
       "         7         8         9   ...        50        51        52        53  \\\n",
       "0  0.372485 -0.649211 -0.391779  ...  0.049115  0.009052  0.058107 -0.094742   \n",
       "1 -0.210533  0.592775 -0.093317  ... -0.072195  0.100559  0.015884 -0.046483   \n",
       "2 -3.236153 -0.541043  0.442342  ...  0.027038 -0.070303 -0.012252  0.052579   \n",
       "3  0.144203 -1.065229  0.425932  ... -0.047964  0.193836 -0.050392  0.120305   \n",
       "4 -0.518617  0.085033 -2.412228  ... -0.134195  0.035903 -0.045471 -0.105559   \n",
       "\n",
       "         54        55        56        57        58        59  \n",
       "0  0.021947  0.042368 -0.036193  0.011716 -0.002627 -0.013202  \n",
       "1  0.082804 -0.037946  0.025628 -0.174175  0.012218 -0.044811  \n",
       "2 -0.022195 -0.023904  0.158927  0.005207  0.015620 -0.021611  \n",
       "3 -0.158155 -0.065002 -0.165253 -0.173285 -0.096143  0.064330  \n",
       "4  0.017580  0.021768  0.072975  0.027165  0.025080  0.024360  \n",
       "\n",
       "[5 rows x 60 columns]"
      ]
     },
     "execution_count": 25,
     "metadata": {},
     "output_type": "execute_result"
    }
   ],
   "source": [
    "#read and modify test dataset\n",
    "data = pd.read_csv('Test_file.csv',header=None)\n",
    "df = pd.DataFrame(data=data)\n",
    "labels = df.iloc[:,60]\n",
    "df = df.drop(df.columns[[60]], 1)\n",
    "df.head()"
   ]
  },
  {
   "cell_type": "code",
   "execution_count": 26,
   "id": "99bce613",
   "metadata": {},
   "outputs": [],
   "source": [
    "X = np.array(df).T\n",
    "Y = np.array(labels).reshape(-1)"
   ]
  },
  {
   "cell_type": "code",
   "execution_count": 27,
   "id": "21099b27",
   "metadata": {},
   "outputs": [],
   "source": [
    "def predict(w, b, X):\n",
    "    Y_hat = sigmoid(np.dot(w.T,X) + b)\n",
    "    Y_predicted = np.ones(Y_hat.shape[1])\n",
    "    for i in range(Y_hat.shape[1]):\n",
    "        if (Y_hat[0][i] <= 0.5):\n",
    "            Y_predicted[i] = 0\n",
    "    return Y_predicted"
   ]
  },
  {
   "cell_type": "code",
   "execution_count": 28,
   "id": "8dab26c5",
   "metadata": {},
   "outputs": [
    {
     "name": "stdout",
     "output_type": "stream",
     "text": [
      "f1 score : [0.87989886 0.8816609 ] and total accuracy: 0.8807863915225879\n"
     ]
    }
   ],
   "source": [
    "Y_predicted = predict(w, b, X)\n",
    "print(f\"f1 score : {f1_score(y_true=Y,y_pred=Y_predicted,average=None)} and total accuracy: {accuracy_score(y_true=Y,y_pred=Y_predicted)}\")"
   ]
  },
  {
   "cell_type": "markdown",
   "id": "839520d4",
   "metadata": {},
   "source": [
    "### Note : we are getting better accuracy"
   ]
  },
  {
   "cell_type": "code",
   "execution_count": null,
   "id": "ef05cd24",
   "metadata": {},
   "outputs": [],
   "source": []
  },
  {
   "cell_type": "code",
   "execution_count": null,
   "id": "6f7d8e3c",
   "metadata": {},
   "outputs": [],
   "source": []
  },
  {
   "cell_type": "code",
   "execution_count": null,
   "id": "0ea0fb1b",
   "metadata": {},
   "outputs": [],
   "source": []
  },
  {
   "cell_type": "markdown",
   "id": "45325c47",
   "metadata": {},
   "source": [
    "### 1.(b)"
   ]
  },
  {
   "cell_type": "code",
   "execution_count": 29,
   "id": "64dac491",
   "metadata": {},
   "outputs": [
    {
     "data": {
      "text/html": [
       "<div>\n",
       "<style scoped>\n",
       "    .dataframe tbody tr th:only-of-type {\n",
       "        vertical-align: middle;\n",
       "    }\n",
       "\n",
       "    .dataframe tbody tr th {\n",
       "        vertical-align: top;\n",
       "    }\n",
       "\n",
       "    .dataframe thead th {\n",
       "        text-align: right;\n",
       "    }\n",
       "</style>\n",
       "<table border=\"1\" class=\"dataframe\">\n",
       "  <thead>\n",
       "    <tr style=\"text-align: right;\">\n",
       "      <th></th>\n",
       "      <th>0</th>\n",
       "      <th>1</th>\n",
       "      <th>2</th>\n",
       "      <th>3</th>\n",
       "      <th>4</th>\n",
       "      <th>5</th>\n",
       "      <th>6</th>\n",
       "      <th>7</th>\n",
       "      <th>8</th>\n",
       "      <th>9</th>\n",
       "      <th>...</th>\n",
       "      <th>50</th>\n",
       "      <th>51</th>\n",
       "      <th>52</th>\n",
       "      <th>53</th>\n",
       "      <th>54</th>\n",
       "      <th>55</th>\n",
       "      <th>56</th>\n",
       "      <th>57</th>\n",
       "      <th>58</th>\n",
       "      <th>59</th>\n",
       "    </tr>\n",
       "  </thead>\n",
       "  <tbody>\n",
       "    <tr>\n",
       "      <th>0</th>\n",
       "      <td>3.863817</td>\n",
       "      <td>-4.783144</td>\n",
       "      <td>-3.905487</td>\n",
       "      <td>-0.535617</td>\n",
       "      <td>-1.551824</td>\n",
       "      <td>-1.499466</td>\n",
       "      <td>-0.859588</td>\n",
       "      <td>0.372485</td>\n",
       "      <td>-0.649211</td>\n",
       "      <td>-0.391779</td>\n",
       "      <td>...</td>\n",
       "      <td>0.049115</td>\n",
       "      <td>0.009052</td>\n",
       "      <td>0.058107</td>\n",
       "      <td>-0.094742</td>\n",
       "      <td>0.021947</td>\n",
       "      <td>0.042368</td>\n",
       "      <td>-0.036193</td>\n",
       "      <td>0.011716</td>\n",
       "      <td>-0.002627</td>\n",
       "      <td>-0.013202</td>\n",
       "    </tr>\n",
       "    <tr>\n",
       "      <th>1</th>\n",
       "      <td>-10.056757</td>\n",
       "      <td>-5.685840</td>\n",
       "      <td>-0.045440</td>\n",
       "      <td>-1.810329</td>\n",
       "      <td>3.860155</td>\n",
       "      <td>-0.612230</td>\n",
       "      <td>-1.352859</td>\n",
       "      <td>-0.210533</td>\n",
       "      <td>0.592775</td>\n",
       "      <td>-0.093317</td>\n",
       "      <td>...</td>\n",
       "      <td>-0.072195</td>\n",
       "      <td>0.100559</td>\n",
       "      <td>0.015884</td>\n",
       "      <td>-0.046483</td>\n",
       "      <td>0.082804</td>\n",
       "      <td>-0.037946</td>\n",
       "      <td>0.025628</td>\n",
       "      <td>-0.174175</td>\n",
       "      <td>0.012218</td>\n",
       "      <td>-0.044811</td>\n",
       "    </tr>\n",
       "    <tr>\n",
       "      <th>2</th>\n",
       "      <td>-1.752938</td>\n",
       "      <td>-2.699559</td>\n",
       "      <td>1.510144</td>\n",
       "      <td>0.081531</td>\n",
       "      <td>-1.604532</td>\n",
       "      <td>-1.849043</td>\n",
       "      <td>-2.171057</td>\n",
       "      <td>-3.236153</td>\n",
       "      <td>-0.541043</td>\n",
       "      <td>0.442342</td>\n",
       "      <td>...</td>\n",
       "      <td>0.027038</td>\n",
       "      <td>-0.070303</td>\n",
       "      <td>-0.012252</td>\n",
       "      <td>0.052579</td>\n",
       "      <td>-0.022195</td>\n",
       "      <td>-0.023904</td>\n",
       "      <td>0.158927</td>\n",
       "      <td>0.005207</td>\n",
       "      <td>0.015620</td>\n",
       "      <td>-0.021611</td>\n",
       "    </tr>\n",
       "    <tr>\n",
       "      <th>3</th>\n",
       "      <td>-3.170220</td>\n",
       "      <td>-4.744630</td>\n",
       "      <td>3.362495</td>\n",
       "      <td>-2.200058</td>\n",
       "      <td>-3.640497</td>\n",
       "      <td>-0.942428</td>\n",
       "      <td>-3.085365</td>\n",
       "      <td>0.144203</td>\n",
       "      <td>-1.065229</td>\n",
       "      <td>0.425932</td>\n",
       "      <td>...</td>\n",
       "      <td>-0.047964</td>\n",
       "      <td>0.193836</td>\n",
       "      <td>-0.050392</td>\n",
       "      <td>0.120305</td>\n",
       "      <td>-0.158155</td>\n",
       "      <td>-0.065002</td>\n",
       "      <td>-0.165253</td>\n",
       "      <td>-0.173285</td>\n",
       "      <td>-0.096143</td>\n",
       "      <td>0.064330</td>\n",
       "    </tr>\n",
       "    <tr>\n",
       "      <th>4</th>\n",
       "      <td>-3.519579</td>\n",
       "      <td>-3.659691</td>\n",
       "      <td>3.410805</td>\n",
       "      <td>0.665115</td>\n",
       "      <td>-5.036384</td>\n",
       "      <td>-3.107760</td>\n",
       "      <td>-1.921138</td>\n",
       "      <td>-0.518617</td>\n",
       "      <td>0.085033</td>\n",
       "      <td>-2.412228</td>\n",
       "      <td>...</td>\n",
       "      <td>-0.134195</td>\n",
       "      <td>0.035903</td>\n",
       "      <td>-0.045471</td>\n",
       "      <td>-0.105559</td>\n",
       "      <td>0.017580</td>\n",
       "      <td>0.021768</td>\n",
       "      <td>0.072975</td>\n",
       "      <td>0.027165</td>\n",
       "      <td>0.025080</td>\n",
       "      <td>0.024360</td>\n",
       "    </tr>\n",
       "  </tbody>\n",
       "</table>\n",
       "<p>5 rows × 60 columns</p>\n",
       "</div>"
      ],
      "text/plain": [
       "          0         1         2         3         4         5         6   \\\n",
       "0   3.863817 -4.783144 -3.905487 -0.535617 -1.551824 -1.499466 -0.859588   \n",
       "1 -10.056757 -5.685840 -0.045440 -1.810329  3.860155 -0.612230 -1.352859   \n",
       "2  -1.752938 -2.699559  1.510144  0.081531 -1.604532 -1.849043 -2.171057   \n",
       "3  -3.170220 -4.744630  3.362495 -2.200058 -3.640497 -0.942428 -3.085365   \n",
       "4  -3.519579 -3.659691  3.410805  0.665115 -5.036384 -3.107760 -1.921138   \n",
       "\n",
       "         7         8         9   ...        50        51        52        53  \\\n",
       "0  0.372485 -0.649211 -0.391779  ...  0.049115  0.009052  0.058107 -0.094742   \n",
       "1 -0.210533  0.592775 -0.093317  ... -0.072195  0.100559  0.015884 -0.046483   \n",
       "2 -3.236153 -0.541043  0.442342  ...  0.027038 -0.070303 -0.012252  0.052579   \n",
       "3  0.144203 -1.065229  0.425932  ... -0.047964  0.193836 -0.050392  0.120305   \n",
       "4 -0.518617  0.085033 -2.412228  ... -0.134195  0.035903 -0.045471 -0.105559   \n",
       "\n",
       "         54        55        56        57        58        59  \n",
       "0  0.021947  0.042368 -0.036193  0.011716 -0.002627 -0.013202  \n",
       "1  0.082804 -0.037946  0.025628 -0.174175  0.012218 -0.044811  \n",
       "2 -0.022195 -0.023904  0.158927  0.005207  0.015620 -0.021611  \n",
       "3 -0.158155 -0.065002 -0.165253 -0.173285 -0.096143  0.064330  \n",
       "4  0.017580  0.021768  0.072975  0.027165  0.025080  0.024360  \n",
       "\n",
       "[5 rows x 60 columns]"
      ]
     },
     "execution_count": 29,
     "metadata": {},
     "output_type": "execute_result"
    }
   ],
   "source": [
    "#read and modify test dataset\n",
    "data = pd.read_csv('Test_file.csv',header=None)\n",
    "df = pd.DataFrame(data=data)\n",
    "labels = df.iloc[:,60]\n",
    "df = df.drop(df.columns[[60]], 1)\n",
    "df.head()"
   ]
  },
  {
   "cell_type": "code",
   "execution_count": 30,
   "id": "1c873a0d",
   "metadata": {},
   "outputs": [],
   "source": [
    "X = np.array(df).T\n",
    "Y = np.array(labels).reshape(-1)"
   ]
  },
  {
   "cell_type": "code",
   "execution_count": 31,
   "id": "5a5e0468",
   "metadata": {},
   "outputs": [],
   "source": [
    "def predict(w, b, X):\n",
    "    Y_hat = sigmoid(np.dot(w.T,X) + b)\n",
    "    Y_predicted = np.ones(Y_hat.shape[1])\n",
    "    for i in range(Y_hat.shape[1]):\n",
    "        if (Y_hat[0][i] <= 0.5):\n",
    "            Y_predicted[i] = 0\n",
    "    return Y_predicted"
   ]
  },
  {
   "cell_type": "code",
   "execution_count": 32,
   "id": "b0c1834c",
   "metadata": {},
   "outputs": [
    {
     "name": "stdout",
     "output_type": "stream",
     "text": [
      "f1 score : [0.87989886 0.8816609 ] and total accuracy: 0.8807863915225879\n"
     ]
    }
   ],
   "source": [
    "Y_predicted = predict(w, b, X)\n",
    "print(f\"f1 score : {f1_score(y_true=Y,y_pred=Y_predicted,average=None)} and total accuracy: {accuracy_score(y_true=Y,y_pred=Y_predicted)}\")"
   ]
  },
  {
   "cell_type": "code",
   "execution_count": 33,
   "id": "7d2f4435",
   "metadata": {},
   "outputs": [
    {
     "name": "stdout",
     "output_type": "stream",
     "text": [
      "time elapsed:8.296905994415283\n"
     ]
    }
   ],
   "source": [
    "print(f'time elapsed:{time.time() - t1}')"
   ]
  },
  {
   "cell_type": "markdown",
   "id": "4fc2f981",
   "metadata": {},
   "source": [
    "### Note : runtime is also lesser than before"
   ]
  },
  {
   "cell_type": "code",
   "execution_count": null,
   "id": "c6ac3385",
   "metadata": {},
   "outputs": [],
   "source": []
  },
  {
   "cell_type": "code",
   "execution_count": null,
   "id": "726c9c11",
   "metadata": {},
   "outputs": [],
   "source": []
  },
  {
   "cell_type": "code",
   "execution_count": null,
   "id": "4557a343",
   "metadata": {},
   "outputs": [],
   "source": []
  },
  {
   "cell_type": "markdown",
   "id": "077d8eb7",
   "metadata": {},
   "source": [
    "## Question 2"
   ]
  },
  {
   "cell_type": "markdown",
   "id": "a39c0b37",
   "metadata": {},
   "source": [
    "### Remark: first row of dataset if being removed and then the txt file is imported"
   ]
  },
  {
   "cell_type": "code",
   "execution_count": 34,
   "id": "63f35c64",
   "metadata": {},
   "outputs": [
    {
     "data": {
      "text/html": [
       "<div>\n",
       "<style scoped>\n",
       "    .dataframe tbody tr th:only-of-type {\n",
       "        vertical-align: middle;\n",
       "    }\n",
       "\n",
       "    .dataframe tbody tr th {\n",
       "        vertical-align: top;\n",
       "    }\n",
       "\n",
       "    .dataframe thead th {\n",
       "        text-align: right;\n",
       "    }\n",
       "</style>\n",
       "<table border=\"1\" class=\"dataframe\">\n",
       "  <thead>\n",
       "    <tr style=\"text-align: right;\">\n",
       "      <th></th>\n",
       "      <th>0</th>\n",
       "      <th>1</th>\n",
       "      <th>2</th>\n",
       "      <th>3</th>\n",
       "      <th>4</th>\n",
       "      <th>5</th>\n",
       "      <th>6</th>\n",
       "      <th>7</th>\n",
       "      <th>8</th>\n",
       "      <th>9</th>\n",
       "      <th>...</th>\n",
       "      <th>40</th>\n",
       "      <th>41</th>\n",
       "      <th>42</th>\n",
       "      <th>43</th>\n",
       "      <th>44</th>\n",
       "      <th>45</th>\n",
       "      <th>46</th>\n",
       "      <th>47</th>\n",
       "      <th>48</th>\n",
       "      <th>49</th>\n",
       "    </tr>\n",
       "  </thead>\n",
       "  <tbody>\n",
       "    <tr>\n",
       "      <th>0</th>\n",
       "      <td>2.59413</td>\n",
       "      <td>0.468803</td>\n",
       "      <td>20.6916</td>\n",
       "      <td>0.322648</td>\n",
       "      <td>0.009682</td>\n",
       "      <td>0.374393</td>\n",
       "      <td>0.803479</td>\n",
       "      <td>0.896592</td>\n",
       "      <td>3.59665</td>\n",
       "      <td>0.249282</td>\n",
       "      <td>...</td>\n",
       "      <td>101.174</td>\n",
       "      <td>-31.3730</td>\n",
       "      <td>0.442259</td>\n",
       "      <td>5.86453</td>\n",
       "      <td>0.000000</td>\n",
       "      <td>0.090519</td>\n",
       "      <td>0.176909</td>\n",
       "      <td>0.457585</td>\n",
       "      <td>0.071769</td>\n",
       "      <td>0.245996</td>\n",
       "    </tr>\n",
       "    <tr>\n",
       "      <th>1</th>\n",
       "      <td>3.86388</td>\n",
       "      <td>0.645781</td>\n",
       "      <td>18.1375</td>\n",
       "      <td>0.233529</td>\n",
       "      <td>0.030733</td>\n",
       "      <td>0.361239</td>\n",
       "      <td>1.069740</td>\n",
       "      <td>0.878714</td>\n",
       "      <td>3.59243</td>\n",
       "      <td>0.200793</td>\n",
       "      <td>...</td>\n",
       "      <td>186.516</td>\n",
       "      <td>45.9597</td>\n",
       "      <td>-0.478507</td>\n",
       "      <td>6.11126</td>\n",
       "      <td>0.001182</td>\n",
       "      <td>0.091800</td>\n",
       "      <td>-0.465572</td>\n",
       "      <td>0.935523</td>\n",
       "      <td>0.333613</td>\n",
       "      <td>0.230621</td>\n",
       "    </tr>\n",
       "    <tr>\n",
       "      <th>2</th>\n",
       "      <td>3.38584</td>\n",
       "      <td>1.197140</td>\n",
       "      <td>36.0807</td>\n",
       "      <td>0.200866</td>\n",
       "      <td>0.017341</td>\n",
       "      <td>0.260841</td>\n",
       "      <td>1.108950</td>\n",
       "      <td>0.884405</td>\n",
       "      <td>3.43159</td>\n",
       "      <td>0.177167</td>\n",
       "      <td>...</td>\n",
       "      <td>129.931</td>\n",
       "      <td>-11.5608</td>\n",
       "      <td>-0.297008</td>\n",
       "      <td>8.27204</td>\n",
       "      <td>0.003854</td>\n",
       "      <td>0.141721</td>\n",
       "      <td>-0.210559</td>\n",
       "      <td>1.013450</td>\n",
       "      <td>0.255512</td>\n",
       "      <td>0.180901</td>\n",
       "    </tr>\n",
       "    <tr>\n",
       "      <th>3</th>\n",
       "      <td>4.28524</td>\n",
       "      <td>0.510155</td>\n",
       "      <td>674.2010</td>\n",
       "      <td>0.281923</td>\n",
       "      <td>0.009174</td>\n",
       "      <td>0.000000</td>\n",
       "      <td>0.998822</td>\n",
       "      <td>0.823390</td>\n",
       "      <td>3.16382</td>\n",
       "      <td>0.171678</td>\n",
       "      <td>...</td>\n",
       "      <td>163.978</td>\n",
       "      <td>-18.4586</td>\n",
       "      <td>0.453886</td>\n",
       "      <td>2.48112</td>\n",
       "      <td>0.000000</td>\n",
       "      <td>0.180938</td>\n",
       "      <td>0.407968</td>\n",
       "      <td>4.341270</td>\n",
       "      <td>0.473081</td>\n",
       "      <td>0.258990</td>\n",
       "    </tr>\n",
       "    <tr>\n",
       "      <th>4</th>\n",
       "      <td>5.93662</td>\n",
       "      <td>0.832993</td>\n",
       "      <td>59.8796</td>\n",
       "      <td>0.232853</td>\n",
       "      <td>0.025066</td>\n",
       "      <td>0.233556</td>\n",
       "      <td>1.370040</td>\n",
       "      <td>0.787424</td>\n",
       "      <td>3.66546</td>\n",
       "      <td>0.174862</td>\n",
       "      <td>...</td>\n",
       "      <td>229.555</td>\n",
       "      <td>42.9600</td>\n",
       "      <td>-0.975752</td>\n",
       "      <td>2.66109</td>\n",
       "      <td>0.000000</td>\n",
       "      <td>0.170836</td>\n",
       "      <td>-0.814403</td>\n",
       "      <td>4.679490</td>\n",
       "      <td>1.924990</td>\n",
       "      <td>0.253893</td>\n",
       "    </tr>\n",
       "  </tbody>\n",
       "</table>\n",
       "<p>5 rows × 50 columns</p>\n",
       "</div>"
      ],
      "text/plain": [
       "        0         1         2         3         4         5         6   \\\n",
       "0  2.59413  0.468803   20.6916  0.322648  0.009682  0.374393  0.803479   \n",
       "1  3.86388  0.645781   18.1375  0.233529  0.030733  0.361239  1.069740   \n",
       "2  3.38584  1.197140   36.0807  0.200866  0.017341  0.260841  1.108950   \n",
       "3  4.28524  0.510155  674.2010  0.281923  0.009174  0.000000  0.998822   \n",
       "4  5.93662  0.832993   59.8796  0.232853  0.025066  0.233556  1.370040   \n",
       "\n",
       "         7        8         9   ...       40       41        42       43  \\\n",
       "0  0.896592  3.59665  0.249282  ...  101.174 -31.3730  0.442259  5.86453   \n",
       "1  0.878714  3.59243  0.200793  ...  186.516  45.9597 -0.478507  6.11126   \n",
       "2  0.884405  3.43159  0.177167  ...  129.931 -11.5608 -0.297008  8.27204   \n",
       "3  0.823390  3.16382  0.171678  ...  163.978 -18.4586  0.453886  2.48112   \n",
       "4  0.787424  3.66546  0.174862  ...  229.555  42.9600 -0.975752  2.66109   \n",
       "\n",
       "         44        45        46        47        48        49  \n",
       "0  0.000000  0.090519  0.176909  0.457585  0.071769  0.245996  \n",
       "1  0.001182  0.091800 -0.465572  0.935523  0.333613  0.230621  \n",
       "2  0.003854  0.141721 -0.210559  1.013450  0.255512  0.180901  \n",
       "3  0.000000  0.180938  0.407968  4.341270  0.473081  0.258990  \n",
       "4  0.000000  0.170836 -0.814403  4.679490  1.924990  0.253893  \n",
       "\n",
       "[5 rows x 50 columns]"
      ]
     },
     "execution_count": 34,
     "metadata": {},
     "output_type": "execute_result"
    }
   ],
   "source": [
    "#first 36499 data points of class 0\n",
    "# next 93565 data points of class 1\n",
    "df = pd.read_table('MiniBooNE_PID.txt', delim_whitespace=True, header=None)\n",
    "df.head()"
   ]
  },
  {
   "cell_type": "code",
   "execution_count": 35,
   "id": "2fc1b638",
   "metadata": {},
   "outputs": [
    {
     "data": {
      "text/plain": [
       "(130064, 50)"
      ]
     },
     "execution_count": 35,
     "metadata": {},
     "output_type": "execute_result"
    }
   ],
   "source": [
    "df.shape"
   ]
  },
  {
   "cell_type": "code",
   "execution_count": 36,
   "id": "e022a8df",
   "metadata": {},
   "outputs": [
    {
     "data": {
      "text/plain": [
       "((36499, 50), (93565, 50), (36499, 1), (93565, 1))"
      ]
     },
     "execution_count": 36,
     "metadata": {},
     "output_type": "execute_result"
    }
   ],
   "source": [
    "X0 = df.iloc[0:36499,:]\n",
    "X1 = df.iloc[36499:,:]\n",
    "Y0 = np.zeros(36499).reshape(-1,1)\n",
    "Y1 = np.zeros(93565).reshape(-1,1)\n",
    "X0.shape,X1.shape,Y0.shape,Y1.shape"
   ]
  },
  {
   "cell_type": "code",
   "execution_count": 37,
   "id": "da441211",
   "metadata": {},
   "outputs": [
    {
     "data": {
      "text/plain": [
       "((11000, 50), (25499, 50), (11000, 50), (82565, 50))"
      ]
     },
     "execution_count": 37,
     "metadata": {},
     "output_type": "execute_result"
    }
   ],
   "source": [
    "X0_test = np.array(X0.iloc[0:11000,:])\n",
    "X0_train = np.array(X0.iloc[11000:,:])\n",
    "X1_test = np.array(X1.iloc[0:11000,:])\n",
    "X1_train = np.array(X1.iloc[11000:,:])\n",
    "X0_test.shape,X0_train.shape,X1_test.shape,X1_train.shape\n"
   ]
  },
  {
   "cell_type": "code",
   "execution_count": 38,
   "id": "057ce10d",
   "metadata": {},
   "outputs": [
    {
     "data": {
      "text/plain": [
       "((11000, 1), (25499, 1), (11000, 1), (82565, 1))"
      ]
     },
     "execution_count": 38,
     "metadata": {},
     "output_type": "execute_result"
    }
   ],
   "source": [
    "Y0_test = np.zeros(11000).reshape(-1,1)\n",
    "Y0_train = np.zeros(25499).reshape(-1,1)\n",
    "Y1_test = np.ones(11000).reshape(-1,1)\n",
    "Y1_train = np.ones(82565).reshape(-1,1)\n",
    "Y0_test.shape,Y0_train.shape,Y1_test.shape,Y1_train.shape"
   ]
  },
  {
   "cell_type": "code",
   "execution_count": 39,
   "id": "3133f221",
   "metadata": {},
   "outputs": [
    {
     "data": {
      "text/plain": [
       "((108064, 50), (22000, 50), (108064, 1), (22000, 1))"
      ]
     },
     "execution_count": 39,
     "metadata": {},
     "output_type": "execute_result"
    }
   ],
   "source": [
    "xtr = np.vstack((X0_train,X1_train))\n",
    "xts = np.vstack((X0_test,X1_test))\n",
    "ytr = np.vstack((Y0_train,Y1_train))\n",
    "yts = np.vstack((Y0_test,Y1_test))\n",
    "xtr.shape,xts.shape,ytr.shape,yts.shape"
   ]
  },
  {
   "cell_type": "code",
   "execution_count": 40,
   "id": "741c7e26",
   "metadata": {},
   "outputs": [],
   "source": [
    "#standardising data\n",
    "scaler = StandardScaler()\n",
    "xtr = scaler.fit_transform(xtr)\n",
    "xts = scaler.transform(xts)"
   ]
  },
  {
   "cell_type": "code",
   "execution_count": 41,
   "id": "e2241b7c",
   "metadata": {},
   "outputs": [
    {
     "data": {
      "text/plain": [
       "((108064, 50), (22000, 50))"
      ]
     },
     "execution_count": 41,
     "metadata": {},
     "output_type": "execute_result"
    }
   ],
   "source": [
    "xtr.shape,xts.shape"
   ]
  },
  {
   "cell_type": "markdown",
   "id": "900ec74f",
   "metadata": {},
   "source": [
    "### 2.(a)"
   ]
  },
  {
   "cell_type": "code",
   "execution_count": 42,
   "id": "062e9872",
   "metadata": {},
   "outputs": [],
   "source": [
    "#single neuron classifier with input layer and single neuron as output layer\n",
    "#no hidden layers\n",
    "class SimpleClassifier(nn.Module):\n",
    "    def __init__(self,no_input_features):\n",
    "        super().__init__()\n",
    "        self.op = nn.Linear(in_features=no_input_features,out_features=1)\n",
    "        \n",
    "    def forward(self, x):\n",
    "        x = self.op(x)\n",
    "        return torch.sigmoid(x)"
   ]
  },
  {
   "cell_type": "code",
   "execution_count": 43,
   "id": "ca0b2191",
   "metadata": {},
   "outputs": [],
   "source": [
    "def train(model, x, y, loss_fn, optimizer, batch_size):\n",
    "    model.train()\n",
    "    x, y = torch.Tensor(x), torch.Tensor(y)\n",
    "    \n",
    "    for i in range(0, len(x), batch_size):\n",
    "        i_end = i+batch_size\n",
    "        x_batch = x[i:min(i_end, len(x))]\n",
    "        y_batch = y[i:min(i_end, len(x))]\n",
    "        \n",
    "        pred = model(x_batch)\n",
    "        loss = loss_fn(pred, y_batch)\n",
    "        ## highly important\n",
    "        optimizer.zero_grad()\n",
    "        loss.backward()\n",
    "        optimizer.step()\n",
    "        \n",
    "    return loss.item()"
   ]
  },
  {
   "cell_type": "code",
   "execution_count": 44,
   "id": "c7d0f389",
   "metadata": {},
   "outputs": [],
   "source": [
    "def test(model, xts, yts,show):\n",
    "    model.eval()\n",
    "    with torch.no_grad():\n",
    "        xts = torch.Tensor(xts)\n",
    "        pred = model(xts)\n",
    "        yhat = np.zeros(pred.shape)\n",
    "        yhat[pred > 0.5] = 1\n",
    "        if(show==1):\n",
    "            print(f\"class wise f1 score : {f1_score(y_true=yts,y_pred=yhat,average=None)}\")\n",
    "            print(\"\\tTest Accuracy : {} % \".format(sum(yhat==yts)*100/len(yhat)))"
   ]
  },
  {
   "cell_type": "code",
   "execution_count": 45,
   "id": "ebca98f8",
   "metadata": {},
   "outputs": [],
   "source": [
    "ytr = ytr.reshape(-1,1)\n",
    "yts = yts.reshape(-1,1)"
   ]
  },
  {
   "cell_type": "code",
   "execution_count": null,
   "id": "abb1463c",
   "metadata": {},
   "outputs": [],
   "source": []
  },
  {
   "cell_type": "code",
   "execution_count": 46,
   "id": "e38cab4a",
   "metadata": {
    "scrolled": true
   },
   "outputs": [
    {
     "name": "stdout",
     "output_type": "stream",
     "text": [
      "class wise f1 score : [0.67825784 0.79356788]\n",
      "\tTest Accuracy : [74.85] % \n",
      "time elapsed:21.53942036628723\n"
     ]
    }
   ],
   "source": [
    "\n",
    "t1 = time.time()\n",
    "model = SimpleClassifier(X0.shape[1])\n",
    "loss_fn = nn.BCELoss()\n",
    "optimizer = torch.optim.SGD(model.parameters(), lr=0.01)\n",
    "batch_size = 500\n",
    "epochs = 100\n",
    "\n",
    "for i in range(epochs):\n",
    "    #print(\"--- epochs {} ---\".format(i+1))\n",
    "    epochs_loss = train(model, xtr, ytr, loss_fn, optimizer, batch_size)\n",
    "    #print(\"\\tBCE Loss (Training) : {} \".format(epochs_loss))\n",
    "    test(model, xts, yts, i-epochs+2)\n",
    "\n",
    "print(f'time elapsed:{time.time() - t1}')"
   ]
  },
  {
   "cell_type": "markdown",
   "id": "74b95b62",
   "metadata": {},
   "source": [
    "### Changing Batch Size"
   ]
  },
  {
   "cell_type": "code",
   "execution_count": 47,
   "id": "7ef3aa3e",
   "metadata": {},
   "outputs": [],
   "source": [
    "t1 = time.time()"
   ]
  },
  {
   "cell_type": "code",
   "execution_count": 48,
   "id": "bf2c2537",
   "metadata": {
    "scrolled": true
   },
   "outputs": [
    {
     "name": "stdout",
     "output_type": "stream",
     "text": [
      "class wise f1 score : [0.59143235 0.76888588]\n",
      "\tTest Accuracy : [70.47727273] % \n"
     ]
    }
   ],
   "source": [
    "model = SimpleClassifier(X0.shape[1])\n",
    "loss_fn = nn.BCELoss()\n",
    "optimizer = torch.optim.SGD(model.parameters(), lr=0.01)\n",
    "batch_size = 100\n",
    "epochs = 20\n",
    "\n",
    "for i in range(epochs):\n",
    "    #print(\"--- epochs {} ---\".format(i+1))\n",
    "    epochs_loss = train(model, xtr, ytr, loss_fn, optimizer, batch_size)\n",
    "    #print(\"\\tBCE Loss (Training) : {} \".format(epochs_loss))\n",
    "    test(model, xts, yts,i-epochs+2)\n",
    "    "
   ]
  },
  {
   "cell_type": "code",
   "execution_count": 49,
   "id": "72a67908",
   "metadata": {},
   "outputs": [
    {
     "name": "stdout",
     "output_type": "stream",
     "text": [
      "time elapsed:16.06813097000122\n"
     ]
    }
   ],
   "source": [
    "print(f'time elapsed:{time.time() - t1}')"
   ]
  },
  {
   "cell_type": "code",
   "execution_count": null,
   "id": "441239a2",
   "metadata": {},
   "outputs": [],
   "source": []
  },
  {
   "cell_type": "markdown",
   "id": "e4ed529d",
   "metadata": {},
   "source": [
    "### Changing Batch Size"
   ]
  },
  {
   "cell_type": "code",
   "execution_count": 50,
   "id": "26f7f0e4",
   "metadata": {},
   "outputs": [],
   "source": [
    "t1 = time.time()"
   ]
  },
  {
   "cell_type": "code",
   "execution_count": 51,
   "id": "7469c703",
   "metadata": {
    "scrolled": true
   },
   "outputs": [
    {
     "name": "stdout",
     "output_type": "stream",
     "text": [
      "class wise f1 score : [0.62663249 0.77844572]\n",
      "\tTest Accuracy : [72.19090909] % \n"
     ]
    }
   ],
   "source": [
    "model = SimpleClassifier(X0.shape[1])\n",
    "loss_fn = nn.BCELoss()\n",
    "optimizer = torch.optim.SGD(model.parameters(), lr=0.01)\n",
    "batch_size = 150\n",
    "epochs = 30\n",
    "\n",
    "for i in range(epochs):\n",
    "    #print(\"--- epochs {} ---\".format(i+1))\n",
    "    epochs_loss = train(model, xtr, ytr, loss_fn, optimizer, batch_size)\n",
    "    #print(\"\\tBCE Loss (Training) : {} \".format(epochs_loss))\n",
    "    test(model, xts, yts,i-epochs+2)\n",
    "    "
   ]
  },
  {
   "cell_type": "code",
   "execution_count": 52,
   "id": "eaa2a435",
   "metadata": {},
   "outputs": [
    {
     "name": "stdout",
     "output_type": "stream",
     "text": [
      "time elapsed:16.754286289215088\n"
     ]
    }
   ],
   "source": [
    "print(f'time elapsed:{time.time() - t1}')"
   ]
  },
  {
   "cell_type": "code",
   "execution_count": null,
   "id": "ce5019f5",
   "metadata": {},
   "outputs": [],
   "source": []
  },
  {
   "cell_type": "markdown",
   "id": "bc96b3ca",
   "metadata": {},
   "source": [
    "### Changing Batch Size"
   ]
  },
  {
   "cell_type": "code",
   "execution_count": 53,
   "id": "bdda3330",
   "metadata": {},
   "outputs": [],
   "source": [
    "t1 = time.time()"
   ]
  },
  {
   "cell_type": "code",
   "execution_count": 54,
   "id": "8d65f9ba",
   "metadata": {
    "scrolled": true
   },
   "outputs": [
    {
     "name": "stdout",
     "output_type": "stream",
     "text": [
      "class wise f1 score : [0.63349294 0.78011709]\n",
      "\tTest Accuracy : [72.51363636] % \n"
     ]
    }
   ],
   "source": [
    "model = SimpleClassifier(X0.shape[1])\n",
    "loss_fn = nn.BCELoss()\n",
    "optimizer = torch.optim.SGD(model.parameters(), lr=0.01)\n",
    "batch_size = 200\n",
    "epochs = 20\n",
    "\n",
    "for i in range(epochs):\n",
    "    #print(\"--- epochs {} ---\".format(i+1))\n",
    "    epochs_loss = train(model, xtr, ytr, loss_fn, optimizer, batch_size)\n",
    "    #print(\"\\tBCE Loss (Training) : {} \".format(epochs_loss))\n",
    "    test(model, xts, yts,i-epochs+2)\n",
    "    "
   ]
  },
  {
   "cell_type": "code",
   "execution_count": 55,
   "id": "77d3dcc1",
   "metadata": {},
   "outputs": [
    {
     "name": "stdout",
     "output_type": "stream",
     "text": [
      "time elapsed:8.643693685531616\n"
     ]
    }
   ],
   "source": [
    "print(f'time elapsed:{time.time() - t1}')"
   ]
  },
  {
   "cell_type": "code",
   "execution_count": null,
   "id": "eb30d197",
   "metadata": {},
   "outputs": [],
   "source": []
  },
  {
   "cell_type": "markdown",
   "id": "5d6db057",
   "metadata": {},
   "source": [
    "### Changing Batch Size"
   ]
  },
  {
   "cell_type": "code",
   "execution_count": 56,
   "id": "8bc65379",
   "metadata": {},
   "outputs": [],
   "source": [
    "t1 = time.time()"
   ]
  },
  {
   "cell_type": "code",
   "execution_count": 57,
   "id": "088a9b03",
   "metadata": {
    "scrolled": true
   },
   "outputs": [
    {
     "name": "stdout",
     "output_type": "stream",
     "text": [
      "class wise f1 score : [0.65658184 0.78672218]\n",
      "\tTest Accuracy : [73.68636364] % \n"
     ]
    }
   ],
   "source": [
    "model = SimpleClassifier(X0.shape[1])\n",
    "loss_fn = nn.BCELoss()\n",
    "optimizer = torch.optim.SGD(model.parameters(), lr=0.01)\n",
    "batch_size = 300\n",
    "epochs = 40\n",
    "\n",
    "for i in range(epochs):\n",
    "    #print(\"--- epochs {} ---\".format(i+1))\n",
    "    epochs_loss = train(model, xtr, ytr, loss_fn, optimizer, batch_size)\n",
    "    #print(\"\\tBCE Loss (Training) : {} \".format(epochs_loss))\n",
    "    test(model, xts, yts,i-epochs+2)\n",
    "    "
   ]
  },
  {
   "cell_type": "code",
   "execution_count": 58,
   "id": "edec7f60",
   "metadata": {},
   "outputs": [
    {
     "name": "stdout",
     "output_type": "stream",
     "text": [
      "time elapsed:15.316665649414062\n"
     ]
    }
   ],
   "source": [
    "print(f'time elapsed:{time.time() - t1}')"
   ]
  },
  {
   "cell_type": "code",
   "execution_count": null,
   "id": "885fb3ab",
   "metadata": {},
   "outputs": [],
   "source": []
  },
  {
   "cell_type": "markdown",
   "id": "23c36a0a",
   "metadata": {},
   "source": [
    "### Changing Batch Size"
   ]
  },
  {
   "cell_type": "code",
   "execution_count": 59,
   "id": "7cf91a3f",
   "metadata": {},
   "outputs": [],
   "source": [
    "t1 = time.time()"
   ]
  },
  {
   "cell_type": "code",
   "execution_count": 60,
   "id": "2b942dab",
   "metadata": {
    "scrolled": true
   },
   "outputs": [
    {
     "name": "stdout",
     "output_type": "stream",
     "text": [
      "class wise f1 score : [0.66474363 0.78917558]\n",
      "\tTest Accuracy : [74.11363636] % \n"
     ]
    }
   ],
   "source": [
    "model = SimpleClassifier(X0.shape[1])\n",
    "loss_fn = nn.BCELoss()\n",
    "optimizer = torch.optim.SGD(model.parameters(), lr=0.01)\n",
    "batch_size = 400\n",
    "epochs = 50\n",
    "\n",
    "for i in range(epochs):\n",
    "    #print(\"--- epochs {} ---\".format(i+1))\n",
    "    epochs_loss = train(model, xtr, ytr, loss_fn, optimizer, batch_size)\n",
    "    #print(\"\\tBCE Loss (Training) : {} \".format(epochs_loss))\n",
    "    test(model, xts, yts,i-epochs+2)\n",
    "    "
   ]
  },
  {
   "cell_type": "code",
   "execution_count": 61,
   "id": "d3c1510a",
   "metadata": {},
   "outputs": [
    {
     "name": "stdout",
     "output_type": "stream",
     "text": [
      "time elapsed:12.716193675994873\n"
     ]
    }
   ],
   "source": [
    "print(f'time elapsed:{time.time() - t1}')"
   ]
  },
  {
   "cell_type": "markdown",
   "id": "39ffa473",
   "metadata": {},
   "source": [
    "### Note: Best accuracy achieved by changing hyperparameters is approx 74%"
   ]
  },
  {
   "cell_type": "markdown",
   "id": "6ec92942",
   "metadata": {},
   "source": [
    "### 2.(b)"
   ]
  },
  {
   "cell_type": "code",
   "execution_count": 62,
   "id": "64b06404",
   "metadata": {},
   "outputs": [
    {
     "name": "stdout",
     "output_type": "stream",
     "text": [
      "Original data specs:\n",
      "shape of xtr and ytr: (108064, 50) and (108064, 1)\n",
      "number of samples of 0 class: [25499] and 1 class: [82565]\n",
      "Data specs after balancing using SMOTE:\n",
      "shape of xtr and ytr: (165130, 50) and (165130,)\n",
      "number of samples of 0 class: 82565 and 1 class: 82565\n"
     ]
    }
   ],
   "source": [
    "print('Original data specs:')\n",
    "print(f'shape of xtr and ytr: {xtr.shape} and {ytr.shape}')\n",
    "print(f'number of samples of 0 class: {np.sum(np.array(ytr) == 0, axis=0)} and 1 class: {np.sum(np.array(ytr) == 1, axis=0)}')\n",
    "oversample = SMOTE()\n",
    "xtr, ytr = oversample.fit_resample(xtr, ytr)\n",
    "print('Data specs after balancing using SMOTE:')\n",
    "print(f'shape of xtr and ytr: {xtr.shape} and {ytr.shape}')\n",
    "print(f'number of samples of 0 class: {np.sum(np.array(ytr) == 0, axis=0)} and 1 class: {np.sum(np.array(ytr) == 1, axis=0)}')"
   ]
  },
  {
   "cell_type": "code",
   "execution_count": 63,
   "id": "db996dca",
   "metadata": {},
   "outputs": [],
   "source": [
    "#standardising data\n",
    "scaler = StandardScaler()\n",
    "xtr = scaler.fit_transform(xtr)\n",
    "xts = scaler.transform(xts)"
   ]
  },
  {
   "cell_type": "code",
   "execution_count": 64,
   "id": "18c70301",
   "metadata": {},
   "outputs": [],
   "source": [
    "ytr = ytr.reshape(-1,1)"
   ]
  },
  {
   "cell_type": "code",
   "execution_count": 65,
   "id": "d9e9ab80",
   "metadata": {
    "scrolled": true
   },
   "outputs": [
    {
     "name": "stdout",
     "output_type": "stream",
     "text": [
      "class wise f1 score : [0.82642452 0.82602958]\n",
      "\tTest Accuracy : [82.62272727] % \n",
      "time elapsed:15.649390935897827\n"
     ]
    }
   ],
   "source": [
    "\n",
    "t1 = time.time() \n",
    "model = SimpleClassifier(X0.shape[1])\n",
    "loss_fn = nn.BCELoss()\n",
    "optimizer = torch.optim.SGD(model.parameters(), lr=0.01)\n",
    "batch_size = 500\n",
    "epochs = 50\n",
    "\n",
    "for i in range(epochs):\n",
    "    #print(\"--- epochs {} ---\".format(i+1))\n",
    "    epochs_loss = train(model, xtr, ytr, loss_fn, optimizer, batch_size)\n",
    "    #print(\"\\tBCE Loss (Training) : {} \".format(epochs_loss))\n",
    "    test(model, xts, yts,i-epochs+2)\n",
    "    \n",
    "print(f'time elapsed:{time.time() - t1}')"
   ]
  },
  {
   "cell_type": "markdown",
   "id": "1f6d55b5",
   "metadata": {},
   "source": [
    "### Changing batch size"
   ]
  },
  {
   "cell_type": "code",
   "execution_count": null,
   "id": "9fadfdd8",
   "metadata": {},
   "outputs": [],
   "source": []
  },
  {
   "cell_type": "code",
   "execution_count": 66,
   "id": "7fde0bd3",
   "metadata": {},
   "outputs": [
    {
     "name": "stdout",
     "output_type": "stream",
     "text": [
      "class wise f1 score : [0.82545334 0.78756424]\n",
      "\tTest Accuracy : [80.83636364] % \n",
      "time elapsed:23.65049123764038\n"
     ]
    }
   ],
   "source": [
    "t1 = time.time()\n",
    "model = SimpleClassifier(X0.shape[1])\n",
    "loss_fn = nn.BCELoss()\n",
    "optimizer = torch.optim.SGD(model.parameters(), lr=0.01)\n",
    "batch_size = 100\n",
    "epochs = 20\n",
    "\n",
    "for i in range(epochs):\n",
    "    #print(\"--- epochs {} ---\".format(i+1))\n",
    "    epochs_loss = train(model, xtr, ytr, loss_fn, optimizer, batch_size)\n",
    "    #print(\"\\tBCE Loss (Training) : {} \".format(epochs_loss))\n",
    "    test(model, xts, yts,i-epochs+2)\n",
    "    \n",
    "print(f'time elapsed:{time.time() - t1}')"
   ]
  },
  {
   "cell_type": "code",
   "execution_count": null,
   "id": "77dd5c00",
   "metadata": {},
   "outputs": [],
   "source": []
  },
  {
   "cell_type": "code",
   "execution_count": null,
   "id": "a4c680b1",
   "metadata": {},
   "outputs": [],
   "source": []
  },
  {
   "cell_type": "code",
   "execution_count": null,
   "id": "50ad47ff",
   "metadata": {},
   "outputs": [],
   "source": []
  },
  {
   "cell_type": "markdown",
   "id": "4e2fd7ef",
   "metadata": {},
   "source": [
    "### Changing batch size"
   ]
  },
  {
   "cell_type": "code",
   "execution_count": null,
   "id": "7b3f5203",
   "metadata": {},
   "outputs": [],
   "source": []
  },
  {
   "cell_type": "code",
   "execution_count": 67,
   "id": "efa58c9b",
   "metadata": {},
   "outputs": [
    {
     "name": "stdout",
     "output_type": "stream",
     "text": [
      "class wise f1 score : [0.83069511 0.81033153]\n",
      "\tTest Accuracy : [82.10909091] % \n",
      "time elapsed:27.52610182762146\n"
     ]
    }
   ],
   "source": [
    "\n",
    "t1 = time.time()\n",
    "model = SimpleClassifier(X0.shape[1])\n",
    "loss_fn = nn.BCELoss()\n",
    "optimizer = torch.optim.SGD(model.parameters(), lr=0.01)\n",
    "batch_size = 150\n",
    "epochs = 30\n",
    "\n",
    "for i in range(epochs):\n",
    "    #print(\"--- epochs {} ---\".format(i+1))\n",
    "    epochs_loss = train(model, xtr, ytr, loss_fn, optimizer, batch_size)\n",
    "    #print(\"\\tBCE Loss (Training) : {} \".format(epochs_loss))\n",
    "    test(model, xts, yts,i-epochs+2)\n",
    "   \n",
    "print(f'time elapsed:{time.time() - t1}')"
   ]
  },
  {
   "cell_type": "code",
   "execution_count": null,
   "id": "6ca35459",
   "metadata": {},
   "outputs": [],
   "source": []
  },
  {
   "cell_type": "markdown",
   "id": "4aafb006",
   "metadata": {},
   "source": [
    "### Changing batch size"
   ]
  },
  {
   "cell_type": "code",
   "execution_count": null,
   "id": "9ee9bd39",
   "metadata": {},
   "outputs": [],
   "source": []
  },
  {
   "cell_type": "code",
   "execution_count": 68,
   "id": "561cb69a",
   "metadata": {},
   "outputs": [
    {
     "name": "stdout",
     "output_type": "stream",
     "text": [
      "class wise f1 score : [0.83185452 0.81972309]\n",
      "\tTest Accuracy : [82.6] % \n",
      "time elapsed:30.76012086868286\n"
     ]
    }
   ],
   "source": [
    "\n",
    "t1 = time.time()\n",
    "model = SimpleClassifier(X0.shape[1])\n",
    "loss_fn = nn.BCELoss()\n",
    "optimizer = torch.optim.SGD(model.parameters(), lr=0.01)\n",
    "batch_size = 200\n",
    "epochs = 40\n",
    "\n",
    "for i in range(epochs):\n",
    "    #print(\"--- epochs {} ---\".format(i+1))\n",
    "    epochs_loss = train(model, xtr, ytr, loss_fn, optimizer, batch_size)\n",
    "    #print(\"\\tBCE Loss (Training) : {} \".format(epochs_loss))\n",
    "    test(model, xts, yts,i-epochs+2)\n",
    "\n",
    "print(f'time elapsed:{time.time() - t1}')"
   ]
  },
  {
   "cell_type": "code",
   "execution_count": null,
   "id": "16cf403f",
   "metadata": {},
   "outputs": [],
   "source": []
  },
  {
   "cell_type": "markdown",
   "id": "6f81d89c",
   "metadata": {},
   "source": [
    "### Changing batch size"
   ]
  },
  {
   "cell_type": "code",
   "execution_count": null,
   "id": "0da41ee6",
   "metadata": {},
   "outputs": [],
   "source": []
  },
  {
   "cell_type": "code",
   "execution_count": 69,
   "id": "ddfce2b9",
   "metadata": {},
   "outputs": [
    {
     "name": "stdout",
     "output_type": "stream",
     "text": [
      "class wise f1 score : [0.82840504 0.82603323]\n",
      "\tTest Accuracy : [82.72272727] % \n",
      "time elapsed:19.24161720275879\n"
     ]
    }
   ],
   "source": [
    "t1 = time.time()\n",
    "model = SimpleClassifier(X0.shape[1])\n",
    "loss_fn = nn.BCELoss()\n",
    "optimizer = torch.optim.SGD(model.parameters(), lr=0.01)\n",
    "batch_size = 400\n",
    "epochs = 50\n",
    "\n",
    "for i in range(epochs):\n",
    "    #print(\"--- epochs {} ---\".format(i+1))\n",
    "    epochs_loss = train(model, xtr, ytr, loss_fn, optimizer, batch_size)\n",
    "    #print(\"\\tBCE Loss (Training) : {} \".format(epochs_loss))\n",
    "    test(model, xts, yts,i-epochs+2)\n",
    "\n",
    "print(f'time elapsed:{time.time() - t1}')"
   ]
  },
  {
   "cell_type": "code",
   "execution_count": null,
   "id": "9df1f53d",
   "metadata": {},
   "outputs": [],
   "source": []
  },
  {
   "cell_type": "code",
   "execution_count": null,
   "id": "9b9d69d7",
   "metadata": {},
   "outputs": [],
   "source": []
  },
  {
   "cell_type": "code",
   "execution_count": null,
   "id": "38d10e63",
   "metadata": {},
   "outputs": [],
   "source": []
  },
  {
   "cell_type": "markdown",
   "id": "5f375e39",
   "metadata": {},
   "source": [
    "### Changing batch size"
   ]
  },
  {
   "cell_type": "code",
   "execution_count": null,
   "id": "9fa7f2f9",
   "metadata": {},
   "outputs": [],
   "source": []
  },
  {
   "cell_type": "code",
   "execution_count": 70,
   "id": "b4bc37e7",
   "metadata": {
    "scrolled": true
   },
   "outputs": [
    {
     "name": "stdout",
     "output_type": "stream",
     "text": [
      "class wise f1 score : [0.83495828 0.82298634]\n",
      "\tTest Accuracy : [82.91818182] % \n",
      "time elapsed:74.15152144432068\n"
     ]
    }
   ],
   "source": [
    "t1 = time.time()\n",
    "model = SimpleClassifier(X0.shape[1])\n",
    "loss_fn = nn.BCELoss()\n",
    "optimizer = torch.optim.SGD(model.parameters(), lr=0.01)\n",
    "batch_size = 200\n",
    "epochs = 100\n",
    "\n",
    "for i in range(epochs):\n",
    "    #print(\"--- epochs {} ---\".format(i+1))\n",
    "    epochs_loss = train(model, xtr, ytr, loss_fn, optimizer, batch_size)\n",
    "    #print(\"\\tBCE Loss (Training) : {} \".format(epochs_loss))\n",
    "    test(model, xts, yts,i-epochs+2)\n",
    "\n",
    "print(f'time elapsed:{time.time() - t1}')"
   ]
  },
  {
   "cell_type": "code",
   "execution_count": null,
   "id": "5fb3df08",
   "metadata": {},
   "outputs": [],
   "source": []
  },
  {
   "cell_type": "code",
   "execution_count": null,
   "id": "f9bf4113",
   "metadata": {},
   "outputs": [],
   "source": []
  },
  {
   "cell_type": "markdown",
   "id": "80c46d22",
   "metadata": {},
   "source": [
    "### Changing batch size"
   ]
  },
  {
   "cell_type": "code",
   "execution_count": null,
   "id": "bc19b3d8",
   "metadata": {},
   "outputs": [],
   "source": []
  },
  {
   "cell_type": "code",
   "execution_count": 71,
   "id": "4760eec4",
   "metadata": {},
   "outputs": [
    {
     "name": "stdout",
     "output_type": "stream",
     "text": [
      "class wise f1 score : [0.78679883 0.66342378]\n",
      "\tTest Accuracy : [73.89545455] % \n",
      "time elapsed:47.188066244125366\n"
     ]
    }
   ],
   "source": [
    "t1 = time.time()\n",
    "model = SimpleClassifier(X0.shape[1])\n",
    "loss_fn = nn.BCELoss()\n",
    "optimizer = torch.optim.SGD(model.parameters(), lr=0.01)\n",
    "batch_size = 50\n",
    "epochs = 20\n",
    "\n",
    "for i in range(epochs):\n",
    "    #print(\"--- epochs {} ---\".format(i+1))\n",
    "    epochs_loss = train(model, xtr, ytr, loss_fn, optimizer, batch_size)\n",
    "    #print(\"\\tBCE Loss (Training) : {} \".format(epochs_loss))\n",
    "    test(model, xts, yts,i-epochs+2)\n",
    "\n",
    "print(f'time elapsed:{time.time() - t1}')"
   ]
  },
  {
   "cell_type": "code",
   "execution_count": null,
   "id": "134b28a8",
   "metadata": {},
   "outputs": [],
   "source": []
  },
  {
   "cell_type": "markdown",
   "id": "4f8c6640",
   "metadata": {},
   "source": [
    "### Changing batch size"
   ]
  },
  {
   "cell_type": "code",
   "execution_count": null,
   "id": "b0270544",
   "metadata": {},
   "outputs": [],
   "source": []
  },
  {
   "cell_type": "code",
   "execution_count": 72,
   "id": "e89efceb",
   "metadata": {
    "scrolled": true
   },
   "outputs": [
    {
     "name": "stdout",
     "output_type": "stream",
     "text": [
      "class wise f1 score : [0.82567041 0.82857787]\n",
      "\tTest Accuracy : [82.71363636] % \n",
      "time elapsed:21.075022220611572\n"
     ]
    }
   ],
   "source": [
    "t1 = time.time()\n",
    "model = SimpleClassifier(X0.shape[1])\n",
    "loss_fn = nn.BCELoss()\n",
    "optimizer = torch.optim.SGD(model.parameters(), lr=0.01)\n",
    "batch_size = 1000\n",
    "epochs = 100\n",
    "\n",
    "for i in range(epochs):\n",
    "    #print(\"--- epochs {} ---\".format(i+1))\n",
    "    epochs_loss = train(model, xtr, ytr, loss_fn, optimizer, batch_size)\n",
    "    #print(\"\\tBCE Loss (Training) : {} \".format(epochs_loss))\n",
    "    test(model, xts, yts,i-epochs+2)\n",
    "\n",
    "print(f'time elapsed:{time.time() - t1}')"
   ]
  },
  {
   "cell_type": "markdown",
   "id": "edac71f3",
   "metadata": {},
   "source": [
    "### Note: Best accuracy achieved is approx 83%.\n",
    "### Thus we can say our model gives better accuracy on Balanced Dataset"
   ]
  },
  {
   "cell_type": "code",
   "execution_count": null,
   "id": "8073ce94",
   "metadata": {},
   "outputs": [],
   "source": []
  },
  {
   "cell_type": "code",
   "execution_count": null,
   "id": "7a0c058c",
   "metadata": {},
   "outputs": [],
   "source": []
  },
  {
   "cell_type": "code",
   "execution_count": 73,
   "id": "ea864d85",
   "metadata": {},
   "outputs": [],
   "source": [
    "import numpy as np\n",
    "import pandas as pd\n",
    "import matplotlib.pyplot as plt\n",
    "from sklearn.metrics import f1_score, accuracy_score\n",
    "import torch\n",
    "from torch import nn\n",
    "from imblearn.over_sampling import SMOTE\n",
    "from sklearn.preprocessing import StandardScaler\n",
    "import time\n",
    "from sklearn.model_selection import train_test_split"
   ]
  },
  {
   "cell_type": "markdown",
   "id": "0249419b",
   "metadata": {},
   "source": [
    "## Question 3"
   ]
  },
  {
   "cell_type": "code",
   "execution_count": 74,
   "id": "c19497bf",
   "metadata": {},
   "outputs": [
    {
     "data": {
      "text/plain": [
       "((70000, 784), (70000, 1), (70000, 785))"
      ]
     },
     "execution_count": 74,
     "metadata": {},
     "output_type": "execute_result"
    }
   ],
   "source": [
    "X = pd.read_csv('mnist.csv')\n",
    "Y = pd.read_csv('mnist_target.csv')\n",
    "df = pd.concat([X, Y], axis=1)\n",
    "X.shape,Y.shape,df.shape"
   ]
  },
  {
   "cell_type": "code",
   "execution_count": 75,
   "id": "d029b50d",
   "metadata": {},
   "outputs": [
    {
     "data": {
      "text/plain": [
       "((49000, 784), (21000, 784), (49000, 1), (21000, 1))"
      ]
     },
     "execution_count": 75,
     "metadata": {},
     "output_type": "execute_result"
    }
   ],
   "source": [
    "xtr, xts, ytr, yts = train_test_split(X, Y, test_size=0.3, random_state=16)\n",
    "xtr.shape,xts.shape,ytr.shape,yts.shape"
   ]
  },
  {
   "cell_type": "code",
   "execution_count": 76,
   "id": "009c0e1c",
   "metadata": {},
   "outputs": [],
   "source": [
    "#standardising data\n",
    "scaler = StandardScaler()\n",
    "xtr = scaler.fit_transform(xtr)\n",
    "xts = scaler.transform(xts)"
   ]
  },
  {
   "cell_type": "code",
   "execution_count": 77,
   "id": "eafb5c77",
   "metadata": {},
   "outputs": [],
   "source": [
    "ytr = np.array(ytr)\n",
    "yts = np.array(yts)"
   ]
  },
  {
   "cell_type": "markdown",
   "id": "ef253a60",
   "metadata": {},
   "source": [
    "## 3.(a) \n",
    "## 3.(b)"
   ]
  },
  {
   "cell_type": "code",
   "execution_count": 78,
   "id": "270d5389",
   "metadata": {},
   "outputs": [],
   "source": [
    "class SimpleClassifier(nn.Module):\n",
    "    def __init__(self, n_hl1, n_hl2):\n",
    "        super().__init__()\n",
    "        self.hl1 = nn.Linear(in_features=784, out_features=10)\n",
    "#         self.sig1 = nn.ReLU()\n",
    "#         self.hl2 = nn.Linear(in_features=n_hl1, out_features=n_hl2)\n",
    "#         self.sig2 = nn.Sigmoid()\n",
    "#         self.op = nn.Linear(in_features=n_hl2, out_features=10)\n",
    "\n",
    "        \n",
    "    def forward(self, x):\n",
    "        x = self.hl1(x)\n",
    "#         x = self.sig1(x)\n",
    "#         x = self.hl2(x)\n",
    "#         x = self.sig2(x)\n",
    "#         x = self.op(x)\n",
    "        return x.squeeze()\n",
    "    \n",
    "    "
   ]
  },
  {
   "cell_type": "code",
   "execution_count": 79,
   "id": "5178b0b9",
   "metadata": {},
   "outputs": [],
   "source": [
    "def train(model, x, y, loss_fn, optimizer, batch_size):\n",
    "    model.train()\n",
    "    x, y = torch.Tensor(x), torch.Tensor(y)\n",
    "    \n",
    "    for i in range(0, len(x), batch_size):\n",
    "        i_end = i+batch_size\n",
    "        x_batch = x[i:min(i_end, len(x))]\n",
    "        y_batch = y[i:min(i_end, len(x))]\n",
    "        \n",
    "        pred = model(x_batch)\n",
    "        y_batch = (y_batch.to(torch.long)).squeeze_()\n",
    "        loss = loss_fn(pred, y_batch)\n",
    "        \n",
    "        optimizer.zero_grad()\n",
    "        loss.backward()\n",
    "        optimizer.step()\n",
    "        \n",
    "    return loss.item()\n",
    "    "
   ]
  },
  {
   "cell_type": "code",
   "execution_count": 80,
   "id": "b075b042",
   "metadata": {},
   "outputs": [],
   "source": [
    "def test(model, xts, yts, show):\n",
    "    model.eval()\n",
    "    with torch.no_grad():\n",
    "        xts = torch.Tensor(xts)\n",
    "        pred = model(xts)\n",
    "        yhat = np.argmax((pred.data),axis=1).numpy()\n",
    "        test_accuracy = np.sum(yts.reshape(-1)==yhat)/yhat.shape\n",
    "        print(f\"\\tTest Accuracy : {test_accuracy}\")\n",
    "        if(show==1):\n",
    "            score = f1_score(yts,yhat,average = None)\n",
    "            print(f\"\\tClass wise Score : {score}\")\n",
    "            w = list(model.parameters())\n",
    "            for i in range(10):\n",
    "                plt.subplot(2,5,i+1)\n",
    "                plt.imshow(w[0][i].detach().numpy().reshape(28,28))\n",
    "                plt.yticks([])\n",
    "                plt.xticks([])"
   ]
  },
  {
   "cell_type": "code",
   "execution_count": 81,
   "id": "b7a38535",
   "metadata": {
    "scrolled": true
   },
   "outputs": [
    {
     "name": "stdout",
     "output_type": "stream",
     "text": [
      "--- epochs 1 ---\n",
      "\tCross Entropy Loss (Training) : 0.4423683285713196 \n",
      "\tTest Accuracy : [0.90685714]\n",
      "--- epochs 2 ---\n",
      "\tCross Entropy Loss (Training) : 0.39483892917633057 \n",
      "\tTest Accuracy : [0.90519048]\n",
      "--- epochs 3 ---\n",
      "\tCross Entropy Loss (Training) : 0.34864410758018494 \n",
      "\tTest Accuracy : [0.90509524]\n",
      "--- epochs 4 ---\n",
      "\tCross Entropy Loss (Training) : 0.37297436594963074 \n",
      "\tTest Accuracy : [0.90390476]\n",
      "--- epochs 5 ---\n",
      "\tCross Entropy Loss (Training) : 0.3820549249649048 \n",
      "\tTest Accuracy : [0.90419048]\n",
      "--- epochs 6 ---\n",
      "\tCross Entropy Loss (Training) : 0.36964699625968933 \n",
      "\tTest Accuracy : [0.90404762]\n",
      "--- epochs 7 ---\n",
      "\tCross Entropy Loss (Training) : 0.34679076075553894 \n",
      "\tTest Accuracy : [0.90390476]\n",
      "--- epochs 8 ---\n",
      "\tCross Entropy Loss (Training) : 0.36090779304504395 \n",
      "\tTest Accuracy : [0.90309524]\n",
      "--- epochs 9 ---\n",
      "\tCross Entropy Loss (Training) : 0.34525254368782043 \n",
      "\tTest Accuracy : [0.90319048]\n",
      "--- epochs 10 ---\n",
      "\tCross Entropy Loss (Training) : 0.35070499777793884 \n",
      "\tTest Accuracy : [0.90338095]\n",
      "\tClass wise Score : [0.95157385 0.95296274 0.89250973 0.88305813 0.91615742 0.85560893\n",
      " 0.93880422 0.90014542 0.84071446 0.88652154]\n",
      "time elapsed:9.362251996994019\n"
     ]
    },
    {
     "data": {
      "image/png": "[encoded data removed]",
      "text/plain": [
       "<Figure size 432x288 with 10 Axes>"
      ]
     },
     "metadata": {},
     "output_type": "display_data"
    }
   ],
   "source": [
    "\n",
    "t1 = time.time()\n",
    "model = SimpleClassifier(80,30)\n",
    "loss_fn = nn.CrossEntropyLoss()\n",
    "learning_rate = 0.01\n",
    "optimizer = torch.optim.Adam(model.parameters(),lr=learning_rate)\n",
    "batch_size = 200\n",
    "epochs = 10\n",
    "\n",
    "for i in range(epochs):\n",
    "    print(\"--- epochs {} ---\".format(i+1))\n",
    "    epochs_loss = train(model, xtr, ytr, loss_fn, optimizer, batch_size)\n",
    "    print(\"\\tCross Entropy Loss (Training) : {} \".format(epochs_loss))\n",
    "    test(model, xts, yts, i-epochs+2)\n",
    "\n",
    "print(f'time elapsed:{time.time() - t1}')"
   ]
  },
  {
   "cell_type": "code",
   "execution_count": null,
   "id": "8dc8cd19",
   "metadata": {},
   "outputs": [],
   "source": []
  },
  {
   "cell_type": "markdown",
   "id": "9928680d",
   "metadata": {},
   "source": [
    "## 3.(c)"
   ]
  },
  {
   "cell_type": "markdown",
   "id": "b898ca70",
   "metadata": {},
   "source": [
    "### Only 1 hidden layer with changing number of nodes in hidden layer"
   ]
  },
  {
   "cell_type": "markdown",
   "id": "e50f2b88",
   "metadata": {},
   "source": [
    "**1. n_hl = 50**"
   ]
  },
  {
   "cell_type": "code",
   "execution_count": 82,
   "id": "791e5fe3",
   "metadata": {},
   "outputs": [],
   "source": [
    "class SimpleClassifier(nn.Module):\n",
    "    def __init__(self, n_hl1, n_hl2):\n",
    "        super().__init__()\n",
    "        self.hl1 = nn.Linear(in_features=784, out_features=n_hl1)\n",
    "        self.sig1 = nn.ReLU()\n",
    "        self.hl2 = nn.Linear(in_features=n_hl1, out_features=10)\n",
    "#         self.sig2 = nn.Sigmoid()\n",
    "#         self.op = nn.Linear(in_features=n_hl2, out_features=10)\n",
    "\n",
    "        \n",
    "    def forward(self, x):\n",
    "        x = self.hl1(x)\n",
    "        x = self.sig1(x)\n",
    "        x = self.hl2(x)\n",
    "#         x = self.sig2(x)\n",
    "#         x = self.op(x)\n",
    "        return x.squeeze()\n",
    "    \n",
    "    "
   ]
  },
  {
   "cell_type": "code",
   "execution_count": 83,
   "id": "15cb6e19",
   "metadata": {},
   "outputs": [],
   "source": [
    "def train(model, x, y, loss_fn, optimizer, batch_size):\n",
    "    model.train()\n",
    "    x, y = torch.Tensor(x), torch.Tensor(y)\n",
    "    \n",
    "    for i in range(0, len(x), batch_size):\n",
    "        i_end = i+batch_size\n",
    "        x_batch = x[i:min(i_end, len(x))]\n",
    "        y_batch = y[i:min(i_end, len(x))]\n",
    "        \n",
    "        pred = model(x_batch)\n",
    "        y_batch = (y_batch.to(torch.long)).squeeze_()\n",
    "        loss = loss_fn(pred, y_batch)\n",
    "        \n",
    "        optimizer.zero_grad()\n",
    "        loss.backward()\n",
    "        optimizer.step()\n",
    "        \n",
    "    return loss.item()\n",
    "    "
   ]
  },
  {
   "cell_type": "code",
   "execution_count": 84,
   "id": "81398ddf",
   "metadata": {},
   "outputs": [],
   "source": [
    "def test(model, xts, yts, show):\n",
    "    model.eval()\n",
    "    with torch.no_grad():\n",
    "        xts = torch.Tensor(xts)\n",
    "        pred = model(xts)\n",
    "        yhat = np.argmax((pred.data),axis=1).numpy()\n",
    "        test_accuracy = np.sum(yts.reshape(-1)==yhat)/yhat.shape\n",
    "        print(f\"\\tTest Accuracy : {test_accuracy}\")\n",
    "        if(show==1):\n",
    "            score = f1_score(yts,yhat,average = None)\n",
    "            print(f\"\\tClass wise Score : {score}\")\n",
    "            w = list(model.parameters())\n",
    "            for i in range(10):\n",
    "                plt.subplot(2,5,i+1)\n",
    "                plt.imshow(w[0][i].detach().numpy().reshape(28,28))\n",
    "                plt.yticks([])\n",
    "                plt.xticks([])"
   ]
  },
  {
   "cell_type": "code",
   "execution_count": 85,
   "id": "ec73df6d",
   "metadata": {
    "scrolled": true
   },
   "outputs": [
    {
     "name": "stdout",
     "output_type": "stream",
     "text": [
      "--- epochs 1 ---\n",
      "\tCross Entropy Loss (Training) : 0.23676341772079468 \n",
      "\tTest Accuracy : [0.93695238]\n",
      "--- epochs 2 ---\n",
      "\tCross Entropy Loss (Training) : 0.17434142529964447 \n",
      "\tTest Accuracy : [0.94419048]\n",
      "--- epochs 3 ---\n",
      "\tCross Entropy Loss (Training) : 0.16110849380493164 \n",
      "\tTest Accuracy : [0.94842857]\n",
      "--- epochs 4 ---\n",
      "\tCross Entropy Loss (Training) : 0.14043840765953064 \n",
      "\tTest Accuracy : [0.94752381]\n",
      "--- epochs 5 ---\n",
      "\tCross Entropy Loss (Training) : 0.0986260399222374 \n",
      "\tTest Accuracy : [0.9537619]\n",
      "--- epochs 6 ---\n",
      "\tCross Entropy Loss (Training) : 0.04774714633822441 \n",
      "\tTest Accuracy : [0.95280952]\n",
      "--- epochs 7 ---\n",
      "\tCross Entropy Loss (Training) : 0.1390545517206192 \n",
      "\tTest Accuracy : [0.95219048]\n",
      "--- epochs 8 ---\n",
      "\tCross Entropy Loss (Training) : 0.06803407520055771 \n",
      "\tTest Accuracy : [0.95342857]\n",
      "--- epochs 9 ---\n",
      "\tCross Entropy Loss (Training) : 0.09665355831384659 \n",
      "\tTest Accuracy : [0.94961905]\n",
      "--- epochs 10 ---\n",
      "\tCross Entropy Loss (Training) : 0.16252000629901886 \n",
      "\tTest Accuracy : [0.95614286]\n",
      "\tClass wise Score : [0.97758285 0.97614151 0.95251662 0.94478809 0.96354294 0.93250494\n",
      " 0.96704331 0.95908658 0.94077169 0.94150418]\n",
      "time elapsed:16.87264394760132\n"
     ]
    },
    {
     "data": {
      "image/png": "[encoded data removed]",
      "text/plain": [
       "<Figure size 432x288 with 10 Axes>"
      ]
     },
     "metadata": {},
     "output_type": "display_data"
    }
   ],
   "source": [
    "\n",
    "t1 = time.time()\n",
    "model = SimpleClassifier(50,30)\n",
    "loss_fn = nn.CrossEntropyLoss()\n",
    "learning_rate = 0.01\n",
    "optimizer = torch.optim.Adam(model.parameters(),lr=learning_rate)\n",
    "batch_size = 200\n",
    "epochs = 10\n",
    "\n",
    "for i in range(epochs):\n",
    "    print(\"--- epochs {} ---\".format(i+1))\n",
    "    epochs_loss = train(model, xtr, ytr, loss_fn, optimizer, batch_size)\n",
    "    print(\"\\tCross Entropy Loss (Training) : {} \".format(epochs_loss))\n",
    "    test(model, xts, yts, i-epochs+2)\n",
    "\n",
    "print(f'time elapsed:{time.time() - t1}')"
   ]
  },
  {
   "cell_type": "code",
   "execution_count": null,
   "id": "5b03235b",
   "metadata": {},
   "outputs": [],
   "source": []
  },
  {
   "cell_type": "code",
   "execution_count": null,
   "id": "86b6f308",
   "metadata": {},
   "outputs": [],
   "source": []
  },
  {
   "cell_type": "markdown",
   "id": "dfdba1fb",
   "metadata": {},
   "source": [
    "**2. n_hl = 20**"
   ]
  },
  {
   "cell_type": "code",
   "execution_count": 86,
   "id": "155cfa30",
   "metadata": {},
   "outputs": [],
   "source": [
    "class SimpleClassifier(nn.Module):\n",
    "    def __init__(self, n_hl1, n_hl2):\n",
    "        super().__init__()\n",
    "        self.hl1 = nn.Linear(in_features=784, out_features=n_hl1)\n",
    "        self.sig1 = nn.ReLU()\n",
    "        self.hl2 = nn.Linear(in_features=n_hl1, out_features=10)\n",
    "#         self.sig2 = nn.Sigmoid()\n",
    "#         self.op = nn.Linear(in_features=n_hl2, out_features=10)\n",
    "\n",
    "        \n",
    "    def forward(self, x):\n",
    "        x = self.hl1(x)\n",
    "        x = self.sig1(x)\n",
    "        x = self.hl2(x)\n",
    "#         x = self.sig2(x)\n",
    "#         x = self.op(x)\n",
    "        return x.squeeze()\n",
    "    \n",
    "    "
   ]
  },
  {
   "cell_type": "code",
   "execution_count": 87,
   "id": "0c9b8b14",
   "metadata": {},
   "outputs": [],
   "source": [
    "def train(model, x, y, loss_fn, optimizer, batch_size):\n",
    "    model.train()\n",
    "    x, y = torch.Tensor(x), torch.Tensor(y)\n",
    "    \n",
    "    for i in range(0, len(x), batch_size):\n",
    "        i_end = i+batch_size\n",
    "        x_batch = x[i:min(i_end, len(x))]\n",
    "        y_batch = y[i:min(i_end, len(x))]\n",
    "        \n",
    "        pred = model(x_batch)\n",
    "        y_batch = (y_batch.to(torch.long)).squeeze_()\n",
    "        loss = loss_fn(pred, y_batch)\n",
    "        \n",
    "        optimizer.zero_grad()\n",
    "        loss.backward()\n",
    "        optimizer.step()\n",
    "        \n",
    "    return loss.item()\n",
    "    "
   ]
  },
  {
   "cell_type": "code",
   "execution_count": 88,
   "id": "c2629989",
   "metadata": {},
   "outputs": [],
   "source": [
    "def test(model, xts, yts, show):\n",
    "    model.eval()\n",
    "    with torch.no_grad():\n",
    "        xts = torch.Tensor(xts)\n",
    "        pred = model(xts)\n",
    "        yhat = np.argmax((pred.data),axis=1).numpy()\n",
    "        test_accuracy = np.sum(yts.reshape(-1)==yhat)/yhat.shape\n",
    "        print(f\"\\tTest Accuracy : {test_accuracy}\")\n",
    "        if(show==1):\n",
    "            score = f1_score(yts,yhat,average = None)\n",
    "            print(f\"\\tClass wise Score : {score}\")\n",
    "            w = list(model.parameters())\n",
    "            for i in range(10):\n",
    "                plt.subplot(2,5,i+1)\n",
    "                plt.imshow(w[0][i].detach().numpy().reshape(28,28))\n",
    "                plt.yticks([])\n",
    "                plt.xticks([])"
   ]
  },
  {
   "cell_type": "code",
   "execution_count": 89,
   "id": "8c88fa4b",
   "metadata": {
    "scrolled": true
   },
   "outputs": [
    {
     "name": "stdout",
     "output_type": "stream",
     "text": [
      "--- epochs 1 ---\n",
      "\tCross Entropy Loss (Training) : 0.20789410173892975 \n",
      "\tTest Accuracy : [0.92728571]\n",
      "--- epochs 2 ---\n",
      "\tCross Entropy Loss (Training) : 0.20028990507125854 \n",
      "\tTest Accuracy : [0.92966667]\n",
      "--- epochs 3 ---\n",
      "\tCross Entropy Loss (Training) : 0.13873641192913055 \n",
      "\tTest Accuracy : [0.93652381]\n",
      "--- epochs 4 ---\n",
      "\tCross Entropy Loss (Training) : 0.11007817089557648 \n",
      "\tTest Accuracy : [0.9367619]\n",
      "--- epochs 5 ---\n",
      "\tCross Entropy Loss (Training) : 0.1095370352268219 \n",
      "\tTest Accuracy : [0.93761905]\n",
      "--- epochs 6 ---\n",
      "\tCross Entropy Loss (Training) : 0.10782895982265472 \n",
      "\tTest Accuracy : [0.93333333]\n",
      "--- epochs 7 ---\n",
      "\tCross Entropy Loss (Training) : 0.15145014226436615 \n",
      "\tTest Accuracy : [0.93314286]\n",
      "--- epochs 8 ---\n",
      "\tCross Entropy Loss (Training) : 0.1369979828596115 \n",
      "\tTest Accuracy : [0.93333333]\n",
      "--- epochs 9 ---\n",
      "\tCross Entropy Loss (Training) : 0.09512467682361603 \n",
      "\tTest Accuracy : [0.94038095]\n",
      "--- epochs 10 ---\n",
      "\tCross Entropy Loss (Training) : 0.08457379043102264 \n",
      "\tTest Accuracy : [0.93885714]\n",
      "\tClass wise Score : [0.97100372 0.97054583 0.9288499  0.91990016 0.93546012 0.91917503\n",
      " 0.95568581 0.93543007 0.9184261  0.92800743]\n",
      "time elapsed:12.44436001777649\n"
     ]
    },
    {
     "data": {
      "image/png": "[encoded data removed]",
      "text/plain": [
       "<Figure size 432x288 with 10 Axes>"
      ]
     },
     "metadata": {},
     "output_type": "display_data"
    }
   ],
   "source": [
    "\n",
    "t1 = time.time()\n",
    "model = SimpleClassifier(20,30)\n",
    "loss_fn = nn.CrossEntropyLoss()\n",
    "learning_rate = 0.01\n",
    "optimizer = torch.optim.Adam(model.parameters(),lr=learning_rate)\n",
    "batch_size = 200\n",
    "epochs = 10\n",
    "\n",
    "for i in range(epochs):\n",
    "    print(\"--- epochs {} ---\".format(i+1))\n",
    "    epochs_loss = train(model, xtr, ytr, loss_fn, optimizer, batch_size)\n",
    "    print(\"\\tCross Entropy Loss (Training) : {} \".format(epochs_loss))\n",
    "    test(model, xts, yts, i-epochs+2)\n",
    "\n",
    "print(f'time elapsed:{time.time() - t1}')"
   ]
  },
  {
   "cell_type": "markdown",
   "id": "c231bacd",
   "metadata": {},
   "source": [
    "**3. n_hl = 100**"
   ]
  },
  {
   "cell_type": "code",
   "execution_count": 90,
   "id": "2fd846e7",
   "metadata": {},
   "outputs": [],
   "source": [
    "class SimpleClassifier(nn.Module):\n",
    "    def __init__(self, n_hl1, n_hl2):\n",
    "        super().__init__()\n",
    "        self.hl1 = nn.Linear(in_features=784, out_features=n_hl1)\n",
    "        self.sig1 = nn.ReLU()\n",
    "        self.hl2 = nn.Linear(in_features=n_hl1, out_features=10)\n",
    "#         self.sig2 = nn.Sigmoid()\n",
    "#         self.op = nn.Linear(in_features=n_hl2, out_features=10)\n",
    "\n",
    "        \n",
    "    def forward(self, x):\n",
    "        x = self.hl1(x)\n",
    "        x = self.sig1(x)\n",
    "        x = self.hl2(x)\n",
    "#         x = self.sig2(x)\n",
    "#         x = self.op(x)\n",
    "        return x.squeeze()\n",
    "    \n",
    "    "
   ]
  },
  {
   "cell_type": "code",
   "execution_count": 91,
   "id": "6083ca11",
   "metadata": {},
   "outputs": [],
   "source": [
    "def train(model, x, y, loss_fn, optimizer, batch_size):\n",
    "    model.train()\n",
    "    x, y = torch.Tensor(x), torch.Tensor(y)\n",
    "    \n",
    "    for i in range(0, len(x), batch_size):\n",
    "        i_end = i+batch_size\n",
    "        x_batch = x[i:min(i_end, len(x))]\n",
    "        y_batch = y[i:min(i_end, len(x))]\n",
    "        \n",
    "        pred = model(x_batch)\n",
    "        y_batch = (y_batch.to(torch.long)).squeeze_()\n",
    "        loss = loss_fn(pred, y_batch)\n",
    "        \n",
    "        optimizer.zero_grad()\n",
    "        loss.backward()\n",
    "        optimizer.step()\n",
    "        \n",
    "    return loss.item()\n",
    "    "
   ]
  },
  {
   "cell_type": "code",
   "execution_count": 92,
   "id": "39a2e9fe",
   "metadata": {},
   "outputs": [],
   "source": [
    "def test(model, xts, yts, show):\n",
    "    model.eval()\n",
    "    with torch.no_grad():\n",
    "        xts = torch.Tensor(xts)\n",
    "        pred = model(xts)\n",
    "        yhat = np.argmax((pred.data),axis=1).numpy()\n",
    "        test_accuracy = np.sum(yts.reshape(-1)==yhat)/yhat.shape\n",
    "        print(f\"\\tTest Accuracy : {test_accuracy}\")\n",
    "        if(show==1):\n",
    "            score = f1_score(yts,yhat,average = None)\n",
    "            print(f\"\\tClass wise Score : {score}\")\n",
    "            w = list(model.parameters())\n",
    "            for i in range(10):\n",
    "                plt.subplot(2,5,i+1)\n",
    "                plt.imshow(w[0][i].detach().numpy().reshape(28,28))\n",
    "                plt.yticks([])\n",
    "                plt.xticks([])"
   ]
  },
  {
   "cell_type": "code",
   "execution_count": 93,
   "id": "c643d282",
   "metadata": {
    "scrolled": true
   },
   "outputs": [
    {
     "name": "stdout",
     "output_type": "stream",
     "text": [
      "--- epochs 1 ---\n",
      "\tCross Entropy Loss (Training) : 0.2294725626707077 \n",
      "\tTest Accuracy : [0.93842857]\n",
      "--- epochs 2 ---\n",
      "\tCross Entropy Loss (Training) : 0.14962035417556763 \n",
      "\tTest Accuracy : [0.94633333]\n",
      "--- epochs 3 ---\n",
      "\tCross Entropy Loss (Training) : 0.12615099549293518 \n",
      "\tTest Accuracy : [0.95247619]\n",
      "--- epochs 4 ---\n",
      "\tCross Entropy Loss (Training) : 0.051958661526441574 \n",
      "\tTest Accuracy : [0.94747619]\n",
      "--- epochs 5 ---\n",
      "\tCross Entropy Loss (Training) : 0.26926323771476746 \n",
      "\tTest Accuracy : [0.95452381]\n",
      "--- epochs 6 ---\n",
      "\tCross Entropy Loss (Training) : 0.06393150240182877 \n",
      "\tTest Accuracy : [0.95733333]\n",
      "--- epochs 7 ---\n",
      "\tCross Entropy Loss (Training) : 0.1296425610780716 \n",
      "\tTest Accuracy : [0.954]\n",
      "--- epochs 8 ---\n",
      "\tCross Entropy Loss (Training) : 0.020119989290833473 \n",
      "\tTest Accuracy : [0.95547619]\n",
      "--- epochs 9 ---\n",
      "\tCross Entropy Loss (Training) : 0.24139411747455597 \n",
      "\tTest Accuracy : [0.95795238]\n",
      "--- epochs 10 ---\n",
      "\tCross Entropy Loss (Training) : 0.1005181297659874 \n",
      "\tTest Accuracy : [0.96128571]\n",
      "\tClass wise Score : [0.98180924 0.97946484 0.95480769 0.94817214 0.967      0.9534632\n",
      " 0.97451628 0.95652174 0.94850818 0.94631186]\n",
      "time elapsed:29.55884885787964\n"
     ]
    },
    {
     "data": {
      "image/png": "[encoded data removed]",
      "text/plain": [
       "<Figure size 432x288 with 10 Axes>"
      ]
     },
     "metadata": {},
     "output_type": "display_data"
    }
   ],
   "source": [
    "\n",
    "t1 = time.time()\n",
    "model = SimpleClassifier(100,30)\n",
    "loss_fn = nn.CrossEntropyLoss()\n",
    "learning_rate = 0.01\n",
    "optimizer = torch.optim.Adam(model.parameters(),lr=learning_rate)\n",
    "batch_size = 200\n",
    "epochs = 10\n",
    "\n",
    "for i in range(epochs):\n",
    "    print(\"--- epochs {} ---\".format(i+1))\n",
    "    epochs_loss = train(model, xtr, ytr, loss_fn, optimizer, batch_size)\n",
    "    print(\"\\tCross Entropy Loss (Training) : {} \".format(epochs_loss))\n",
    "    test(model, xts, yts, i-epochs+2)\n",
    "\n",
    "print(f'time elapsed:{time.time() - t1}')"
   ]
  },
  {
   "cell_type": "markdown",
   "id": "ee97f696",
   "metadata": {},
   "source": [
    "\n",
    "### Note: As we can see by increasing number of hidden layers accuracy is increasing but so are number of parameters and thus time taken."
   ]
  },
  {
   "cell_type": "code",
   "execution_count": null,
   "id": "bb1b3b6c",
   "metadata": {},
   "outputs": [],
   "source": []
  },
  {
   "cell_type": "code",
   "execution_count": null,
   "id": "372e6d95",
   "metadata": {},
   "outputs": [],
   "source": []
  },
  {
   "cell_type": "markdown",
   "id": "00c892c4",
   "metadata": {},
   "source": [
    "## 3.(d)"
   ]
  },
  {
   "cell_type": "markdown",
   "id": "b89abd02",
   "metadata": {},
   "source": [
    "### Only 2 hidden layer with changing number of nodes in hidden layers"
   ]
  },
  {
   "cell_type": "markdown",
   "id": "2bc5a802",
   "metadata": {},
   "source": [
    "**1. n_hl1 = 50 and n_hl2 = 20**"
   ]
  },
  {
   "cell_type": "code",
   "execution_count": 94,
   "id": "6b183bfb",
   "metadata": {},
   "outputs": [],
   "source": [
    "class SimpleClassifier(nn.Module):\n",
    "    def __init__(self, n_hl1, n_hl2):\n",
    "        super().__init__()\n",
    "        self.hl1 = nn.Linear(in_features=784, out_features=n_hl1)\n",
    "        self.sig1 = nn.ReLU()\n",
    "        self.hl2 = nn.Linear(in_features=n_hl1, out_features=n_hl2)\n",
    "        self.sig2 = nn.ReLU()\n",
    "        self.op = nn.Linear(in_features=n_hl2, out_features=10)\n",
    "\n",
    "        \n",
    "    def forward(self, x):\n",
    "        x = self.hl1(x)\n",
    "        x = self.sig1(x)\n",
    "        x = self.hl2(x)\n",
    "        x = self.sig2(x)\n",
    "        x = self.op(x)\n",
    "        return x.squeeze()\n",
    "    \n",
    "    "
   ]
  },
  {
   "cell_type": "code",
   "execution_count": 95,
   "id": "dc46de65",
   "metadata": {},
   "outputs": [],
   "source": [
    "def train(model, x, y, loss_fn, optimizer, batch_size):\n",
    "    model.train()\n",
    "    x, y = torch.Tensor(x), torch.Tensor(y)\n",
    "    \n",
    "    for i in range(0, len(x), batch_size):\n",
    "        i_end = i+batch_size\n",
    "        x_batch = x[i:min(i_end, len(x))]\n",
    "        y_batch = y[i:min(i_end, len(x))]\n",
    "        \n",
    "        pred = model(x_batch)\n",
    "        y_batch = (y_batch.to(torch.long)).squeeze_()\n",
    "        loss = loss_fn(pred, y_batch)\n",
    "        \n",
    "        optimizer.zero_grad()\n",
    "        loss.backward()\n",
    "        optimizer.step()\n",
    "        \n",
    "    return loss.item()\n",
    "    "
   ]
  },
  {
   "cell_type": "code",
   "execution_count": 96,
   "id": "e1392f6c",
   "metadata": {},
   "outputs": [],
   "source": [
    "def test(model, xts, yts, show):\n",
    "    model.eval()\n",
    "    with torch.no_grad():\n",
    "        xts = torch.Tensor(xts)\n",
    "        pred = model(xts)\n",
    "        yhat = np.argmax((pred.data),axis=1).numpy()\n",
    "        test_accuracy = np.sum(yts.reshape(-1)==yhat)/yhat.shape\n",
    "        print(f\"\\tTest Accuracy : {test_accuracy}\")\n",
    "        if(show==1):\n",
    "            score = f1_score(yts,yhat,average = None)\n",
    "            print(f\"\\tClass wise Score : {score}\")\n",
    "            w = list(model.parameters())\n",
    "            for i in range(10):\n",
    "                plt.subplot(2,5,i+1)\n",
    "                plt.imshow(w[0][i].detach().numpy().reshape(28,28))\n",
    "                plt.yticks([])\n",
    "                plt.xticks([])"
   ]
  },
  {
   "cell_type": "code",
   "execution_count": 97,
   "id": "09eb1b8d",
   "metadata": {
    "scrolled": true
   },
   "outputs": [
    {
     "name": "stdout",
     "output_type": "stream",
     "text": [
      "--- epochs 1 ---\n",
      "\tCross Entropy Loss (Training) : 0.17982473969459534 \n",
      "\tTest Accuracy : [0.94319048]\n",
      "--- epochs 2 ---\n",
      "\tCross Entropy Loss (Training) : 0.1452411413192749 \n",
      "\tTest Accuracy : [0.94485714]\n",
      "--- epochs 3 ---\n",
      "\tCross Entropy Loss (Training) : 0.09504032880067825 \n",
      "\tTest Accuracy : [0.95233333]\n",
      "--- epochs 4 ---\n",
      "\tCross Entropy Loss (Training) : 0.10453750938177109 \n",
      "\tTest Accuracy : [0.95061905]\n",
      "--- epochs 5 ---\n",
      "\tCross Entropy Loss (Training) : 0.09986840933561325 \n",
      "\tTest Accuracy : [0.95228571]\n",
      "--- epochs 6 ---\n",
      "\tCross Entropy Loss (Training) : 0.08886357396841049 \n",
      "\tTest Accuracy : [0.95614286]\n",
      "--- epochs 7 ---\n",
      "\tCross Entropy Loss (Training) : 0.07272187620401382 \n",
      "\tTest Accuracy : [0.95180952]\n",
      "--- epochs 8 ---\n",
      "\tCross Entropy Loss (Training) : 0.06336020678281784 \n",
      "\tTest Accuracy : [0.955]\n",
      "--- epochs 9 ---\n",
      "\tCross Entropy Loss (Training) : 0.04542834684252739 \n",
      "\tTest Accuracy : [0.95342857]\n",
      "--- epochs 10 ---\n",
      "\tCross Entropy Loss (Training) : 0.06092403829097748 \n",
      "\tTest Accuracy : [0.94890476]\n",
      "\tClass wise Score : [0.96281407 0.97529848 0.95374878 0.94165907 0.9568434  0.93630042\n",
      " 0.95168308 0.94468494 0.93574879 0.92622386]\n",
      "time elapsed:20.425461530685425\n"
     ]
    },
    {
     "data": {
      "image/png": "[encoded data removed]",
      "text/plain": [
       "<Figure size 432x288 with 10 Axes>"
      ]
     },
     "metadata": {},
     "output_type": "display_data"
    }
   ],
   "source": [
    "\n",
    "t1 = time.time()\n",
    "model = SimpleClassifier(50,20)\n",
    "loss_fn = nn.CrossEntropyLoss()\n",
    "learning_rate = 0.01\n",
    "optimizer = torch.optim.Adam(model.parameters(),lr=learning_rate)\n",
    "batch_size = 200\n",
    "epochs = 10\n",
    "\n",
    "for i in range(epochs):\n",
    "    print(\"--- epochs {} ---\".format(i+1))\n",
    "    epochs_loss = train(model, xtr, ytr, loss_fn, optimizer, batch_size)\n",
    "    print(\"\\tCross Entropy Loss (Training) : {} \".format(epochs_loss))\n",
    "    test(model, xts, yts, i-epochs+2)\n",
    "\n",
    "print(f'time elapsed:{time.time() - t1}')"
   ]
  },
  {
   "cell_type": "code",
   "execution_count": null,
   "id": "36d01734",
   "metadata": {},
   "outputs": [],
   "source": []
  },
  {
   "cell_type": "markdown",
   "id": "5c77590f",
   "metadata": {},
   "source": [
    "**2. n_hl1 = 70 and n_hl2 = 30**"
   ]
  },
  {
   "cell_type": "code",
   "execution_count": 98,
   "id": "950e5e69",
   "metadata": {},
   "outputs": [],
   "source": [
    "class SimpleClassifier(nn.Module):\n",
    "    def __init__(self, n_hl1, n_hl2):\n",
    "        super().__init__()\n",
    "        self.hl1 = nn.Linear(in_features=784, out_features=n_hl1)\n",
    "        self.sig1 = nn.ReLU()\n",
    "        self.hl2 = nn.Linear(in_features=n_hl1, out_features=n_hl2)\n",
    "        self.sig2 = nn.ReLU()\n",
    "        self.op = nn.Linear(in_features=n_hl2, out_features=10)\n",
    "\n",
    "        \n",
    "    def forward(self, x):\n",
    "        x = self.hl1(x)\n",
    "        x = self.sig1(x)\n",
    "        x = self.hl2(x)\n",
    "        x = self.sig2(x)\n",
    "        x = self.op(x)\n",
    "        return x.squeeze()\n",
    "    \n",
    "    "
   ]
  },
  {
   "cell_type": "code",
   "execution_count": 99,
   "id": "d0adbc60",
   "metadata": {},
   "outputs": [],
   "source": [
    "def train(model, x, y, loss_fn, optimizer, batch_size):\n",
    "    model.train()\n",
    "    x, y = torch.Tensor(x), torch.Tensor(y)\n",
    "    \n",
    "    for i in range(0, len(x), batch_size):\n",
    "        i_end = i+batch_size\n",
    "        x_batch = x[i:min(i_end, len(x))]\n",
    "        y_batch = y[i:min(i_end, len(x))]\n",
    "        \n",
    "        pred = model(x_batch)\n",
    "        y_batch = (y_batch.to(torch.long)).squeeze_()\n",
    "        loss = loss_fn(pred, y_batch)\n",
    "        \n",
    "        optimizer.zero_grad()\n",
    "        loss.backward()\n",
    "        optimizer.step()\n",
    "        \n",
    "    return loss.item()\n",
    "    "
   ]
  },
  {
   "cell_type": "code",
   "execution_count": 100,
   "id": "f7b6dfc0",
   "metadata": {},
   "outputs": [],
   "source": [
    "def test(model, xts, yts, show):\n",
    "    model.eval()\n",
    "    with torch.no_grad():\n",
    "        xts = torch.Tensor(xts)\n",
    "        pred = model(xts)\n",
    "        yhat = np.argmax((pred.data),axis=1).numpy()\n",
    "        test_accuracy = np.sum(yts.reshape(-1)==yhat)/yhat.shape\n",
    "        print(f\"\\tTest Accuracy : {test_accuracy}\")\n",
    "        if(show==1):\n",
    "            score = f1_score(yts,yhat,average = None)\n",
    "            print(f\"\\tClass wise Score : {score}\")\n",
    "            w = list(model.parameters())\n",
    "            for i in range(10):\n",
    "                plt.subplot(2,5,i+1)\n",
    "                plt.imshow(w[0][i].detach().numpy().reshape(28,28))\n",
    "                plt.yticks([])\n",
    "                plt.xticks([])"
   ]
  },
  {
   "cell_type": "code",
   "execution_count": 101,
   "id": "218175d5",
   "metadata": {
    "scrolled": true
   },
   "outputs": [
    {
     "name": "stdout",
     "output_type": "stream",
     "text": [
      "--- epochs 1 ---\n",
      "\tCross Entropy Loss (Training) : 0.18804866075515747 \n",
      "\tTest Accuracy : [0.9442381]\n",
      "--- epochs 2 ---\n",
      "\tCross Entropy Loss (Training) : 0.12699784338474274 \n",
      "\tTest Accuracy : [0.94771429]\n",
      "--- epochs 3 ---\n",
      "\tCross Entropy Loss (Training) : 0.0669584572315216 \n",
      "\tTest Accuracy : [0.95133333]\n",
      "--- epochs 4 ---\n",
      "\tCross Entropy Loss (Training) : 0.1207289919257164 \n",
      "\tTest Accuracy : [0.95471429]\n",
      "--- epochs 5 ---\n",
      "\tCross Entropy Loss (Training) : 0.09213794767856598 \n",
      "\tTest Accuracy : [0.95152381]\n",
      "--- epochs 6 ---\n",
      "\tCross Entropy Loss (Training) : 0.11538039892911911 \n",
      "\tTest Accuracy : [0.95771429]\n",
      "--- epochs 7 ---\n",
      "\tCross Entropy Loss (Training) : 0.13154511153697968 \n",
      "\tTest Accuracy : [0.95314286]\n",
      "--- epochs 8 ---\n",
      "\tCross Entropy Loss (Training) : 0.12360671907663345 \n",
      "\tTest Accuracy : [0.9567619]\n",
      "--- epochs 9 ---\n",
      "\tCross Entropy Loss (Training) : 0.04544137045741081 \n",
      "\tTest Accuracy : [0.95695238]\n",
      "--- epochs 10 ---\n",
      "\tCross Entropy Loss (Training) : 0.17317955195903778 \n",
      "\tTest Accuracy : [0.95357143]\n",
      "\tClass wise Score : [0.9769025  0.97913654 0.95614458 0.94278434 0.95864938 0.9343477\n",
      " 0.9635514  0.95700216 0.93163216 0.93005062]\n",
      "time elapsed:21.6177396774292\n"
     ]
    },
    {
     "data": {
      "image/png": "[encoded data removed]",
      "text/plain": [
       "<Figure size 432x288 with 10 Axes>"
      ]
     },
     "metadata": {},
     "output_type": "display_data"
    }
   ],
   "source": [
    "\n",
    "t1 = time.time()\n",
    "model = SimpleClassifier(70,30)\n",
    "loss_fn = nn.CrossEntropyLoss()\n",
    "learning_rate = 0.01\n",
    "optimizer = torch.optim.Adam(model.parameters(),lr=learning_rate)\n",
    "batch_size = 200\n",
    "epochs = 10\n",
    "\n",
    "for i in range(epochs):\n",
    "    print(\"--- epochs {} ---\".format(i+1))\n",
    "    epochs_loss = train(model, xtr, ytr, loss_fn, optimizer, batch_size)\n",
    "    print(\"\\tCross Entropy Loss (Training) : {} \".format(epochs_loss))\n",
    "    test(model, xts, yts, i-epochs+2)\n",
    "\n",
    "print(f'time elapsed:{time.time() - t1}')"
   ]
  },
  {
   "cell_type": "code",
   "execution_count": null,
   "id": "6a27cdc8",
   "metadata": {},
   "outputs": [],
   "source": []
  },
  {
   "cell_type": "code",
   "execution_count": null,
   "id": "131b2c35",
   "metadata": {},
   "outputs": [],
   "source": []
  },
  {
   "cell_type": "markdown",
   "id": "7da828c1",
   "metadata": {},
   "source": [
    "### Only 3 hidden layers"
   ]
  },
  {
   "cell_type": "markdown",
   "id": "037b1c63",
   "metadata": {},
   "source": [
    "**1. n_hl1 = 100 and n_hl2 = 60 and n_hl3 = 30**"
   ]
  },
  {
   "cell_type": "code",
   "execution_count": 102,
   "id": "aea35a0c",
   "metadata": {},
   "outputs": [],
   "source": [
    "class SimpleClassifier(nn.Module):\n",
    "    def __init__(self, n_hl1, n_hl2, n_hl3):\n",
    "        super().__init__()\n",
    "        self.hl1 = nn.Linear(in_features=784, out_features=n_hl1)\n",
    "        self.sig1 = nn.ReLU()\n",
    "        self.hl2 = nn.Linear(in_features=n_hl1, out_features=n_hl2)\n",
    "        self.sig2 = nn.ReLU()\n",
    "        self.hl3 = nn.Linear(in_features=n_hl2, out_features=n_hl3)\n",
    "        self.sig3 = nn.ReLU()\n",
    "        self.op = nn.Linear(in_features=n_hl3, out_features=10)\n",
    "\n",
    "        \n",
    "    def forward(self, x):\n",
    "        x = self.hl1(x)\n",
    "        x = self.sig1(x)\n",
    "        x = self.hl2(x)\n",
    "        x = self.sig2(x)\n",
    "        x = self.hl3(x)\n",
    "        x = self.sig3(x)\n",
    "        x = self.op(x)\n",
    "        return x.squeeze()\n",
    "    \n",
    "    "
   ]
  },
  {
   "cell_type": "code",
   "execution_count": 103,
   "id": "bee31a17",
   "metadata": {},
   "outputs": [],
   "source": [
    "def train(model, x, y, loss_fn, optimizer, batch_size):\n",
    "    model.train()\n",
    "    x, y = torch.Tensor(x), torch.Tensor(y)\n",
    "    \n",
    "    for i in range(0, len(x), batch_size):\n",
    "        i_end = i+batch_size\n",
    "        x_batch = x[i:min(i_end, len(x))]\n",
    "        y_batch = y[i:min(i_end, len(x))]\n",
    "        \n",
    "        pred = model(x_batch)\n",
    "        y_batch = (y_batch.to(torch.long)).squeeze_()\n",
    "        loss = loss_fn(pred, y_batch)\n",
    "        \n",
    "        optimizer.zero_grad()\n",
    "        loss.backward()\n",
    "        optimizer.step()\n",
    "        \n",
    "    return loss.item()\n",
    "    "
   ]
  },
  {
   "cell_type": "code",
   "execution_count": 104,
   "id": "877e3292",
   "metadata": {},
   "outputs": [],
   "source": [
    "def test(model, xts, yts, show):\n",
    "    model.eval()\n",
    "    with torch.no_grad():\n",
    "        xts = torch.Tensor(xts)\n",
    "        pred = model(xts)\n",
    "        yhat = np.argmax((pred.data),axis=1).numpy()\n",
    "        test_accuracy = np.sum(yts.reshape(-1)==yhat)/yhat.shape\n",
    "        print(f\"\\tTest Accuracy : {test_accuracy}\")\n",
    "        if(show==1):\n",
    "            score = f1_score(yts,yhat,average = None)\n",
    "            print(f\"\\tClass wise Score : {score}\")\n",
    "            w = list(model.parameters())\n",
    "            for i in range(10):\n",
    "                plt.subplot(2,5,i+1)\n",
    "                plt.imshow(w[0][i].detach().numpy().reshape(28,28))\n",
    "                plt.yticks([])\n",
    "                plt.xticks([])"
   ]
  },
  {
   "cell_type": "code",
   "execution_count": 105,
   "id": "c33c0b55",
   "metadata": {
    "scrolled": true
   },
   "outputs": [
    {
     "name": "stdout",
     "output_type": "stream",
     "text": [
      "--- epochs 1 ---\n",
      "\tCross Entropy Loss (Training) : 0.18828052282333374 \n",
      "\tTest Accuracy : [0.94338095]\n",
      "--- epochs 2 ---\n",
      "\tCross Entropy Loss (Training) : 0.11766162514686584 \n",
      "\tTest Accuracy : [0.94819048]\n",
      "--- epochs 3 ---\n",
      "\tCross Entropy Loss (Training) : 0.12008615583181381 \n",
      "\tTest Accuracy : [0.95342857]\n",
      "--- epochs 4 ---\n",
      "\tCross Entropy Loss (Training) : 0.10088139772415161 \n",
      "\tTest Accuracy : [0.95347619]\n",
      "--- epochs 5 ---\n",
      "\tCross Entropy Loss (Training) : 0.07651787996292114 \n",
      "\tTest Accuracy : [0.95371429]\n",
      "--- epochs 6 ---\n",
      "\tCross Entropy Loss (Training) : 0.0726400837302208 \n",
      "\tTest Accuracy : [0.96238095]\n",
      "--- epochs 7 ---\n",
      "\tCross Entropy Loss (Training) : 0.0801565870642662 \n",
      "\tTest Accuracy : [0.96042857]\n",
      "--- epochs 8 ---\n",
      "\tCross Entropy Loss (Training) : 0.0627954751253128 \n",
      "\tTest Accuracy : [0.9587619]\n",
      "--- epochs 9 ---\n",
      "\tCross Entropy Loss (Training) : 0.05488991737365723 \n",
      "\tTest Accuracy : [0.96028571]\n",
      "--- epochs 10 ---\n",
      "\tCross Entropy Loss (Training) : 0.07354258745908737 \n",
      "\tTest Accuracy : [0.96047619]\n",
      "\tClass wise Score : [0.97792111 0.98015459 0.96080306 0.95364846 0.96177258 0.95303488\n",
      " 0.9679682  0.95729367 0.93828925 0.95105882]\n",
      "time elapsed:29.180084228515625\n"
     ]
    },
    {
     "data": {
      "image/png": "[encoded data removed]",
      "text/plain": [
       "<Figure size 432x288 with 10 Axes>"
      ]
     },
     "metadata": {},
     "output_type": "display_data"
    }
   ],
   "source": [
    "\n",
    "t1 = time.time()\n",
    "model = SimpleClassifier(100,60,30)\n",
    "loss_fn = nn.CrossEntropyLoss()\n",
    "learning_rate = 0.01\n",
    "optimizer = torch.optim.Adam(model.parameters(),lr=learning_rate)\n",
    "batch_size = 200\n",
    "epochs = 10\n",
    "\n",
    "for i in range(epochs):\n",
    "    print(\"--- epochs {} ---\".format(i+1))\n",
    "    epochs_loss = train(model, xtr, ytr, loss_fn, optimizer, batch_size)\n",
    "    print(\"\\tCross Entropy Loss (Training) : {} \".format(epochs_loss))\n",
    "    test(model, xts, yts, i-epochs+2)\n",
    "\n",
    "print(f'time elapsed:{time.time() - t1}')"
   ]
  },
  {
   "cell_type": "code",
   "execution_count": null,
   "id": "3001d6a3",
   "metadata": {},
   "outputs": [],
   "source": []
  }
 ],
 "metadata": {
  "kernelspec": {
   "display_name": "Python 3 (ipykernel)",
   "language": "python",
   "name": "python3"
  },
  "language_info": {
   "codemirror_mode": {
    "name": "ipython",
    "version": 3
   },
   "file_extension": ".py",
   "mimetype": "text/x-python",
   "name": "python",
   "nbconvert_exporter": "python",
   "pygments_lexer": "ipython3",
   "version": "3.9.7"
  }
 },
 "nbformat": 4,
 "nbformat_minor": 5
}
