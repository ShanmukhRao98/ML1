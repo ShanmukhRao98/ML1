{
 "cells": [
  {
   "cell_type": "markdown",
   "id": "0a9a8e1f",
   "metadata": {},
   "source": [
    "# &emsp;&emsp;&emsp;&emsp;&emsp;&emsp;&emsp;&emsp;&emsp;&emsp;&emsp;&emsp;Assignment 7\n",
    "\n",
    "#### Yogendra Singh  &emsp;  214161014 <br><br> M Shanmukh Rao &emsp;   214161004"
   ]
  },
  {
   "cell_type": "code",
   "execution_count": 1,
   "id": "4ae2e95c",
   "metadata": {},
   "outputs": [
    {
     "data": {
      "text/html": [
       "<div>\n",
       "<style scoped>\n",
       "    .dataframe tbody tr th:only-of-type {\n",
       "        vertical-align: middle;\n",
       "    }\n",
       "\n",
       "    .dataframe tbody tr th {\n",
       "        vertical-align: top;\n",
       "    }\n",
       "\n",
       "    .dataframe thead th {\n",
       "        text-align: right;\n",
       "    }\n",
       "</style>\n",
       "<table border=\"1\" class=\"dataframe\">\n",
       "  <thead>\n",
       "    <tr style=\"text-align: right;\">\n",
       "      <th></th>\n",
       "      <th>label</th>\n",
       "      <th>pixel0</th>\n",
       "      <th>pixel1</th>\n",
       "      <th>pixel2</th>\n",
       "      <th>pixel3</th>\n",
       "      <th>pixel4</th>\n",
       "      <th>pixel5</th>\n",
       "      <th>pixel6</th>\n",
       "      <th>pixel7</th>\n",
       "      <th>pixel8</th>\n",
       "      <th>...</th>\n",
       "      <th>pixel774</th>\n",
       "      <th>pixel775</th>\n",
       "      <th>pixel776</th>\n",
       "      <th>pixel777</th>\n",
       "      <th>pixel778</th>\n",
       "      <th>pixel779</th>\n",
       "      <th>pixel780</th>\n",
       "      <th>pixel781</th>\n",
       "      <th>pixel782</th>\n",
       "      <th>pixel783</th>\n",
       "    </tr>\n",
       "  </thead>\n",
       "  <tbody>\n",
       "    <tr>\n",
       "      <th>0</th>\n",
       "      <td>1</td>\n",
       "      <td>0</td>\n",
       "      <td>0</td>\n",
       "      <td>0</td>\n",
       "      <td>0</td>\n",
       "      <td>0</td>\n",
       "      <td>0</td>\n",
       "      <td>0</td>\n",
       "      <td>0</td>\n",
       "      <td>0</td>\n",
       "      <td>...</td>\n",
       "      <td>0</td>\n",
       "      <td>0</td>\n",
       "      <td>0</td>\n",
       "      <td>0</td>\n",
       "      <td>0</td>\n",
       "      <td>0</td>\n",
       "      <td>0</td>\n",
       "      <td>0</td>\n",
       "      <td>0</td>\n",
       "      <td>0</td>\n",
       "    </tr>\n",
       "    <tr>\n",
       "      <th>1</th>\n",
       "      <td>0</td>\n",
       "      <td>0</td>\n",
       "      <td>0</td>\n",
       "      <td>0</td>\n",
       "      <td>0</td>\n",
       "      <td>0</td>\n",
       "      <td>0</td>\n",
       "      <td>0</td>\n",
       "      <td>0</td>\n",
       "      <td>0</td>\n",
       "      <td>...</td>\n",
       "      <td>0</td>\n",
       "      <td>0</td>\n",
       "      <td>0</td>\n",
       "      <td>0</td>\n",
       "      <td>0</td>\n",
       "      <td>0</td>\n",
       "      <td>0</td>\n",
       "      <td>0</td>\n",
       "      <td>0</td>\n",
       "      <td>0</td>\n",
       "    </tr>\n",
       "    <tr>\n",
       "      <th>2</th>\n",
       "      <td>1</td>\n",
       "      <td>0</td>\n",
       "      <td>0</td>\n",
       "      <td>0</td>\n",
       "      <td>0</td>\n",
       "      <td>0</td>\n",
       "      <td>0</td>\n",
       "      <td>0</td>\n",
       "      <td>0</td>\n",
       "      <td>0</td>\n",
       "      <td>...</td>\n",
       "      <td>0</td>\n",
       "      <td>0</td>\n",
       "      <td>0</td>\n",
       "      <td>0</td>\n",
       "      <td>0</td>\n",
       "      <td>0</td>\n",
       "      <td>0</td>\n",
       "      <td>0</td>\n",
       "      <td>0</td>\n",
       "      <td>0</td>\n",
       "    </tr>\n",
       "    <tr>\n",
       "      <th>3</th>\n",
       "      <td>4</td>\n",
       "      <td>0</td>\n",
       "      <td>0</td>\n",
       "      <td>0</td>\n",
       "      <td>0</td>\n",
       "      <td>0</td>\n",
       "      <td>0</td>\n",
       "      <td>0</td>\n",
       "      <td>0</td>\n",
       "      <td>0</td>\n",
       "      <td>...</td>\n",
       "      <td>0</td>\n",
       "      <td>0</td>\n",
       "      <td>0</td>\n",
       "      <td>0</td>\n",
       "      <td>0</td>\n",
       "      <td>0</td>\n",
       "      <td>0</td>\n",
       "      <td>0</td>\n",
       "      <td>0</td>\n",
       "      <td>0</td>\n",
       "    </tr>\n",
       "    <tr>\n",
       "      <th>4</th>\n",
       "      <td>0</td>\n",
       "      <td>0</td>\n",
       "      <td>0</td>\n",
       "      <td>0</td>\n",
       "      <td>0</td>\n",
       "      <td>0</td>\n",
       "      <td>0</td>\n",
       "      <td>0</td>\n",
       "      <td>0</td>\n",
       "      <td>0</td>\n",
       "      <td>...</td>\n",
       "      <td>0</td>\n",
       "      <td>0</td>\n",
       "      <td>0</td>\n",
       "      <td>0</td>\n",
       "      <td>0</td>\n",
       "      <td>0</td>\n",
       "      <td>0</td>\n",
       "      <td>0</td>\n",
       "      <td>0</td>\n",
       "      <td>0</td>\n",
       "    </tr>\n",
       "  </tbody>\n",
       "</table>\n",
       "<p>5 rows × 785 columns</p>\n",
       "</div>"
      ],
      "text/plain": [
       "   label  pixel0  pixel1  pixel2  pixel3  pixel4  pixel5  pixel6  pixel7  \\\n",
       "0      1       0       0       0       0       0       0       0       0   \n",
       "1      0       0       0       0       0       0       0       0       0   \n",
       "2      1       0       0       0       0       0       0       0       0   \n",
       "3      4       0       0       0       0       0       0       0       0   \n",
       "4      0       0       0       0       0       0       0       0       0   \n",
       "\n",
       "   pixel8  ...  pixel774  pixel775  pixel776  pixel777  pixel778  pixel779  \\\n",
       "0       0  ...         0         0         0         0         0         0   \n",
       "1       0  ...         0         0         0         0         0         0   \n",
       "2       0  ...         0         0         0         0         0         0   \n",
       "3       0  ...         0         0         0         0         0         0   \n",
       "4       0  ...         0         0         0         0         0         0   \n",
       "\n",
       "   pixel780  pixel781  pixel782  pixel783  \n",
       "0         0         0         0         0  \n",
       "1         0         0         0         0  \n",
       "2         0         0         0         0  \n",
       "3         0         0         0         0  \n",
       "4         0         0         0         0  \n",
       "\n",
       "[5 rows x 785 columns]"
      ]
     },
     "execution_count": 1,
     "metadata": {},
     "output_type": "execute_result"
    }
   ],
   "source": [
    "import pandas as pd\n",
    "\n",
    "#loading the train data\n",
    "df = pd.read_csv ('train.csv')\n",
    "df.head()"
   ]
  },
  {
   "cell_type": "code",
   "execution_count": 2,
   "id": "adcda473",
   "metadata": {},
   "outputs": [
    {
     "data": {
      "text/html": [
       "<div>\n",
       "<style scoped>\n",
       "    .dataframe tbody tr th:only-of-type {\n",
       "        vertical-align: middle;\n",
       "    }\n",
       "\n",
       "    .dataframe tbody tr th {\n",
       "        vertical-align: top;\n",
       "    }\n",
       "\n",
       "    .dataframe thead th {\n",
       "        text-align: right;\n",
       "    }\n",
       "</style>\n",
       "<table border=\"1\" class=\"dataframe\">\n",
       "  <thead>\n",
       "    <tr style=\"text-align: right;\">\n",
       "      <th></th>\n",
       "      <th>pixel0</th>\n",
       "      <th>pixel1</th>\n",
       "      <th>pixel2</th>\n",
       "      <th>pixel3</th>\n",
       "      <th>pixel4</th>\n",
       "      <th>pixel5</th>\n",
       "      <th>pixel6</th>\n",
       "      <th>pixel7</th>\n",
       "      <th>pixel8</th>\n",
       "      <th>pixel9</th>\n",
       "      <th>...</th>\n",
       "      <th>pixel774</th>\n",
       "      <th>pixel775</th>\n",
       "      <th>pixel776</th>\n",
       "      <th>pixel777</th>\n",
       "      <th>pixel778</th>\n",
       "      <th>pixel779</th>\n",
       "      <th>pixel780</th>\n",
       "      <th>pixel781</th>\n",
       "      <th>pixel782</th>\n",
       "      <th>pixel783</th>\n",
       "    </tr>\n",
       "  </thead>\n",
       "  <tbody>\n",
       "    <tr>\n",
       "      <th>0</th>\n",
       "      <td>0</td>\n",
       "      <td>0</td>\n",
       "      <td>0</td>\n",
       "      <td>0</td>\n",
       "      <td>0</td>\n",
       "      <td>0</td>\n",
       "      <td>0</td>\n",
       "      <td>0</td>\n",
       "      <td>0</td>\n",
       "      <td>0</td>\n",
       "      <td>...</td>\n",
       "      <td>0</td>\n",
       "      <td>0</td>\n",
       "      <td>0</td>\n",
       "      <td>0</td>\n",
       "      <td>0</td>\n",
       "      <td>0</td>\n",
       "      <td>0</td>\n",
       "      <td>0</td>\n",
       "      <td>0</td>\n",
       "      <td>0</td>\n",
       "    </tr>\n",
       "    <tr>\n",
       "      <th>1</th>\n",
       "      <td>0</td>\n",
       "      <td>0</td>\n",
       "      <td>0</td>\n",
       "      <td>0</td>\n",
       "      <td>0</td>\n",
       "      <td>0</td>\n",
       "      <td>0</td>\n",
       "      <td>0</td>\n",
       "      <td>0</td>\n",
       "      <td>0</td>\n",
       "      <td>...</td>\n",
       "      <td>0</td>\n",
       "      <td>0</td>\n",
       "      <td>0</td>\n",
       "      <td>0</td>\n",
       "      <td>0</td>\n",
       "      <td>0</td>\n",
       "      <td>0</td>\n",
       "      <td>0</td>\n",
       "      <td>0</td>\n",
       "      <td>0</td>\n",
       "    </tr>\n",
       "    <tr>\n",
       "      <th>2</th>\n",
       "      <td>0</td>\n",
       "      <td>0</td>\n",
       "      <td>0</td>\n",
       "      <td>0</td>\n",
       "      <td>0</td>\n",
       "      <td>0</td>\n",
       "      <td>0</td>\n",
       "      <td>0</td>\n",
       "      <td>0</td>\n",
       "      <td>0</td>\n",
       "      <td>...</td>\n",
       "      <td>0</td>\n",
       "      <td>0</td>\n",
       "      <td>0</td>\n",
       "      <td>0</td>\n",
       "      <td>0</td>\n",
       "      <td>0</td>\n",
       "      <td>0</td>\n",
       "      <td>0</td>\n",
       "      <td>0</td>\n",
       "      <td>0</td>\n",
       "    </tr>\n",
       "    <tr>\n",
       "      <th>3</th>\n",
       "      <td>0</td>\n",
       "      <td>0</td>\n",
       "      <td>0</td>\n",
       "      <td>0</td>\n",
       "      <td>0</td>\n",
       "      <td>0</td>\n",
       "      <td>0</td>\n",
       "      <td>0</td>\n",
       "      <td>0</td>\n",
       "      <td>0</td>\n",
       "      <td>...</td>\n",
       "      <td>0</td>\n",
       "      <td>0</td>\n",
       "      <td>0</td>\n",
       "      <td>0</td>\n",
       "      <td>0</td>\n",
       "      <td>0</td>\n",
       "      <td>0</td>\n",
       "      <td>0</td>\n",
       "      <td>0</td>\n",
       "      <td>0</td>\n",
       "    </tr>\n",
       "    <tr>\n",
       "      <th>4</th>\n",
       "      <td>0</td>\n",
       "      <td>0</td>\n",
       "      <td>0</td>\n",
       "      <td>0</td>\n",
       "      <td>0</td>\n",
       "      <td>0</td>\n",
       "      <td>0</td>\n",
       "      <td>0</td>\n",
       "      <td>0</td>\n",
       "      <td>0</td>\n",
       "      <td>...</td>\n",
       "      <td>0</td>\n",
       "      <td>0</td>\n",
       "      <td>0</td>\n",
       "      <td>0</td>\n",
       "      <td>0</td>\n",
       "      <td>0</td>\n",
       "      <td>0</td>\n",
       "      <td>0</td>\n",
       "      <td>0</td>\n",
       "      <td>0</td>\n",
       "    </tr>\n",
       "  </tbody>\n",
       "</table>\n",
       "<p>5 rows × 784 columns</p>\n",
       "</div>"
      ],
      "text/plain": [
       "   pixel0  pixel1  pixel2  pixel3  pixel4  pixel5  pixel6  pixel7  pixel8  \\\n",
       "0       0       0       0       0       0       0       0       0       0   \n",
       "1       0       0       0       0       0       0       0       0       0   \n",
       "2       0       0       0       0       0       0       0       0       0   \n",
       "3       0       0       0       0       0       0       0       0       0   \n",
       "4       0       0       0       0       0       0       0       0       0   \n",
       "\n",
       "   pixel9  ...  pixel774  pixel775  pixel776  pixel777  pixel778  pixel779  \\\n",
       "0       0  ...         0         0         0         0         0         0   \n",
       "1       0  ...         0         0         0         0         0         0   \n",
       "2       0  ...         0         0         0         0         0         0   \n",
       "3       0  ...         0         0         0         0         0         0   \n",
       "4       0  ...         0         0         0         0         0         0   \n",
       "\n",
       "   pixel780  pixel781  pixel782  pixel783  \n",
       "0         0         0         0         0  \n",
       "1         0         0         0         0  \n",
       "2         0         0         0         0  \n",
       "3         0         0         0         0  \n",
       "4         0         0         0         0  \n",
       "\n",
       "[5 rows x 784 columns]"
      ]
     },
     "execution_count": 2,
     "metadata": {},
     "output_type": "execute_result"
    }
   ],
   "source": [
    "#droping the label column from the dataframe and storing it in y\n",
    "y=df['label']\n",
    "df=df.drop('label',axis=1)\n",
    "df.head()"
   ]
  },
  {
   "cell_type": "code",
   "execution_count": 3,
   "id": "88219e73",
   "metadata": {},
   "outputs": [],
   "source": [
    "#train test split\n",
    "from sklearn.model_selection import train_test_split\n",
    "X_train, X_test, y_train, y_test = train_test_split(df, y, test_size=0.1, random_state=42)"
   ]
  },
  {
   "cell_type": "code",
   "execution_count": 4,
   "id": "9f071e3e",
   "metadata": {},
   "outputs": [
    {
     "data": {
      "text/plain": [
       "(37800, 784)"
      ]
     },
     "execution_count": 4,
     "metadata": {},
     "output_type": "execute_result"
    }
   ],
   "source": [
    "X_train.shape"
   ]
  },
  {
   "cell_type": "code",
   "execution_count": 5,
   "id": "61828c12",
   "metadata": {},
   "outputs": [
    {
     "data": {
      "text/plain": [
       "(37800,)"
      ]
     },
     "execution_count": 5,
     "metadata": {},
     "output_type": "execute_result"
    }
   ],
   "source": [
    "y_train.shape"
   ]
  },
  {
   "cell_type": "code",
   "execution_count": 6,
   "id": "54dd6b3a",
   "metadata": {},
   "outputs": [
    {
     "data": {
      "text/plain": [
       "(4200, 784)"
      ]
     },
     "execution_count": 6,
     "metadata": {},
     "output_type": "execute_result"
    }
   ],
   "source": [
    "X_test.shape"
   ]
  },
  {
   "cell_type": "code",
   "execution_count": 7,
   "id": "ae545969",
   "metadata": {},
   "outputs": [],
   "source": [
    "y_train=y_train.tolist()"
   ]
  },
  {
   "cell_type": "code",
   "execution_count": 8,
   "id": "dbbbfe9a",
   "metadata": {},
   "outputs": [
    {
     "data": {
      "image/png": "[encoded data removed]",
      "text/plain": [
       "<Figure size 432x288 with 1 Axes>"
      ]
     },
     "metadata": {
      "needs_background": "light"
     },
     "output_type": "display_data"
    },
    {
     "name": "stdout",
     "output_type": "stream",
     "text": [
      "2\n"
     ]
    }
   ],
   "source": [
    "import matplotlib.pyplot as plt\n",
    "import numpy as np\n",
    "\n",
    "#check\n",
    "i=6\n",
    "gd = X_test.iloc[i].to_numpy().reshape(28,28)\n",
    "plt.imshow(gd,interpolation=\"none\",cmap=\"gray\")\n",
    "plt.show()\n",
    "\n",
    "print(y_test.iloc[i])"
   ]
  },
  {
   "cell_type": "markdown",
   "id": "fefa1266",
   "metadata": {},
   "source": [
    "# <br><br><b>1.PCA"
   ]
  },
  {
   "cell_type": "code",
   "execution_count": 9,
   "id": "665b71f3",
   "metadata": {},
   "outputs": [
    {
     "data": {
      "text/plain": [
       "(1, 784)"
      ]
     },
     "execution_count": 9,
     "metadata": {},
     "output_type": "execute_result"
    }
   ],
   "source": [
    "#calculating the mean of each dimension of the training data\n",
    "mu = X_train.mean(axis=0)\n",
    "mu = mu.to_numpy().reshape((1,784))\n",
    "mu.shape"
   ]
  },
  {
   "cell_type": "code",
   "execution_count": 10,
   "id": "b32a3858",
   "metadata": {},
   "outputs": [
    {
     "data": {
      "text/plain": [
       "(37800, 784)"
      ]
     },
     "execution_count": 10,
     "metadata": {},
     "output_type": "execute_result"
    }
   ],
   "source": [
    "#Zero-Centering of Input Data Set \n",
    "y1=X_train-mu\n",
    "y1.shape"
   ]
  },
  {
   "cell_type": "code",
   "execution_count": 11,
   "id": "330f9444",
   "metadata": {},
   "outputs": [
    {
     "data": {
      "text/plain": [
       "(784, 784)"
      ]
     },
     "execution_count": 11,
     "metadata": {},
     "output_type": "execute_result"
    }
   ],
   "source": [
    "#computing the covariance matrix\n",
    "C=np.cov(y1.T)\n",
    "C.shape"
   ]
  },
  {
   "cell_type": "code",
   "execution_count": 12,
   "id": "87115b23",
   "metadata": {},
   "outputs": [],
   "source": [
    "from numpy.linalg import eig\n",
    "\n",
    "#computing the eigenvalues and eigenvectors of the covariance matrix\n",
    "eigenvalues, eigenvectors = eig(C)"
   ]
  },
  {
   "cell_type": "code",
   "execution_count": 13,
   "id": "05e4a43a",
   "metadata": {},
   "outputs": [
    {
     "data": {
      "text/plain": [
       "(784,)"
      ]
     },
     "execution_count": 13,
     "metadata": {},
     "output_type": "execute_result"
    }
   ],
   "source": [
    "eigenvalues.shape"
   ]
  },
  {
   "cell_type": "code",
   "execution_count": 14,
   "id": "eaeb22d4",
   "metadata": {},
   "outputs": [
    {
     "data": {
      "text/plain": [
       "(784, 784)"
      ]
     },
     "execution_count": 14,
     "metadata": {},
     "output_type": "execute_result"
    }
   ],
   "source": [
    "eigenvectors.shape"
   ]
  },
  {
   "cell_type": "code",
   "execution_count": 15,
   "id": "02c5951a",
   "metadata": {},
   "outputs": [],
   "source": [
    "def PCA(eigenvectors,y1,d):\n",
    "    #taking the top d eigenvectors\n",
    "    Q=eigenvectors[:,:d]\n",
    "    #projecting the training data to a lower dimension \n",
    "    v=np.dot(Q.T,y1.T).T\n",
    "    return Q,v"
   ]
  },
  {
   "cell_type": "markdown",
   "id": "96d1ffe2",
   "metadata": {},
   "source": [
    "# <br><br>2. KD Tree"
   ]
  },
  {
   "cell_type": "code",
   "execution_count": 16,
   "id": "d9ff3cb0",
   "metadata": {},
   "outputs": [],
   "source": [
    "#creating a class Node for each node in the tree\n",
    "class Node:\n",
    "    def __init__ (self,D,i,m,lb):\n",
    "        self.left=None\n",
    "        self.data=D\n",
    "        self.label=lb\n",
    "        self.ind=i\n",
    "        self.med=m\n",
    "        self.right=None"
   ]
  },
  {
   "cell_type": "code",
   "execution_count": 17,
   "id": "97cf42e8",
   "metadata": {},
   "outputs": [],
   "source": [
    "#function to create the KD tree\n",
    "def KDTree(root,depth, depth_max,m):\n",
    "    v= root.data\n",
    "    lb=root.label\n",
    "    theta = root.med\n",
    "    j=root.ind\n",
    "    if depth<depth_max and len(v)>m:\n",
    "        Dr=[]\n",
    "        lr=[]\n",
    "        Dl=[]\n",
    "        ll=[]\n",
    "        for i in range(len(v)):\n",
    "\n",
    "            if v[i,j]>=theta:\n",
    "                Dr.append(v[i,:])\n",
    "                lr.append(lb[i])\n",
    "            else:\n",
    "                Dl.append(v[i,:])\n",
    "                ll.append(lb[i])\n",
    "        Dr=np.array(Dr)\n",
    "        Dl=np.array(Dl)\n",
    "        vr=Dr.var(axis=0)\n",
    "        vl=Dl.var(axis=0)\n",
    "        jr=np.argmax(vr)\n",
    "        jl=np.argmax(vl)\n",
    "        thetar=statistics.median(Dr[:,jr])\n",
    "        thetal=statistics.median(Dl[:,jl])\n",
    "        root.right=Node(Dr,jr,thetar,lr)\n",
    "        root.left=Node(Dl,jl,thetal,ll)\n",
    "        depth=depth+1\n",
    "        root.right=KDTree(root.right,depth, depth_max,m)\n",
    "        root.left=KDTree(root.left,depth, depth_max,m)\n",
    "    return root"
   ]
  },
  {
   "cell_type": "markdown",
   "id": "1f9c5f7b",
   "metadata": {},
   "source": [
    "# <br><br>3. Image Search"
   ]
  },
  {
   "cell_type": "code",
   "execution_count": 43,
   "id": "b6e456d2",
   "metadata": {},
   "outputs": [],
   "source": [
    "def ImageSearch(X_test,y_test,root,k):\n",
    "    #extracting one sample from test data\n",
    "    img=X_test.iloc[2,:]\n",
    "    img = img.to_numpy().reshape((1,784))\n",
    "    img1=img-mu\n",
    "    v1=np.dot(Q.T,img1.T).T\n",
    "    \n",
    "    temp=root\n",
    "    \n",
    "    #traversing the tree based on the hash functions\n",
    "    while temp.right!=None or temp.left!=None:\n",
    "        if v1[0,temp.ind]>=temp.med:\n",
    "            temp=temp.right\n",
    "        else:\n",
    "            temp=temp.left\n",
    "    D1=temp.data\n",
    "    l1=temp.label\n",
    "    dist=[]\n",
    "    \n",
    "    #calculating the euclidian distance\n",
    "    for i in range(len(D1)):\n",
    "        dist.append(np.linalg.norm(D1[i,:] - v1[0,:]))\n",
    "    dist=np.array(dist)\n",
    "    idx = np.argpartition(dist, k)\n",
    "    idx = idx[:k]\n",
    "    \n",
    "    #extracting the top k data points and their corresponding labels\n",
    "    T=D1[idx,:]\n",
    "    l1=np.array(l1)\n",
    "    Tl=l1[idx]\n",
    "    \n",
    "    #extracting the test label from test data\n",
    "    imglbl=y_test.iloc[2]\n",
    "    \n",
    "    #calculating the search precision\n",
    "    count=0\n",
    "    for i in range(k):\n",
    "        if Tl[i]==imglbl:\n",
    "            count+=1\n",
    "    print(\"Search Precision: \",(count*100)/k)\n",
    "    return T,Tl,img,imglbl"
   ]
  },
  {
   "cell_type": "markdown",
   "id": "16cc2c1e",
   "metadata": {},
   "source": [
    "<br><br><b>Search Precision for $d=400, D_{max}=3, m=600,k=5$"
   ]
  },
  {
   "cell_type": "code",
   "execution_count": 44,
   "id": "cf5ca548",
   "metadata": {},
   "outputs": [
    {
     "data": {
      "text/plain": [
       "(784, 400)"
      ]
     },
     "execution_count": 44,
     "metadata": {},
     "output_type": "execute_result"
    }
   ],
   "source": [
    "d=400\n",
    "Q,v=PCA(eigenvectors,y1,d)\n",
    "Q.shape"
   ]
  },
  {
   "cell_type": "code",
   "execution_count": 45,
   "id": "0715e2b3",
   "metadata": {},
   "outputs": [
    {
     "data": {
      "text/plain": [
       "(37800, 400)"
      ]
     },
     "execution_count": 45,
     "metadata": {},
     "output_type": "execute_result"
    }
   ],
   "source": [
    "v.shape"
   ]
  },
  {
   "cell_type": "code",
   "execution_count": 46,
   "id": "a831e6b5",
   "metadata": {},
   "outputs": [
    {
     "name": "stdout",
     "output_type": "stream",
     "text": [
      "Search Precision:  100.0\n"
     ]
    },
    {
     "data": {
      "image/png": "[encoded data removed]",
      "text/plain": [
       "<Figure size 432x288 with 1 Axes>"
      ]
     },
     "metadata": {
      "needs_background": "light"
     },
     "output_type": "display_data"
    },
    {
     "data": {
      "image/png": "[encoded data removed]",
      "text/plain": [
       "<Figure size 432x288 with 1 Axes>"
      ]
     },
     "metadata": {
      "needs_background": "light"
     },
     "output_type": "display_data"
    },
    {
     "data": {
      "image/png": "[encoded data removed]",
      "text/plain": [
       "<Figure size 432x288 with 1 Axes>"
      ]
     },
     "metadata": {
      "needs_background": "light"
     },
     "output_type": "display_data"
    },
    {
     "data": {
      "image/png": "[encoded data removed]",
      "text/plain": [
       "<Figure size 432x288 with 1 Axes>"
      ]
     },
     "metadata": {
      "needs_background": "light"
     },
     "output_type": "display_data"
    },
    {
     "data": {
      "image/png": "[encoded data removed]",
      "text/plain": [
       "<Figure size 432x288 with 1 Axes>"
      ]
     },
     "metadata": {
      "needs_background": "light"
     },
     "output_type": "display_data"
    }
   ],
   "source": [
    "variance=v.var(axis=0)\n",
    "j=np.argmax(variance)\n",
    "\n",
    "import statistics\n",
    "theta=statistics.median(v[:,j])\n",
    "\n",
    "root=Node(v,j,theta,y_train)\n",
    "\n",
    "depth_max =3\n",
    "m=600\n",
    "k=5\n",
    "root=KDTree(root,0, depth_max,m)\n",
    "\n",
    "D,L,img,imglbl=ImageSearch(X_test,y_test,root,k)\n",
    "\n",
    "for i in range(D.shape[0]):\n",
    "    for j in range (D.shape[1]):\n",
    "        D[i][j]=D[i][j].real\n",
    "D1=np.matmul(D,Q.T)+mu\n",
    "for i in range(D1.shape[0]):\n",
    "    plt.figure()\n",
    "    plt.imshow(D1[i].reshape(28,28))"
   ]
  },
  {
   "cell_type": "code",
   "execution_count": 47,
   "id": "316b29f8",
   "metadata": {},
   "outputs": [
    {
     "data": {
      "image/png": "[encoded data removed]",
      "text/plain": [
       "<Figure size 432x288 with 1 Axes>"
      ]
     },
     "metadata": {
      "needs_background": "light"
     },
     "output_type": "display_data"
    },
    {
     "name": "stdout",
     "output_type": "stream",
     "text": [
      "9\n"
     ]
    }
   ],
   "source": [
    "gd = img.reshape(28,28)\n",
    "plt.imshow(gd,interpolation=\"none\",cmap=\"gray\")\n",
    "plt.show()\n",
    "\n",
    "print(imglbl)"
   ]
  },
  {
   "cell_type": "markdown",
   "id": "ddb90ff6",
   "metadata": {},
   "source": [
    "<br><br><b>Search Precision for $d=300, D_{max}=5, m=10,k=600$"
   ]
  },
  {
   "cell_type": "code",
   "execution_count": 40,
   "id": "2ede716c",
   "metadata": {},
   "outputs": [
    {
     "data": {
      "text/plain": [
       "(784, 300)"
      ]
     },
     "execution_count": 40,
     "metadata": {},
     "output_type": "execute_result"
    }
   ],
   "source": [
    "d=300\n",
    "Q,v=PCA(eigenvectors,y1,d)\n",
    "Q.shape"
   ]
  },
  {
   "cell_type": "code",
   "execution_count": 41,
   "id": "6bc11b2a",
   "metadata": {},
   "outputs": [
    {
     "data": {
      "text/plain": [
       "(37800, 300)"
      ]
     },
     "execution_count": 41,
     "metadata": {},
     "output_type": "execute_result"
    }
   ],
   "source": [
    "v.shape"
   ]
  },
  {
   "cell_type": "code",
   "execution_count": 24,
   "id": "017e73e6",
   "metadata": {},
   "outputs": [
    {
     "name": "stdout",
     "output_type": "stream",
     "text": [
      "Search Precision:  100.0\n"
     ]
    }
   ],
   "source": [
    "variance=v.var(axis=0)\n",
    "j=np.argmax(variance)\n",
    "\n",
    "import statistics\n",
    "theta=statistics.median(v[:,j])\n",
    "\n",
    "root=Node(v,j,theta,y_train)\n",
    "\n",
    "depth_max =5\n",
    "m=10\n",
    "k=6\n",
    "root=KDTree(root,0, depth_max,m)\n",
    "\n",
    "ImageSearch(X_test,y_test,root,k)"
   ]
  },
  {
   "cell_type": "code",
   "execution_count": null,
   "id": "28355eed",
   "metadata": {},
   "outputs": [],
   "source": [
    "for i in range(k):\n",
    "gd = X_test.iloc[i].to_numpy().reshape(28,28)\n",
    "plt.imshow(gd,interpolation=\"none\",cmap=\"gray\")\n",
    "plt.show()\n",
    "\n",
    "print(y_test.iloc[i])"
   ]
  },
  {
   "cell_type": "markdown",
   "id": "4673fb1a",
   "metadata": {},
   "source": [
    "<br><br><b>Search Precision for $d=300, D_{max}=5, m=50,k=10$"
   ]
  },
  {
   "cell_type": "code",
   "execution_count": null,
   "id": "b48cc891",
   "metadata": {},
   "outputs": [],
   "source": [
    "d=300\n",
    "Q,v=PCA(eigenvectors,y1,d)\n",
    "Q.shape"
   ]
  },
  {
   "cell_type": "code",
   "execution_count": null,
   "id": "04acfa4c",
   "metadata": {},
   "outputs": [],
   "source": [
    "v.shape"
   ]
  },
  {
   "cell_type": "code",
   "execution_count": null,
   "id": "4b8d05b6",
   "metadata": {},
   "outputs": [],
   "source": [
    "variance=v.var(axis=0)\n",
    "j=np.argmax(variance)\n",
    "\n",
    "import statistics\n",
    "theta=statistics.median(v[:,j])\n",
    "\n",
    "root=Node(v,j,theta,y_train)\n",
    "\n",
    "depth_max =5\n",
    "m=50\n",
    "k=10\n",
    "root=KDTree(root,0, depth_max,m)\n",
    "\n",
    "ImageSearch(X_test,y_test,root,k)"
   ]
  }
 ],
 "metadata": {
  "kernelspec": {
   "display_name": "Python 3 (ipykernel)",
   "language": "python",
   "name": "python3"
  },
  "language_info": {
   "codemirror_mode": {
    "name": "ipython",
    "version": 3
   },
   "file_extension": ".py",
   "mimetype": "text/x-python",
   "name": "python",
   "nbconvert_exporter": "python",
   "pygments_lexer": "ipython3",
   "version": "3.10.2"
  }
 },
 "nbformat": 4,
 "nbformat_minor": 5
}
